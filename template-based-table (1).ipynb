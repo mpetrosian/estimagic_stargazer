{
 "cells": [
  {
   "cell_type": "markdown",
   "metadata": {},
   "source": [
    "# A template-based table-maker\n",
    "\n",
    "This document proposes a template-based design to render regression tables and similar parameter-presentations.\n",
    "\n",
    "## Naming\n",
    "\n",
    "The most important part of new package, the name.\n",
    "\n",
    "- `import tabula_rasa as tr`\n",
    "\n",
    "## Problems with existing solutions\n",
    "\n",
    "\n",
    "\n",
    "## Proposal"
   ]
  },
  {
   "cell_type": "code",
   "execution_count": 5,
   "metadata": {},
   "outputs": [
    {
     "ename": "ModuleNotFoundError",
     "evalue": "No module named 'stargazer'",
     "output_type": "error",
     "traceback": [
      "\u001b[1;31m---------------------------------------------------------------------------\u001b[0m",
      "\u001b[1;31mModuleNotFoundError\u001b[0m                       Traceback (most recent call last)",
      "\u001b[1;32m<ipython-input-5-ce6e3ad9552f>\u001b[0m in \u001b[0;36m<module>\u001b[1;34m\u001b[0m\n\u001b[0;32m      6\u001b[0m \u001b[1;32mfrom\u001b[0m \u001b[0mIPython\u001b[0m\u001b[1;33m.\u001b[0m\u001b[0mcore\u001b[0m\u001b[1;33m.\u001b[0m\u001b[0mdisplay\u001b[0m \u001b[1;32mimport\u001b[0m \u001b[0mHTML\u001b[0m\u001b[1;33m\u001b[0m\u001b[1;33m\u001b[0m\u001b[0m\n\u001b[0;32m      7\u001b[0m \u001b[1;32mfrom\u001b[0m \u001b[0mpathlib\u001b[0m \u001b[1;32mimport\u001b[0m \u001b[0mPath\u001b[0m\u001b[1;33m\u001b[0m\u001b[1;33m\u001b[0m\u001b[0m\n\u001b[1;32m----> 8\u001b[1;33m \u001b[1;32mfrom\u001b[0m \u001b[0mstargazer\u001b[0m \u001b[1;32mimport\u001b[0m \u001b[0mextract_info_from_sm\u001b[0m\u001b[1;33m\u001b[0m\u001b[1;33m\u001b[0m\u001b[0m\n\u001b[0m\u001b[0;32m      9\u001b[0m \u001b[1;32mfrom\u001b[0m \u001b[0mstargazer\u001b[0m \u001b[1;32mimport\u001b[0m \u001b[0mextract_params_from_sm\u001b[0m\u001b[1;33m\u001b[0m\u001b[1;33m\u001b[0m\u001b[0m\n",
      "\u001b[1;31mModuleNotFoundError\u001b[0m: No module named 'stargazer'"
     ]
    }
   ],
   "source": [
    "import jinja2\n",
    "import pandas as pd\n",
    "import numpy as np\n",
    "import statsmodels.formula.api as smf\n",
    "\n",
    "from IPython.core.display import HTML\n",
    "from pathlib import Path\n",
    "from stargazer import extract_info_from_sm\n",
    "from stargazer import extract_params_from_sm"
   ]
  },
  {
   "cell_type": "code",
   "execution_count": 6,
   "metadata": {},
   "outputs": [],
   "source": [
    "def generate_random_data():\n",
    "    np.random.seed(1)\n",
    "\n",
    "    n_samples = 10_000\n",
    "\n",
    "    constant = 0.1\n",
    "    epsilon = np.random.normal(size=n_samples)\n",
    "    beta = np.random.uniform(-1, 1)\n",
    "\n",
    "    df = pd.DataFrame({\"x\": np.random.normal(loc=0, scale=1, size=n_samples),})\n",
    "\n",
    "    z = constant + beta * df.x + epsilon\n",
    "    pr = 1 / (1 + np.exp(-z))\n",
    "\n",
    "    df[\"y\"] = np.random.binomial(1, pr)\n",
    "    \n",
    "    return df\n",
    "\n",
    "\n",
    "def generate_params_and_info(df):\n",
    "    model = smf.ols(formula=\"y ~ x\", data=df).fit()\n",
    "    model_info = {\n",
    "        \"params\": extract_params_from_sm(model),\n",
    "        \"info\": extract_info_from_sm(model),\n",
    "    }\n",
    "    # Add number of observations.\n",
    "    model_info[\"info\"][\"n_obs\"] = 10_000   \n",
    "    \n",
    "    return model_info"
   ]
  },
  {
   "cell_type": "markdown",
   "metadata": {},
   "source": [
    "## Examples\n",
    "\n",
    "In the following, I am going to demonstrate the capabilities of templates using, first, an OLS regression and, secondly, I show how to make a Logit regression table without changing the source code, just by allowing the user to overwrite templates. We start with a `params` DataFrame and a `namedtuple` with additional information.\n",
    "\n",
    "### Example 1 - Syntax and Footer\n",
    "\n",
    "The first example shows a little bit of Jinja Syntax."
   ]
  },
  {
   "cell_type": "code",
   "execution_count": 7,
   "metadata": {},
   "outputs": [
    {
     "ename": "NameError",
     "evalue": "name 'extract_params_from_sm' is not defined",
     "output_type": "error",
     "traceback": [
      "\u001b[1;31m---------------------------------------------------------------------------\u001b[0m",
      "\u001b[1;31mNameError\u001b[0m                                 Traceback (most recent call last)",
      "\u001b[1;32m<ipython-input-7-6f189962bd53>\u001b[0m in \u001b[0;36m<module>\u001b[1;34m\u001b[0m\n\u001b[0;32m      1\u001b[0m \u001b[0mdf\u001b[0m \u001b[1;33m=\u001b[0m \u001b[0mgenerate_random_data\u001b[0m\u001b[1;33m(\u001b[0m\u001b[1;33m)\u001b[0m\u001b[1;33m\u001b[0m\u001b[1;33m\u001b[0m\u001b[0m\n\u001b[1;32m----> 2\u001b[1;33m \u001b[0mmodel\u001b[0m \u001b[1;33m=\u001b[0m \u001b[0mgenerate_params_and_info\u001b[0m\u001b[1;33m(\u001b[0m\u001b[0mdf\u001b[0m\u001b[1;33m)\u001b[0m\u001b[1;33m\u001b[0m\u001b[1;33m\u001b[0m\u001b[0m\n\u001b[0m\u001b[0;32m      3\u001b[0m \u001b[0mmodel\u001b[0m\u001b[1;33m.\u001b[0m\u001b[0mparams\u001b[0m\u001b[1;33m\u001b[0m\u001b[1;33m\u001b[0m\u001b[0m\n",
      "\u001b[1;32m<ipython-input-6-dfc143ffc842>\u001b[0m in \u001b[0;36mgenerate_params_and_info\u001b[1;34m(df)\u001b[0m\n\u001b[0;32m     21\u001b[0m     \u001b[0mmodel\u001b[0m \u001b[1;33m=\u001b[0m \u001b[0msmf\u001b[0m\u001b[1;33m.\u001b[0m\u001b[0mols\u001b[0m\u001b[1;33m(\u001b[0m\u001b[0mformula\u001b[0m\u001b[1;33m=\u001b[0m\u001b[1;34m\"y ~ x\"\u001b[0m\u001b[1;33m,\u001b[0m \u001b[0mdata\u001b[0m\u001b[1;33m=\u001b[0m\u001b[0mdf\u001b[0m\u001b[1;33m)\u001b[0m\u001b[1;33m.\u001b[0m\u001b[0mfit\u001b[0m\u001b[1;33m(\u001b[0m\u001b[1;33m)\u001b[0m\u001b[1;33m\u001b[0m\u001b[1;33m\u001b[0m\u001b[0m\n\u001b[0;32m     22\u001b[0m     model_info = {\n\u001b[1;32m---> 23\u001b[1;33m         \u001b[1;34m\"params\"\u001b[0m\u001b[1;33m:\u001b[0m \u001b[0mextract_params_from_sm\u001b[0m\u001b[1;33m(\u001b[0m\u001b[0mmodel\u001b[0m\u001b[1;33m)\u001b[0m\u001b[1;33m,\u001b[0m\u001b[1;33m\u001b[0m\u001b[1;33m\u001b[0m\u001b[0m\n\u001b[0m\u001b[0;32m     24\u001b[0m         \u001b[1;34m\"info\"\u001b[0m\u001b[1;33m:\u001b[0m \u001b[0mextract_info_from_sm\u001b[0m\u001b[1;33m(\u001b[0m\u001b[0mmodel\u001b[0m\u001b[1;33m)\u001b[0m\u001b[1;33m,\u001b[0m\u001b[1;33m\u001b[0m\u001b[1;33m\u001b[0m\u001b[0m\n\u001b[0;32m     25\u001b[0m     }\n",
      "\u001b[1;31mNameError\u001b[0m: name 'extract_params_from_sm' is not defined"
     ]
    }
   ],
   "source": [
    "df = generate_random_data()\n",
    "model = generate_params_and_info(df)\n",
    "model.params"
   ]
  },
  {
   "cell_type": "markdown",
   "metadata": {},
   "source": [
    "Let us start with a simple Jinja2 template for the footer and play a little bit around.\n",
    "\n",
    "The following cell contains the code for the footer. The section does not include any borderlines or other sections like the parameters and notes. The combination of the individual pieces will be handled by a master document later.\n",
    "\n",
    "There are two different Jinja syntaxes in this template.\n",
    "\n",
    "- Double curly braces like `{{ n_obs }}` allow to insert Python variables into the template.\n",
    "- `{% if n_obs is defined %}<do something>{% endif %}` are if-elif-else constructs. There is a special check for whether a variable is supplied to the template or not. This allows to omit variables."
   ]
  },
  {
   "cell_type": "code",
   "execution_count": 4,
   "metadata": {},
   "outputs": [
    {
     "data": {
      "text/html": [
       "\n",
       "<table style=\"text-align:center\">\n",
       "    </tr>\n",
       "    {% if n_obs is defined %}\n",
       "    <tr>\n",
       "        <td style=\"text-align: left\">Observations</td>\n",
       "        <td>{{ n_obs }}</td>\n",
       "    </tr>\n",
       "    {% endif %}\n",
       "    {% if rsquared is defined %}\n",
       "    <tr>\n",
       "        <td style=\"text-align: left\">R<sup>2</sup></td>\n",
       "        <td>{{ rsquared }}</td>\n",
       "    </tr>\n",
       "    {% endif %}\n",
       "    {% if rsquared_adj is defined %}\n",
       "    <tr>\n",
       "        <td style=\"text-align: left\">Adjusted R<sup>2</sup></td>\n",
       "        <td>{{ rsquared_adj }}</td>\n",
       "    </tr>\n",
       "    {% endif %}\n",
       "    {% if fvalue is defined %}\n",
       "    <tr>\n",
       "        <td style=\"text-align: left\">F Statistic</td>\n",
       "        <td>{{ fvalue }}<sup>****</sup>{% if df_model is defined and df_resid is defined %}(df = {{ df_model }}; {{ df_resid }}){% endif %}</td>\n",
       "    </tr>\n",
       "    {% endif %}\n",
       "</table>\n"
      ],
      "text/plain": [
       "<IPython.core.display.HTML object>"
      ]
     },
     "execution_count": 4,
     "metadata": {},
     "output_type": "execute_result"
    }
   ],
   "source": [
    "footer = \"\"\"\n",
    "<table style=\"text-align:center\">\n",
    "    </tr>\n",
    "    {% if n_obs is defined %}\n",
    "    <tr>\n",
    "        <td style=\"text-align: left\">Observations</td>\n",
    "        <td>{{ n_obs }}</td>\n",
    "    </tr>\n",
    "    {% endif %}\n",
    "    {% if rsquared is defined %}\n",
    "    <tr>\n",
    "        <td style=\"text-align: left\">R<sup>2</sup></td>\n",
    "        <td>{{ rsquared }}</td>\n",
    "    </tr>\n",
    "    {% endif %}\n",
    "    {% if rsquared_adj is defined %}\n",
    "    <tr>\n",
    "        <td style=\"text-align: left\">Adjusted R<sup>2</sup></td>\n",
    "        <td>{{ rsquared_adj }}</td>\n",
    "    </tr>\n",
    "    {% endif %}\n",
    "    {% if fvalue is defined %}\n",
    "    <tr>\n",
    "        <td style=\"text-align: left\">F Statistic</td>\n",
    "        <td>{{ fvalue }}<sup>****</sup>{% if df_model is defined and df_resid is defined %}(df = {{ df_model }}; {{ df_resid }}){% endif %}</td>\n",
    "    </tr>\n",
    "    {% endif %}\n",
    "</table>\n",
    "\"\"\"\n",
    "HTML(footer)"
   ]
  },
  {
   "cell_type": "markdown",
   "metadata": {},
   "source": [
    "Here we turn the string into a template."
   ]
  },
  {
   "cell_type": "code",
   "execution_count": 5,
   "metadata": {},
   "outputs": [],
   "source": [
    "template = jinja2.Template(footer)"
   ]
  },
  {
   "cell_type": "markdown",
   "metadata": {},
   "source": [
    "We can supply variable to the template and render it."
   ]
  },
  {
   "cell_type": "code",
   "execution_count": 6,
   "metadata": {},
   "outputs": [
    {
     "data": {
      "text/html": [
       "\n",
       "<table style=\"text-align:center\">\n",
       "    </tr>\n",
       "    \n",
       "    <tr>\n",
       "        <td style=\"text-align: left\">Observations</td>\n",
       "        <td>100</td>\n",
       "    </tr>\n",
       "    \n",
       "    \n",
       "    \n",
       "    \n",
       "</table>"
      ],
      "text/plain": [
       "<IPython.core.display.HTML object>"
      ]
     },
     "execution_count": 6,
     "metadata": {},
     "output_type": "execute_result"
    }
   ],
   "source": [
    "HTML(template.render(n_obs=100))"
   ]
  },
  {
   "cell_type": "code",
   "execution_count": 7,
   "metadata": {},
   "outputs": [
    {
     "data": {
      "text/html": [
       "\n",
       "<table style=\"text-align:center\">\n",
       "    </tr>\n",
       "    \n",
       "    \n",
       "    <tr>\n",
       "        <td style=\"text-align: left\">R<sup>2</sup></td>\n",
       "        <td>0.95</td>\n",
       "    </tr>\n",
       "    \n",
       "    \n",
       "    <tr>\n",
       "        <td style=\"text-align: left\">Adjusted R<sup>2</sup></td>\n",
       "        <td>0.9</td>\n",
       "    </tr>\n",
       "    \n",
       "    \n",
       "</table>"
      ],
      "text/plain": [
       "<IPython.core.display.HTML object>"
      ]
     },
     "execution_count": 7,
     "metadata": {},
     "output_type": "execute_result"
    }
   ],
   "source": [
    "HTML(template.render(rsquared=0.95, rsquared_adj=0.9))"
   ]
  },
  {
   "cell_type": "code",
   "execution_count": 8,
   "metadata": {},
   "outputs": [
    {
     "data": {
      "text/html": [
       "\n",
       "<table style=\"text-align:center\">\n",
       "    </tr>\n",
       "    \n",
       "    \n",
       "    \n",
       "    \n",
       "    <tr>\n",
       "        <td style=\"text-align: left\">F Statistic</td>\n",
       "        <td>0.9<sup>****</sup></td>\n",
       "    </tr>\n",
       "    \n",
       "</table>"
      ],
      "text/plain": [
       "<IPython.core.display.HTML object>"
      ]
     },
     "execution_count": 8,
     "metadata": {},
     "output_type": "execute_result"
    }
   ],
   "source": [
    "HTML(template.render(fvalue=0.9, df_model=1))"
   ]
  },
  {
   "cell_type": "code",
   "execution_count": 9,
   "metadata": {},
   "outputs": [
    {
     "data": {
      "text/html": [
       "\n",
       "<table style=\"text-align:center\">\n",
       "    </tr>\n",
       "    \n",
       "    \n",
       "    \n",
       "    \n",
       "    <tr>\n",
       "        <td style=\"text-align: left\">F Statistic</td>\n",
       "        <td>0.9<sup>****</sup>(df = 1; 999)</td>\n",
       "    </tr>\n",
       "    \n",
       "</table>"
      ],
      "text/plain": [
       "<IPython.core.display.HTML object>"
      ]
     },
     "execution_count": 9,
     "metadata": {},
     "output_type": "execute_result"
    }
   ],
   "source": [
    "HTML(template.render(fvalue=0.9, df_model=1, df_resid=999))"
   ]
  },
  {
   "cell_type": "markdown",
   "metadata": {},
   "source": [
    "### Example 2 - Environments and Master Document\n",
    "\n",
    "We take another step. Here we are going to define the master document which embeds the footer and look at template environments which are collections of templates.\n",
    "\n",
    "First, we are going to write the templates for the master document and the footer to the disk and load the templates into a template environment. The new directive to learn is `{% extends 'asd' %}` which indicates that this template allows to extend the mentioned template. Extensions are defined as blocks. We wrap the whole footer into a block called footer.\n",
    "\n",
    "The Jinja2 feature is called [template inheritance](https://jinja.palletsprojects.com/en/2.11.x/templates/#template-inheritance) and seems unnecessary complicated at first, but it will allow the user to inject templates herself and overwrite existing ones."
   ]
  },
  {
   "cell_type": "code",
   "execution_count": 18,
   "metadata": {},
   "outputs": [],
   "source": [
    "path = Path(\"templates\").resolve()\n",
    "path.mkdir(exist_ok=True)"
   ]
  },
  {
   "cell_type": "code",
   "execution_count": 116,
   "metadata": {},
   "outputs": [
    {
     "name": "stdout",
     "output_type": "stream",
     "text": [
      "Overwriting templates/footer.html\n"
     ]
    }
   ],
   "source": [
    "%%writefile templates/footer.html\n",
    "{% extends \"ols.html\" %}\n",
    "\n",
    "{% block footer %}\n",
    "    Hello\n",
    "{% if n_obs is defined %}\n",
    "<tr>\n",
    "    <td style=\"text-align: left\">Observations</td>\n",
    "    <td>{{ n_obs }}</td>\n",
    "</tr>\n",
    "{% endif %}\n",
    "{% if rsquared is defined %}\n",
    "<tr>\n",
    "    <td style=\"text-align: left\">R<sup>2</sup></td>\n",
    "    <td>{{ rsquared }}</td>\n",
    "</tr>\n",
    "{% endif %}\n",
    "{% if rsquared_adj is defined %}\n",
    "<tr>\n",
    "    <td style=\"text-align: left\">Adjusted R<sup>2</sup></td>\n",
    "    <td>{{ rsquared_adj }}</td>\n",
    "</tr>\n",
    "{% endif %}\n",
    "{% if fvalue is defined %}\n",
    "<tr>\n",
    "    <td style=\"text-align: left\">F Statistic</td>\n",
    "    <td>{{ fvalue }}<sup>****</sup>{% if df_model is defined and df_resid is defined %}(df = {{ df_model }}; {{ df_resid }}){% endif %}</td>\n",
    "</tr>\n",
    "{% endif %}\n",
    "{% endblock %}"
   ]
  },
  {
   "cell_type": "markdown",
   "metadata": {},
   "source": [
    "Next, here comes the master document. At an appropriate position, we insert the block directive which will be filled with the footer."
   ]
  },
  {
   "cell_type": "code",
   "execution_count": 125,
   "metadata": {},
   "outputs": [
    {
     "name": "stdout",
     "output_type": "stream",
     "text": [
      "Overwriting templates/ols.html\n"
     ]
    }
   ],
   "source": [
    "%%writefile templates/ols.html\n",
    "<table style=\"text-align:center\">\n",
    "\n",
    "    <tr>\n",
    "        <td colspan=\"2\" style=\"border-bottom: 1px solid black\">{{ title }}</td>\n",
    "    </tr>\n",
    "\n",
    "    <td colspan=\"2\" style=\"border-bottom: 1px solid black\"></td>\n",
    "\n",
    "    {% block footer %}Default block value. Should be overwritten by footer.html. WHY?!{% endblock %}\n",
    "\n",
    "    <td colspan=\"2\" style=\"border-bottom: 1px solid black\"></td>\n",
    "\n",
    "</table>"
   ]
  },
  {
   "cell_type": "markdown",
   "metadata": {},
   "source": [
    "Now, we collect the templates in an [environment](https://jinja.palletsprojects.com/en/2.11.x/api/#jinja2.Environment). You require the environment and loaders to collect the templates. [Loaders](https://jinja.palletsprojects.com/en/2.11.x/api/#loaders) exist in various forms."
   ]
  },
  {
   "cell_type": "code",
   "execution_count": 126,
   "metadata": {},
   "outputs": [],
   "source": [
    "loader = jinja2.FileSystemLoader(path)\n",
    "env = jinja2.Environment(\n",
    "    autoescape=jinja2.select_autoescape(['html', 'htm', 'xml']),\n",
    "    loader=loader,\n",
    ")"
   ]
  },
  {
   "cell_type": "markdown",
   "metadata": {},
   "source": [
    "Let us render the master document."
   ]
  },
  {
   "cell_type": "code",
   "execution_count": 127,
   "metadata": {},
   "outputs": [],
   "source": [
    "template = env.get_template(\"ols.html\")"
   ]
  },
  {
   "cell_type": "code",
   "execution_count": 128,
   "metadata": {},
   "outputs": [
    {
     "name": "stdout",
     "output_type": "stream",
     "text": [
      "<table style=\"text-align:center\">\n",
      "\n",
      "    <tr>\n",
      "        <td colspan=\"2\" style=\"border-bottom: 1px solid black\">OLS Regression</td>\n",
      "    </tr>\n",
      "\n",
      "    <td colspan=\"2\" style=\"border-bottom: 1px solid black\"></td>\n",
      "\n",
      "    Default block value. Should be overwritten by footer.html. WHY?!\n",
      "\n",
      "    <td colspan=\"2\" style=\"border-bottom: 1px solid black\"></td>\n",
      "\n",
      "</table>\n"
     ]
    }
   ],
   "source": [
    "print(template.render(title=\"OLS Regression\", n_obs=1000, fvalue=0.9))"
   ]
  }
 ],
 "metadata": {
  "kernelspec": {
   "display_name": "Python 3",
   "language": "python",
   "name": "python3"
  },
  "language_info": {
   "codemirror_mode": {
    "name": "ipython",
    "version": 3
   },
   "file_extension": ".py",
   "mimetype": "text/x-python",
   "name": "python",
   "nbconvert_exporter": "python",
   "pygments_lexer": "ipython3",
   "version": "3.7.3"
  }
 },
 "nbformat": 4,
 "nbformat_minor": 4
}
