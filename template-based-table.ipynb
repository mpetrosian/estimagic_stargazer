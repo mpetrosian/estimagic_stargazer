{
 "cells": [
  {
   "cell_type": "markdown",
   "metadata": {},
   "source": [
    "# A template-based table-maker\n",
    "\n",
    "This document proposes a template-based design to render regression tables and similar parameter-presentations.\n",
    "\n",
    "## Naming\n",
    "\n",
    "The most important part of new package, the name.\n",
    "\n",
    "- `import tabula_rasa as tr`\n",
    "\n",
    "## Problems with existing solutions\n",
    "\n",
    "\n",
    "\n",
    "## Proposal"
   ]
  },
  {
   "cell_type": "code",
   "execution_count": 23,
   "metadata": {},
   "outputs": [],
   "source": [
    "import jinja2\n",
    "import pandas as pd\n",
    "import numpy as np\n",
    "import statsmodels.formula.api as smf\n",
    "\n",
    "from IPython.core.display import HTML\n",
    "from pathlib import Path\n",
    "from estimagic_stargazer.stargazer import extract_info_from_sm\n",
    "from estimagic_stargazer.stargazer import extract_params_from_sm"
   ]
  },
  {
   "cell_type": "code",
   "execution_count": 24,
   "metadata": {},
   "outputs": [],
   "source": [
    "def generate_random_data():\n",
    "    np.random.seed(1)\n",
    "\n",
    "    n_samples = 10_000\n",
    "\n",
    "    constant = 0.1\n",
    "    epsilon = np.random.normal(size=n_samples)\n",
    "    beta = np.random.uniform(-1, 1)\n",
    "\n",
    "    df = pd.DataFrame({\"x\": np.random.normal(loc=0, scale=1, size=n_samples),})\n",
    "\n",
    "    z = constant + beta * df.x + epsilon\n",
    "    pr = 1 / (1 + np.exp(-z))\n",
    "\n",
    "    df[\"y\"] = np.random.binomial(1, pr)\n",
    "    \n",
    "    return df\n",
    "\n",
    "\n",
    "def generate_params_and_info(df):\n",
    "    model = smf.ols(formula=\"y ~ x\", data=df).fit()\n",
    "    model_info = {\n",
    "        \"params\": extract_params_from_sm(model),\n",
    "        \"info\": extract_info_from_sm(model),\n",
    "    }\n",
    "    # Add number of observations.\n",
    "    model_info[\"info\"][\"n_obs\"] = 10_000   \n",
    "    \n",
    "    return model_info"
   ]
  },
  {
   "cell_type": "markdown",
   "metadata": {},
   "source": [
    "## Examples\n",
    "\n",
    "In the following, I am going to demonstrate the capabilities of templates using, first, an OLS regression and, secondly, I show how to make a Logit regression table without changing the source code, just by allowing the user to overwrite templates. We start with a `params` DataFrame and a `namedtuple` with additional information.\n",
    "\n",
    "### Example 1 - Syntax and Footer\n",
    "\n",
    "The first example shows a little bit of Jinja Syntax."
   ]
  },
  {
   "cell_type": "code",
   "execution_count": 25,
   "metadata": {},
   "outputs": [
    {
     "data": {
      "text/html": [
       "<div>\n",
       "<style scoped>\n",
       "    .dataframe tbody tr th:only-of-type {\n",
       "        vertical-align: middle;\n",
       "    }\n",
       "\n",
       "    .dataframe tbody tr th {\n",
       "        vertical-align: top;\n",
       "    }\n",
       "\n",
       "    .dataframe thead th {\n",
       "        text-align: right;\n",
       "    }\n",
       "</style>\n",
       "<table border=\"1\" class=\"dataframe\">\n",
       "  <thead>\n",
       "    <tr style=\"text-align: right;\">\n",
       "      <th></th>\n",
       "      <th>value</th>\n",
       "      <th>pvalue</th>\n",
       "      <th>standard_error</th>\n",
       "      <th>ci_lower</th>\n",
       "      <th>ci_upper</th>\n",
       "    </tr>\n",
       "  </thead>\n",
       "  <tbody>\n",
       "    <tr>\n",
       "      <th>Intercept</th>\n",
       "      <td>0.523305</td>\n",
       "      <td>0.000000e+00</td>\n",
       "      <td>0.004779</td>\n",
       "      <td>0.513937</td>\n",
       "      <td>0.532673</td>\n",
       "    </tr>\n",
       "    <tr>\n",
       "      <th>x</th>\n",
       "      <td>0.143708</td>\n",
       "      <td>5.500295e-194</td>\n",
       "      <td>0.004730</td>\n",
       "      <td>0.134436</td>\n",
       "      <td>0.152981</td>\n",
       "    </tr>\n",
       "  </tbody>\n",
       "</table>\n",
       "</div>"
      ],
      "text/plain": [
       "              value         pvalue  standard_error  ci_lower  ci_upper\n",
       "Intercept  0.523305   0.000000e+00        0.004779  0.513937  0.532673\n",
       "x          0.143708  5.500295e-194        0.004730  0.134436  0.152981"
      ]
     },
     "execution_count": 25,
     "metadata": {},
     "output_type": "execute_result"
    }
   ],
   "source": [
    "df = generate_random_data()\n",
    "model = generate_params_and_info(df)\n",
    "model['params']"
   ]
  },
  {
   "cell_type": "markdown",
   "metadata": {},
   "source": [
    "Let us start with a simple Jinja2 template for the footer and play a little bit around.\n",
    "\n",
    "The following cell contains the code for the footer. The section does not include any borderlines or other sections like the parameters and notes. The combination of the individual pieces will be handled by a master document later.\n",
    "\n",
    "There are two different Jinja syntaxes in this template.\n",
    "\n",
    "- Double curly braces like `{{ n_obs }}` allow to insert Python variables into the template.\n",
    "- `{% if n_obs is defined %}<do something>{% endif %}` are if-elif-else constructs. There is a special check for whether a variable is supplied to the template or not. This allows to omit variables."
   ]
  },
  {
   "cell_type": "code",
   "execution_count": 26,
   "metadata": {},
   "outputs": [
    {
     "data": {
      "text/html": [
       "\n",
       "<table style=\"text-align:center\">\n",
       "    </tr>\n",
       "    {% if n_obs is defined %}\n",
       "    <tr>\n",
       "        <td style=\"text-align: left\">Observations</td>\n",
       "        <td>{{ n_obs }}</td>\n",
       "    </tr>\n",
       "    {% endif %}\n",
       "    {% if rsquared is defined %}\n",
       "    <tr>\n",
       "        <td style=\"text-align: left\">R<sup>2</sup></td>\n",
       "        <td>{{ rsquared }}</td>\n",
       "    </tr>\n",
       "    {% endif %}\n",
       "    {% if rsquared_adj is defined %}\n",
       "    <tr>\n",
       "        <td style=\"text-align: left\">Adjusted R<sup>2</sup></td>\n",
       "        <td>{{ rsquared_adj }}</td>\n",
       "    </tr>\n",
       "    {% endif %}\n",
       "    {% if fvalue is defined %}\n",
       "    <tr>\n",
       "        <td style=\"text-align: left\">F Statistic</td>\n",
       "        <td>{{ fvalue }}<sup>****</sup>{% if df_model is defined and df_resid is defined %}(df = {{ df_model }}; {{ df_resid }}){% endif %}</td>\n",
       "    </tr>\n",
       "    {% endif %}\n",
       "</table>\n"
      ],
      "text/plain": [
       "<IPython.core.display.HTML object>"
      ]
     },
     "execution_count": 26,
     "metadata": {},
     "output_type": "execute_result"
    }
   ],
   "source": [
    "footer = \"\"\"\n",
    "<table style=\"text-align:center\">\n",
    "    </tr>\n",
    "    {% if n_obs is defined %}\n",
    "    <tr>\n",
    "        <td style=\"text-align: left\">Observations</td>\n",
    "        <td>{{ n_obs }}</td>\n",
    "    </tr>\n",
    "    {% endif %}\n",
    "    {% if rsquared is defined %}\n",
    "    <tr>\n",
    "        <td style=\"text-align: left\">R<sup>2</sup></td>\n",
    "        <td>{{ rsquared }}</td>\n",
    "    </tr>\n",
    "    {% endif %}\n",
    "    {% if rsquared_adj is defined %}\n",
    "    <tr>\n",
    "        <td style=\"text-align: left\">Adjusted R<sup>2</sup></td>\n",
    "        <td>{{ rsquared_adj }}</td>\n",
    "    </tr>\n",
    "    {% endif %}\n",
    "    {% if fvalue is defined %}\n",
    "    <tr>\n",
    "        <td style=\"text-align: left\">F Statistic</td>\n",
    "        <td>{{ fvalue }}<sup>****</sup>{% if df_model is defined and df_resid is defined %}(df = {{ df_model }}; {{ df_resid }}){% endif %}</td>\n",
    "    </tr>\n",
    "    {% endif %}\n",
    "</table>\n",
    "\"\"\"\n",
    "HTML(footer)"
   ]
  },
  {
   "cell_type": "markdown",
   "metadata": {},
   "source": [
    "Here we turn the string into a template."
   ]
  },
  {
   "cell_type": "code",
   "execution_count": 27,
   "metadata": {},
   "outputs": [],
   "source": [
    "template = jinja2.Template(footer)"
   ]
  },
  {
   "cell_type": "markdown",
   "metadata": {},
   "source": [
    "We can supply variable to the template and render it."
   ]
  },
  {
   "cell_type": "code",
   "execution_count": 28,
   "metadata": {},
   "outputs": [
    {
     "data": {
      "text/html": [
       "\n",
       "<table style=\"text-align:center\">\n",
       "    </tr>\n",
       "    \n",
       "    <tr>\n",
       "        <td style=\"text-align: left\">Observations</td>\n",
       "        <td>100</td>\n",
       "    </tr>\n",
       "    \n",
       "    \n",
       "    \n",
       "    \n",
       "</table>"
      ],
      "text/plain": [
       "<IPython.core.display.HTML object>"
      ]
     },
     "execution_count": 28,
     "metadata": {},
     "output_type": "execute_result"
    }
   ],
   "source": [
    "HTML(template.render(n_obs=100))"
   ]
  },
  {
   "cell_type": "code",
   "execution_count": 30,
   "metadata": {},
   "outputs": [
    {
     "data": {
      "text/html": [
       "\n",
       "<table style=\"text-align:center\">\n",
       "    </tr>\n",
       "    \n",
       "    <tr>\n",
       "        <td style=\"text-align: left\">Observations</td>\n",
       "        <td>100</td>\n",
       "    </tr>\n",
       "    \n",
       "    \n",
       "    <tr>\n",
       "        <td style=\"text-align: left\">R<sup>2</sup></td>\n",
       "        <td>0.95</td>\n",
       "    </tr>\n",
       "    \n",
       "    \n",
       "    <tr>\n",
       "        <td style=\"text-align: left\">Adjusted R<sup>2</sup></td>\n",
       "        <td>0.9</td>\n",
       "    </tr>\n",
       "    \n",
       "    \n",
       "</table>"
      ],
      "text/plain": [
       "<IPython.core.display.HTML object>"
      ]
     },
     "execution_count": 30,
     "metadata": {},
     "output_type": "execute_result"
    }
   ],
   "source": [
    "HTML(template.render(rsquared=0.95, n_obs=100,rsquared_adj=0.9))"
   ]
  },
  {
   "cell_type": "code",
   "execution_count": 32,
   "metadata": {},
   "outputs": [
    {
     "data": {
      "text/html": [
       "\n",
       "<table style=\"text-align:center\">\n",
       "    </tr>\n",
       "    \n",
       "    <tr>\n",
       "        <td style=\"text-align: left\">Observations</td>\n",
       "        <td>100</td>\n",
       "    </tr>\n",
       "    \n",
       "    \n",
       "    \n",
       "    \n",
       "    <tr>\n",
       "        <td style=\"text-align: left\">F Statistic</td>\n",
       "        <td>0.9<sup>****</sup></td>\n",
       "    </tr>\n",
       "    \n",
       "</table>"
      ],
      "text/plain": [
       "<IPython.core.display.HTML object>"
      ]
     },
     "execution_count": 32,
     "metadata": {},
     "output_type": "execute_result"
    }
   ],
   "source": [
    "HTML(template.render(fvalue=0.9, n_obs=100,df_model=1))"
   ]
  },
  {
   "cell_type": "code",
   "execution_count": 33,
   "metadata": {},
   "outputs": [
    {
     "data": {
      "text/html": [
       "\n",
       "<table style=\"text-align:center\">\n",
       "    </tr>\n",
       "    \n",
       "    <tr>\n",
       "        <td style=\"text-align: left\">Observations</td>\n",
       "        <td>100</td>\n",
       "    </tr>\n",
       "    \n",
       "    \n",
       "    \n",
       "    \n",
       "    <tr>\n",
       "        <td style=\"text-align: left\">F Statistic</td>\n",
       "        <td>0.9<sup>****</sup>(df = 1; 999)</td>\n",
       "    </tr>\n",
       "    \n",
       "</table>"
      ],
      "text/plain": [
       "<IPython.core.display.HTML object>"
      ]
     },
     "execution_count": 33,
     "metadata": {},
     "output_type": "execute_result"
    }
   ],
   "source": [
    "HTML(template.render(fvalue=0.9, df_model=1,n_obs=100, df_resid=999))"
   ]
  },
  {
   "cell_type": "markdown",
   "metadata": {},
   "source": [
    "### Example 2 - Environments and Master Document\n",
    "\n",
    "We take another step. Here we are going to define the master document which embeds the footer and look at template environments which are collections of templates.\n",
    "\n",
    "First, we are going to write the templates for the master document and the footer to the disk and load the templates into a template environment. The new directive to learn is `{% extends 'asd' %}` which indicates that this template allows to extend the mentioned template. Extensions are defined as blocks. We wrap the whole footer into a block called footer.\n",
    "\n",
    "The Jinja2 feature is called [template inheritance](https://jinja.palletsprojects.com/en/2.11.x/templates/#template-inheritance) and seems unnecessary complicated at first, but it will allow the user to inject templates herself and overwrite existing ones."
   ]
  },
  {
   "cell_type": "code",
   "execution_count": 10,
   "metadata": {},
   "outputs": [
    {
     "name": "stdout",
     "output_type": "stream",
     "text": [
      "C:\\Users\\admin\\Documents\\ra\\estimagic_stargazer\\templates\n"
     ]
    }
   ],
   "source": [
    "path = Path(\"templates\").resolve()\n",
    "path.mkdir(exist_ok=True)\n",
    "print(path)"
   ]
  },
  {
   "cell_type": "code",
   "execution_count": 54,
   "metadata": {},
   "outputs": [
    {
     "name": "stdout",
     "output_type": "stream",
     "text": [
      "Overwriting templates/ols.html\n"
     ]
    }
   ],
   "source": [
    "%%writefile templates/ols.html\n",
    "<table style=\"text-align:center\">\n",
    "\n",
    "    <tr>\n",
    "        <td colspan=\"2\" style=\"border-bottom: 1px solid black\">{{ title }}</td>\n",
    "    </tr>\n",
    "\n",
    "    <td colspan=\"2\" style=\"border-bottom: 1px solid black\"></td>\n",
    "\n",
    "    {% block footer %}Default block value. Should be overwritten by footer.html. WHY?!{% endblock %}\n",
    "\n",
    "    <td colspan=\"2\" style=\"border-bottom: 1px solid black\"></td>\n",
    "\n",
    "</table>"
   ]
  },
  {
   "cell_type": "code",
   "execution_count": 55,
   "metadata": {},
   "outputs": [
    {
     "name": "stdout",
     "output_type": "stream",
     "text": [
      "Overwriting templates/footer.html\n"
     ]
    }
   ],
   "source": [
    "%%writefile templates/footer.html\n",
    "{% extends \"ols.html\" %}\n",
    "\n",
    "{% block footer %}\n",
    "    Hello\n",
    "{% if n_obs is defined %}\n",
    "<tr>\n",
    "    <td style=\"text-align: left\">Observations</td>\n",
    "    <td>{{ n_obs }}</td>\n",
    "</tr>\n",
    "{% endif %}\n",
    "{% if rsquared is defined %}\n",
    "<tr>\n",
    "    <td style=\"text-align: left\">R<sup>2</sup></td>\n",
    "    <td>{{ rsquared }}</td>\n",
    "</tr>\n",
    "{% endif %}\n",
    "{% if rsquared_adj is defined %}\n",
    "<tr>\n",
    "    <td style=\"text-align: left\">Adjusted R<sup>2</sup></td>\n",
    "    <td>{{ rsquared_adj }}</td>\n",
    "</tr>\n",
    "{% endif %}\n",
    "{% if fvalue is defined %}\n",
    "<tr>\n",
    "    <td style=\"text-align: left\">F Statistic</td>\n",
    "    <td>{{ fvalue }}<sup>****</sup>{% if df_model is defined and df_resid is defined %}(df = {{ df_model }}; {{ df_resid }}){% endif %}</td>\n",
    "</tr>\n",
    "{% endif %}\n",
    "{% endblock %}"
   ]
  },
  {
   "cell_type": "markdown",
   "metadata": {},
   "source": [
    "Next, here comes the master document. At an appropriate position, we insert the block directive which will be filled with the footer."
   ]
  },
  {
   "cell_type": "code",
   "execution_count": null,
   "metadata": {},
   "outputs": [],
   "source": []
  },
  {
   "cell_type": "markdown",
   "metadata": {},
   "source": [
    "Now, we collect the templates in an [environment](https://jinja.palletsprojects.com/en/2.11.x/api/#jinja2.Environment). You require the environment and loaders to collect the templates. [Loaders](https://jinja.palletsprojects.com/en/2.11.x/api/#loaders) exist in various forms."
   ]
  },
  {
   "cell_type": "code",
   "execution_count": 60,
   "metadata": {},
   "outputs": [],
   "source": [
    "loader = jinja2.FileSystemLoader(path)\n",
    "env = jinja2.Environment(\n",
    "    autoescape=jinja2.select_autoescape(['html', 'htm', 'xml']),\n",
    "    loader=loader,\n",
    ")"
   ]
  },
  {
   "cell_type": "markdown",
   "metadata": {},
   "source": [
    "Let us render the master document."
   ]
  },
  {
   "cell_type": "code",
   "execution_count": 68,
   "metadata": {},
   "outputs": [],
   "source": [
    "template = env.get_template(\"footer.html\")"
   ]
  },
  {
   "cell_type": "code",
   "execution_count": 69,
   "metadata": {},
   "outputs": [
    {
     "data": {
      "text/html": [
       "<table style=\"text-align:center\">\n",
       "\n",
       "    <tr>\n",
       "        <td colspan=\"2\" style=\"border-bottom: 1px solid black\">OLS Regression</td>\n",
       "    </tr>\n",
       "\n",
       "    <td colspan=\"2\" style=\"border-bottom: 1px solid black\"></td>\n",
       "\n",
       "    \n",
       "    Hello\n",
       "\n",
       "<tr>\n",
       "    <td style=\"text-align: left\">Observations</td>\n",
       "    <td>1000</td>\n",
       "</tr>\n",
       "\n",
       "\n",
       "\n",
       "\n",
       "<tr>\n",
       "    <td style=\"text-align: left\">F Statistic</td>\n",
       "    <td>0.9<sup>****</sup></td>\n",
       "</tr>\n",
       "\n",
       "\n",
       "\n",
       "    <td colspan=\"2\" style=\"border-bottom: 1px solid black\"></td>\n",
       "\n",
       "</table>"
      ],
      "text/plain": [
       "<IPython.core.display.HTML object>"
      ]
     },
     "execution_count": 69,
     "metadata": {},
     "output_type": "execute_result"
    }
   ],
   "source": [
    "\n",
    "HTML(template.render(title=\"OLS Regression\", n_obs=1000, fvalue=0.9))"
   ]
  },
  {
   "cell_type": "markdown",
   "metadata": {},
   "source": [
    "# Janos has an idea"
   ]
  },
  {
   "cell_type": "markdown",
   "metadata": {},
   "source": [
    "DataFrame to html and latex and give the user option to call to_latex"
   ]
  },
  {
   "cell_type": "code",
   "execution_count": null,
   "metadata": {},
   "outputs": [],
   "source": []
  }
 ],
 "metadata": {
  "@webio": {
   "lastCommId": null,
   "lastKernelId": null
  },
  "kernelspec": {
   "display_name": "Python 3",
   "language": "python",
   "name": "python3"
  },
  "language_info": {
   "codemirror_mode": {
    "name": "ipython",
    "version": 3
   },
   "file_extension": ".py",
   "mimetype": "text/x-python",
   "name": "python",
   "nbconvert_exporter": "python",
   "pygments_lexer": "ipython3",
   "version": "3.7.3"
  }
 },
 "nbformat": 4,
 "nbformat_minor": 4
}
