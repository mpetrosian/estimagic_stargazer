{
 "cells": [
  {
   "cell_type": "code",
   "execution_count": 80,
   "metadata": {},
   "outputs": [
    {
     "name": "stderr",
     "output_type": "stream",
     "text": [
      "C:\\ProgramData\\Anaconda3\\lib\\site-packages\\numpy\\core\\fromnumeric.py:2223: FutureWarning: Method .ptp is deprecated and will be removed in a future version. Use numpy.ptp instead.\n",
      "  return ptp(axis=axis, out=out, **kwargs)\n"
     ]
    }
   ],
   "source": [
    "import pandas as pd\n",
    "from sklearn import datasets\n",
    "import statsmodels.api as sm\n",
    "from estimagic_stargazer.stargazer import Stargazer \n",
    "from IPython.core.display import HTML, Latex\n",
    "from tabulate import tabulate\n",
    "from collections import namedtuple\n",
    "import numpy as np\n",
    "diabetes = datasets.load_diabetes()\n",
    "df = pd.DataFrame(diabetes.data)\n",
    "df.columns = ['Age', 'Sex', 'BMI', 'ABP', 'S1', 'S2', 'S3', 'S4', 'S5', 'S6']\n",
    "df['target'] = diabetes.target\n",
    "\n",
    "est = sm.OLS(endog=df['target'], exog=sm.add_constant(df[df.columns[0:4]])).fit()\n",
    "est2 = sm.OLS(endog=df['target'], exog=sm.add_constant(df[df.columns[0:6]])).fit()\n",
    "\n"
   ]
  },
  {
   "cell_type": "code",
   "execution_count": 81,
   "metadata": {},
   "outputs": [],
   "source": [
    "def extract_params_from_sm(model):\n",
    "    to_concat = []\n",
    "    params_list = [\"params\", \"pvalues\", \"bse\"]\n",
    "    for col in params_list:\n",
    "        to_concat.append(getattr(model, col))\n",
    "    to_concat.append(model.conf_int()[0])\n",
    "    to_concat.append(model.conf_int()[1])\n",
    "    params_df = pd.concat(to_concat, axis=1)\n",
    "    params_df.columns = [\"value\", \"pvalue\", \"standard_error\", \"ci_lower\", \"ci_upper\"]\n",
    "    return params_df\n",
    "\n",
    "\n",
    "def extract_info_from_sm(model):\n",
    "    info = {}\n",
    "    key_values = [\n",
    "        \"rsquared\",\n",
    "        \"rsquared_adj\",\n",
    "        \"scale\",\n",
    "        \"fvalue\",\n",
    "        \"f_pvalue\",\n",
    "        \"df_model\",\n",
    "        \"df_resid\",\n",
    "    ]\n",
    "    for kv in key_values:\n",
    "        info[kv] = getattr(model, kv)\n",
    "    info[\"dependent_variable\"] = model.model.endog_names\n",
    "\n",
    "    return info\n"
   ]
  },
  {
   "cell_type": "code",
   "execution_count": 82,
   "metadata": {},
   "outputs": [],
   "source": [
    "# use the functions defined above to create estimation result that is namedtuple\n",
    "namedtuplee = namedtuple(\"namedtuplee\", \"params info\")\n",
    "est3 = namedtuplee(\n",
    "params=extract_params_from_sm(est2),\n",
    "info={**extract_info_from_sm(est2)},\n",
    ")\n"
   ]
  },
  {
   "cell_type": "code",
   "execution_count": 4,
   "metadata": {},
   "outputs": [],
   "source": [
    "# using est3, create dictionary\n",
    "est4 = {}\n",
    "est4['params'] = est3.params\n",
    "est4['info'] = est3.info\n"
   ]
  },
  {
   "cell_type": "code",
   "execution_count": 5,
   "metadata": {},
   "outputs": [],
   "source": [
    "# using est3, create dictionary\n",
    "est5 = {}\n",
    "est5['params'] = est3.params\n",
    "est5['info'] = est3.info\n"
   ]
  },
  {
   "cell_type": "code",
   "execution_count": 6,
   "metadata": {},
   "outputs": [],
   "source": [
    "# check that code runs for non-list inputs\n",
    "stargazer2=Stargazer(est3)"
   ]
  },
  {
   "cell_type": "code",
   "execution_count": 7,
   "metadata": {},
   "outputs": [
    {
     "data": {
      "text/html": [
       "<tr><td style=\"text-align: left\">Observations</td><td>442.0</td></tr>"
      ],
      "text/plain": [
       "<IPython.core.display.HTML object>"
      ]
     },
     "execution_count": 7,
     "metadata": {},
     "output_type": "execute_result"
    }
   ],
   "source": [
    "HTML(stargazer2.generate_observations_html())"
   ]
  },
  {
   "cell_type": "code",
   "execution_count": 8,
   "metadata": {},
   "outputs": [],
   "source": [
    "# check stargazer works for sns regression result, dictionary and namedtuple\n",
    "stargazer=Stargazer([est,est2,est4,est5])"
   ]
  },
  {
   "cell_type": "code",
   "execution_count": 9,
   "metadata": {},
   "outputs": [
    {
     "data": {
      "text/html": [
       "<tr><td style=\"text-align: left\">Observations</td><td>442.0</td><td>442.0</td><td>442.0</td><td>442.0</td></tr>"
      ],
      "text/plain": [
       "<IPython.core.display.HTML object>"
      ]
     },
     "execution_count": 9,
     "metadata": {},
     "output_type": "execute_result"
    }
   ],
   "source": [
    "HTML(stargazer.generate_observations_html())"
   ]
  },
  {
   "cell_type": "code",
   "execution_count": 17,
   "metadata": {},
   "outputs": [
    {
     "data": {
      "text/plain": [
       "nan"
      ]
     },
     "execution_count": 17,
     "metadata": {},
     "output_type": "execute_result"
    }
   ],
   "source": [
    "mdict = {\"a\":5}\n",
    "mdict.get(\"b\",np.NaN)"
   ]
  },
  {
   "cell_type": "code",
   "execution_count": 28,
   "metadata": {},
   "outputs": [
    {
     "data": {
      "text/plain": [
       "nan"
      ]
     },
     "execution_count": 28,
     "metadata": {},
     "output_type": "execute_result"
    }
   ],
   "source": [
    "np.sqrt(np.nan)"
   ]
  },
  {
   "cell_type": "code",
   "execution_count": 9,
   "metadata": {},
   "outputs": [
    {
     "data": {
      "text/html": [
       "Diabetes Study<br><table style=\"text-align:center\"><tr><td colspan=\"4\" style=\"border-bottom: 1px solid black\"></td></tr><tr><td style=\"text-align:left\"></td><td colspan=\"3\"><em>Model name:</em></td></tr><tr><td style=\"text-align:left\"></td><tr><td style=\"text-align:left\"></td><td>(1)</td><td>(2)</td><td>(3)</td></tr><tr><td colspan=\"4\" style=\"border-bottom: 1px solid black\"></td></tr><tr><td style=\"text-align:left\">ABP</td><td>416.674<sup>***</sup></td><td>397.583<sup>***</sup></td><td>397.583<sup>***</sup></td></tr><tr><td style=\"text-align:left\"></td><td>(69.495)</td><td>(70.87)</td><td>(70.87)</td></tr><tr><td style=\"text-align:left\">Age</td><td>37.241<sup></sup></td><td>24.704<sup></sup></td><td>24.704<sup></sup></td></tr><tr><td style=\"text-align:left\"></td><td>(64.117)</td><td>(65.411)</td><td>(65.411)</td></tr><tr><td style=\"text-align:left\">BMI</td><td>787.179<sup>***</sup></td><td>789.742<sup>***</sup></td><td>789.742<sup>***</sup></td></tr><tr><td style=\"text-align:left\"></td><td>(65.424)</td><td>(66.887)</td><td>(66.887)</td></tr><tr><td style=\"text-align:left\">S1</td><td></td><td>197.852<sup></sup></td><td>197.852<sup></sup></td></tr><tr><td style=\"text-align:left\"></td><td></td><td>(143.812)</td><td>(143.812)</td></tr><tr><td style=\"text-align:left\">S2</td><td></td><td>-169.251<sup></sup></td><td>-169.251<sup></sup></td></tr><tr><td style=\"text-align:left\"></td><td></td><td>(142.744)</td><td>(142.744)</td></tr><tr><td style=\"text-align:left\">Sex</td><td>-106.578<sup>*</sup></td><td>-82.862<sup></sup></td><td>-82.862<sup></sup></td></tr><tr><td style=\"text-align:left\"></td><td>(62.125)</td><td>(64.851)</td><td>(64.851)</td></tr><tr><td style=\"text-align:left\">const</td><td>152.133<sup>***</sup></td><td>152.133<sup>***</sup></td><td>152.133<sup>***</sup></td></tr><tr><td style=\"text-align:left\"></td><td>(2.853)</td><td>(2.853)</td><td>(2.853)</td></tr><td colspan=\"4\" style=\"border-bottom: 1px solid black\"></td></tr><tr><td style=\"text-align: left\">Observations</td><td>442.0</td><td>442.0</td><td>442.0</td></tr><tr><td style=\"text-align: left\">R<sup>2</sup></td><td>0.4</td><td>0.403</td><td>0.403</td></tr><tr><td style=\"text-align: left\">Adjusted R<sup>2</sup></td><td>0.395</td><td>0.395</td><td>0.395</td></tr><tr><td style=\"text-align: left\">Residual Std. Error</td><td>59.976(df = 437.0)</td><td>59.982(df = 435.0)</td><td>59.982(df = 435.0)</td></tr><tr><td style=\"text-align: left\">F Statistic</td><td>72.913<sup>***</sup>(df = 4.0; 437.0)</td><td>48.915<sup>***</sup>(df = 6.0; 435.0)</td><td>48.915<sup>***</sup>(df = 6.0; 435.0)</td></tr><tr><td colspan=\"4\" style=\"border-bottom: 1px solid black\"></td></tr><tr><td style=\"text-align: left\">Note:</td>\n",
       " <td colspan=\"3\" style=\"text-align: right\">\n",
       "  <sup>*</sup>p&lt;0.1;\n",
       "  <sup>**</sup>p&lt;0.05;\n",
       "  <sup>***</sup>p&lt;0.01\n",
       " </td></tr></table>"
      ],
      "text/plain": [
       "<IPython.core.display.HTML object>"
      ]
     },
     "execution_count": 9,
     "metadata": {},
     "output_type": "execute_result"
    }
   ],
   "source": [
    "HTML(stargazer.render_html())\n"
   ]
  },
  {
   "cell_type": "code",
   "execution_count": 10,
   "metadata": {},
   "outputs": [
    {
     "data": {
      "text/plain": [
       "IPython.core.display.Latex"
      ]
     },
     "execution_count": 10,
     "metadata": {},
     "output_type": "execute_result"
    }
   ],
   "source": [
    "type(Latex(stargazer.render_latex()))"
   ]
  },
  {
   "cell_type": "code",
   "execution_count": 11,
   "metadata": {},
   "outputs": [],
   "source": [
    "stargazer.custom_columns(['Model 1','Model 2','Model3'],[1,1,1])"
   ]
  },
  {
   "cell_type": "code",
   "execution_count": 12,
   "metadata": {},
   "outputs": [
    {
     "data": {
      "text/html": [
       "Diabetes Study<br><table style=\"text-align:center\"><tr><td colspan=\"4\" style=\"border-bottom: 1px solid black\"></td></tr><tr><td style=\"text-align:left\"></td><td colspan=\"3\"><em>Model name:</em></td></tr><tr><td style=\"text-align:left\"></td><tr><td></td><td colspan=\"1\">Model 1</td><td colspan=\"1\">Model 2</td><td colspan=\"1\">Model3</td></tr><tr><td style=\"text-align:left\"></td><td>(1)</td><td>(2)</td><td>(3)</td></tr><tr><td colspan=\"4\" style=\"border-bottom: 1px solid black\"></td></tr><tr><td style=\"text-align:left\">ABP</td><td>416.674<sup>***</sup></td><td>397.583<sup>***</sup></td><td>397.583<sup>***</sup></td></tr><tr><td style=\"text-align:left\"></td><td>(69.495)</td><td>(70.87)</td><td>(70.87)</td></tr><tr><td style=\"text-align:left\">Age</td><td>37.241<sup></sup></td><td>24.704<sup></sup></td><td>24.704<sup></sup></td></tr><tr><td style=\"text-align:left\"></td><td>(64.117)</td><td>(65.411)</td><td>(65.411)</td></tr><tr><td style=\"text-align:left\">BMI</td><td>787.179<sup>***</sup></td><td>789.742<sup>***</sup></td><td>789.742<sup>***</sup></td></tr><tr><td style=\"text-align:left\"></td><td>(65.424)</td><td>(66.887)</td><td>(66.887)</td></tr><tr><td style=\"text-align:left\">S1</td><td></td><td>197.852<sup></sup></td><td>197.852<sup></sup></td></tr><tr><td style=\"text-align:left\"></td><td></td><td>(143.812)</td><td>(143.812)</td></tr><tr><td style=\"text-align:left\">S2</td><td></td><td>-169.251<sup></sup></td><td>-169.251<sup></sup></td></tr><tr><td style=\"text-align:left\"></td><td></td><td>(142.744)</td><td>(142.744)</td></tr><tr><td style=\"text-align:left\">Sex</td><td>-106.578<sup>*</sup></td><td>-82.862<sup></sup></td><td>-82.862<sup></sup></td></tr><tr><td style=\"text-align:left\"></td><td>(62.125)</td><td>(64.851)</td><td>(64.851)</td></tr><tr><td style=\"text-align:left\">const</td><td>152.133<sup>***</sup></td><td>152.133<sup>***</sup></td><td>152.133<sup>***</sup></td></tr><tr><td style=\"text-align:left\"></td><td>(2.853)</td><td>(2.853)</td><td>(2.853)</td></tr><td colspan=\"4\" style=\"border-bottom: 1px solid black\"></td></tr><tr><td style=\"text-align: left\">Observations</td><td>442.0</td><td>442.0</td><td>442.0</td></tr><tr><td style=\"text-align: left\">R<sup>2</sup></td><td>0.4</td><td>0.403</td><td>0.403</td></tr><tr><td style=\"text-align: left\">Adjusted R<sup>2</sup></td><td>0.395</td><td>0.395</td><td>0.395</td></tr><tr><td style=\"text-align: left\">Residual Std. Error</td><td>59.976(df = 437.0)</td><td>59.982(df = 435.0)</td><td>59.982(df = 435.0)</td></tr><tr><td style=\"text-align: left\">F Statistic</td><td>72.913<sup>***</sup>(df = 4.0; 437.0)</td><td>48.915<sup>***</sup>(df = 6.0; 435.0)</td><td>48.915<sup>***</sup>(df = 6.0; 435.0)</td></tr><tr><td colspan=\"4\" style=\"border-bottom: 1px solid black\"></td></tr><tr><td style=\"text-align: left\">Note:</td>\n",
       " <td colspan=\"3\" style=\"text-align: right\">\n",
       "  <sup>*</sup>p&lt;0.1;\n",
       "  <sup>**</sup>p&lt;0.05;\n",
       "  <sup>***</sup>p&lt;0.01\n",
       " </td></tr></table>"
      ],
      "text/plain": [
       "<IPython.core.display.HTML object>"
      ]
     },
     "execution_count": 12,
     "metadata": {},
     "output_type": "execute_result"
    }
   ],
   "source": [
    "HTML(stargazer.render_html())"
   ]
  },
  {
   "cell_type": "code",
   "execution_count": 13,
   "metadata": {},
   "outputs": [],
   "source": [
    "stargazer.custom_columns('Test model name')"
   ]
  },
  {
   "cell_type": "code",
   "execution_count": 14,
   "metadata": {},
   "outputs": [
    {
     "data": {
      "text/html": [
       "Diabetes Study<br><table style=\"text-align:center\"><tr><td colspan=\"4\" style=\"border-bottom: 1px solid black\"></td></tr><tr><td style=\"text-align:left\"></td><td colspan=\"3\"><em>Model name:</em></td></tr><tr><td style=\"text-align:left\"></td><td colspan=\"3\">Test model name</td></tr><tr><td style=\"text-align:left\"></td><td>(1)</td><td>(2)</td><td>(3)</td></tr><tr><td colspan=\"4\" style=\"border-bottom: 1px solid black\"></td></tr><tr><td style=\"text-align:left\">ABP</td><td>416.674<sup>***</sup></td><td>397.583<sup>***</sup></td><td>397.583<sup>***</sup></td></tr><tr><td style=\"text-align:left\"></td><td>(69.495)</td><td>(70.87)</td><td>(70.87)</td></tr><tr><td style=\"text-align:left\">Age</td><td>37.241<sup></sup></td><td>24.704<sup></sup></td><td>24.704<sup></sup></td></tr><tr><td style=\"text-align:left\"></td><td>(64.117)</td><td>(65.411)</td><td>(65.411)</td></tr><tr><td style=\"text-align:left\">BMI</td><td>787.179<sup>***</sup></td><td>789.742<sup>***</sup></td><td>789.742<sup>***</sup></td></tr><tr><td style=\"text-align:left\"></td><td>(65.424)</td><td>(66.887)</td><td>(66.887)</td></tr><tr><td style=\"text-align:left\">S1</td><td></td><td>197.852<sup></sup></td><td>197.852<sup></sup></td></tr><tr><td style=\"text-align:left\"></td><td></td><td>(143.812)</td><td>(143.812)</td></tr><tr><td style=\"text-align:left\">S2</td><td></td><td>-169.251<sup></sup></td><td>-169.251<sup></sup></td></tr><tr><td style=\"text-align:left\"></td><td></td><td>(142.744)</td><td>(142.744)</td></tr><tr><td style=\"text-align:left\">Sex</td><td>-106.578<sup>*</sup></td><td>-82.862<sup></sup></td><td>-82.862<sup></sup></td></tr><tr><td style=\"text-align:left\"></td><td>(62.125)</td><td>(64.851)</td><td>(64.851)</td></tr><tr><td style=\"text-align:left\">const</td><td>152.133<sup>***</sup></td><td>152.133<sup>***</sup></td><td>152.133<sup>***</sup></td></tr><tr><td style=\"text-align:left\"></td><td>(2.853)</td><td>(2.853)</td><td>(2.853)</td></tr><td colspan=\"4\" style=\"border-bottom: 1px solid black\"></td></tr><tr><td style=\"text-align: left\">Observations</td><td>442.0</td><td>442.0</td><td>442.0</td></tr><tr><td style=\"text-align: left\">R<sup>2</sup></td><td>0.4</td><td>0.403</td><td>0.403</td></tr><tr><td style=\"text-align: left\">Adjusted R<sup>2</sup></td><td>0.395</td><td>0.395</td><td>0.395</td></tr><tr><td style=\"text-align: left\">Residual Std. Error</td><td>59.976(df = 437.0)</td><td>59.982(df = 435.0)</td><td>59.982(df = 435.0)</td></tr><tr><td style=\"text-align: left\">F Statistic</td><td>72.913<sup>***</sup>(df = 4.0; 437.0)</td><td>48.915<sup>***</sup>(df = 6.0; 435.0)</td><td>48.915<sup>***</sup>(df = 6.0; 435.0)</td></tr><tr><td colspan=\"4\" style=\"border-bottom: 1px solid black\"></td></tr><tr><td style=\"text-align: left\">Note:</td>\n",
       " <td colspan=\"3\" style=\"text-align: right\">\n",
       "  <sup>*</sup>p&lt;0.1;\n",
       "  <sup>**</sup>p&lt;0.05;\n",
       "  <sup>***</sup>p&lt;0.01\n",
       " </td></tr></table>"
      ],
      "text/plain": [
       "<IPython.core.display.HTML object>"
      ]
     },
     "execution_count": 14,
     "metadata": {},
     "output_type": "execute_result"
    }
   ],
   "source": [
    "HTML(stargazer.render_html())"
   ]
  },
  {
   "cell_type": "code",
   "execution_count": 15,
   "metadata": {},
   "outputs": [],
   "source": [
    "\n",
    "stargazer.show_model_numbers(False)"
   ]
  },
  {
   "cell_type": "code",
   "execution_count": 16,
   "metadata": {},
   "outputs": [
    {
     "data": {
      "text/html": [
       "Diabetes Study<br><table style=\"text-align:center\"><tr><td colspan=\"4\" style=\"border-bottom: 1px solid black\"></td></tr><tr><td style=\"text-align:left\"></td><td colspan=\"3\"><em>Model name:</em></td></tr><tr><td style=\"text-align:left\"></td><td colspan=\"3\">Test model name</td></tr><tr><td colspan=\"4\" style=\"border-bottom: 1px solid black\"></td></tr><tr><td style=\"text-align:left\">ABP</td><td>416.674<sup>***</sup></td><td>397.583<sup>***</sup></td><td>397.583<sup>***</sup></td></tr><tr><td style=\"text-align:left\"></td><td>(69.495)</td><td>(70.87)</td><td>(70.87)</td></tr><tr><td style=\"text-align:left\">Age</td><td>37.241<sup></sup></td><td>24.704<sup></sup></td><td>24.704<sup></sup></td></tr><tr><td style=\"text-align:left\"></td><td>(64.117)</td><td>(65.411)</td><td>(65.411)</td></tr><tr><td style=\"text-align:left\">BMI</td><td>787.179<sup>***</sup></td><td>789.742<sup>***</sup></td><td>789.742<sup>***</sup></td></tr><tr><td style=\"text-align:left\"></td><td>(65.424)</td><td>(66.887)</td><td>(66.887)</td></tr><tr><td style=\"text-align:left\">S1</td><td></td><td>197.852<sup></sup></td><td>197.852<sup></sup></td></tr><tr><td style=\"text-align:left\"></td><td></td><td>(143.812)</td><td>(143.812)</td></tr><tr><td style=\"text-align:left\">S2</td><td></td><td>-169.251<sup></sup></td><td>-169.251<sup></sup></td></tr><tr><td style=\"text-align:left\"></td><td></td><td>(142.744)</td><td>(142.744)</td></tr><tr><td style=\"text-align:left\">Sex</td><td>-106.578<sup>*</sup></td><td>-82.862<sup></sup></td><td>-82.862<sup></sup></td></tr><tr><td style=\"text-align:left\"></td><td>(62.125)</td><td>(64.851)</td><td>(64.851)</td></tr><tr><td style=\"text-align:left\">const</td><td>152.133<sup>***</sup></td><td>152.133<sup>***</sup></td><td>152.133<sup>***</sup></td></tr><tr><td style=\"text-align:left\"></td><td>(2.853)</td><td>(2.853)</td><td>(2.853)</td></tr><td colspan=\"4\" style=\"border-bottom: 1px solid black\"></td></tr><tr><td style=\"text-align: left\">Observations</td><td>442.0</td><td>442.0</td><td>442.0</td></tr><tr><td style=\"text-align: left\">R<sup>2</sup></td><td>0.4</td><td>0.403</td><td>0.403</td></tr><tr><td style=\"text-align: left\">Adjusted R<sup>2</sup></td><td>0.395</td><td>0.395</td><td>0.395</td></tr><tr><td style=\"text-align: left\">Residual Std. Error</td><td>59.976(df = 437.0)</td><td>59.982(df = 435.0)</td><td>59.982(df = 435.0)</td></tr><tr><td style=\"text-align: left\">F Statistic</td><td>72.913<sup>***</sup>(df = 4.0; 437.0)</td><td>48.915<sup>***</sup>(df = 6.0; 435.0)</td><td>48.915<sup>***</sup>(df = 6.0; 435.0)</td></tr><tr><td colspan=\"4\" style=\"border-bottom: 1px solid black\"></td></tr><tr><td style=\"text-align: left\">Note:</td>\n",
       " <td colspan=\"3\" style=\"text-align: right\">\n",
       "  <sup>*</sup>p&lt;0.1;\n",
       "  <sup>**</sup>p&lt;0.05;\n",
       "  <sup>***</sup>p&lt;0.01\n",
       " </td></tr></table>"
      ],
      "text/plain": [
       "<IPython.core.display.HTML object>"
      ]
     },
     "execution_count": 16,
     "metadata": {},
     "output_type": "execute_result"
    }
   ],
   "source": [
    "HTML(stargazer.render_html())"
   ]
  },
  {
   "cell_type": "code",
   "execution_count": 17,
   "metadata": {},
   "outputs": [],
   "source": [
    "stargazer.significant_digits(2)"
   ]
  },
  {
   "cell_type": "code",
   "execution_count": 18,
   "metadata": {},
   "outputs": [
    {
     "data": {
      "text/html": [
       "Diabetes Study<br><table style=\"text-align:center\"><tr><td colspan=\"4\" style=\"border-bottom: 1px solid black\"></td></tr><tr><td style=\"text-align:left\"></td><td colspan=\"3\"><em>Model name:</em></td></tr><tr><td style=\"text-align:left\"></td><td colspan=\"3\">Test model name</td></tr><tr><td colspan=\"4\" style=\"border-bottom: 1px solid black\"></td></tr><tr><td style=\"text-align:left\">ABP</td><td>416.67<sup>***</sup></td><td>397.58<sup>***</sup></td><td>397.58<sup>***</sup></td></tr><tr><td style=\"text-align:left\"></td><td>(69.49)</td><td>(70.87)</td><td>(70.87)</td></tr><tr><td style=\"text-align:left\">Age</td><td>37.24<sup></sup></td><td>24.7<sup></sup></td><td>24.7<sup></sup></td></tr><tr><td style=\"text-align:left\"></td><td>(64.12)</td><td>(65.41)</td><td>(65.41)</td></tr><tr><td style=\"text-align:left\">BMI</td><td>787.18<sup>***</sup></td><td>789.74<sup>***</sup></td><td>789.74<sup>***</sup></td></tr><tr><td style=\"text-align:left\"></td><td>(65.42)</td><td>(66.89)</td><td>(66.89)</td></tr><tr><td style=\"text-align:left\">S1</td><td></td><td>197.85<sup></sup></td><td>197.85<sup></sup></td></tr><tr><td style=\"text-align:left\"></td><td></td><td>(143.81)</td><td>(143.81)</td></tr><tr><td style=\"text-align:left\">S2</td><td></td><td>-169.25<sup></sup></td><td>-169.25<sup></sup></td></tr><tr><td style=\"text-align:left\"></td><td></td><td>(142.74)</td><td>(142.74)</td></tr><tr><td style=\"text-align:left\">Sex</td><td>-106.58<sup>*</sup></td><td>-82.86<sup></sup></td><td>-82.86<sup></sup></td></tr><tr><td style=\"text-align:left\"></td><td>(62.13)</td><td>(64.85)</td><td>(64.85)</td></tr><tr><td style=\"text-align:left\">const</td><td>152.13<sup>***</sup></td><td>152.13<sup>***</sup></td><td>152.13<sup>***</sup></td></tr><tr><td style=\"text-align:left\"></td><td>(2.85)</td><td>(2.85)</td><td>(2.85)</td></tr><td colspan=\"4\" style=\"border-bottom: 1px solid black\"></td></tr><tr><td style=\"text-align: left\">Observations</td><td>442.0</td><td>442.0</td><td>442.0</td></tr><tr><td style=\"text-align: left\">R<sup>2</sup></td><td>0.4</td><td>0.4</td><td>0.4</td></tr><tr><td style=\"text-align: left\">Adjusted R<sup>2</sup></td><td>0.39</td><td>0.39</td><td>0.39</td></tr><tr><td style=\"text-align: left\">Residual Std. Error</td><td>59.98(df = 437.0)</td><td>59.98(df = 435.0)</td><td>59.98(df = 435.0)</td></tr><tr><td style=\"text-align: left\">F Statistic</td><td>72.91<sup>***</sup>(df = 4.0; 437.0)</td><td>48.91<sup>***</sup>(df = 6.0; 435.0)</td><td>48.91<sup>***</sup>(df = 6.0; 435.0)</td></tr><tr><td colspan=\"4\" style=\"border-bottom: 1px solid black\"></td></tr><tr><td style=\"text-align: left\">Note:</td>\n",
       " <td colspan=\"3\" style=\"text-align: right\">\n",
       "  <sup>*</sup>p&lt;0.1;\n",
       "  <sup>**</sup>p&lt;0.05;\n",
       "  <sup>***</sup>p&lt;0.01\n",
       " </td></tr></table>"
      ],
      "text/plain": [
       "<IPython.core.display.HTML object>"
      ]
     },
     "execution_count": 18,
     "metadata": {},
     "output_type": "execute_result"
    }
   ],
   "source": [
    "HTML(stargazer.render_html())"
   ]
  },
  {
   "cell_type": "code",
   "execution_count": 19,
   "metadata": {},
   "outputs": [],
   "source": [
    "stargazer.show_confidence_intervals(True)"
   ]
  },
  {
   "cell_type": "code",
   "execution_count": 20,
   "metadata": {},
   "outputs": [
    {
     "data": {
      "text/html": [
       "Diabetes Study<br><table style=\"text-align:center\"><tr><td colspan=\"4\" style=\"border-bottom: 1px solid black\"></td></tr><tr><td style=\"text-align:left\"></td><td colspan=\"3\"><em>Model name:</em></td></tr><tr><td style=\"text-align:left\"></td><td colspan=\"3\">Test model name</td></tr><tr><td colspan=\"4\" style=\"border-bottom: 1px solid black\"></td></tr><tr><td style=\"text-align:left\">ABP</td><td>416.67<sup>***</sup></td><td>397.58<sup>***</sup></td><td>397.58<sup>***</sup></td></tr><tr><td style=\"text-align:left\"></td><td>(280.09 , 553.26)</td><td>(258.29 , 536.87)</td><td>(258.29 , 536.87)</td></tr><tr><td style=\"text-align:left\">Age</td><td>37.24<sup></sup></td><td>24.7<sup></sup></td><td>24.7<sup></sup></td></tr><tr><td style=\"text-align:left\"></td><td>(-88.78 , 163.26)</td><td>(-103.86 , 153.26)</td><td>(-103.86 , 153.26)</td></tr><tr><td style=\"text-align:left\">BMI</td><td>787.18<sup>***</sup></td><td>789.74<sup>***</sup></td><td>789.74<sup>***</sup></td></tr><tr><td style=\"text-align:left\"></td><td>(658.59 , 915.76)</td><td>(658.28 , 921.2)</td><td>(658.28 , 921.2)</td></tr><tr><td style=\"text-align:left\">S1</td><td></td><td>197.85<sup></sup></td><td>197.85<sup></sup></td></tr><tr><td style=\"text-align:left\"></td><td></td><td>(-84.8 , 480.51)</td><td>(-84.8 , 480.51)</td></tr><tr><td style=\"text-align:left\">S2</td><td></td><td>-169.25<sup></sup></td><td>-169.25<sup></sup></td></tr><tr><td style=\"text-align:left\"></td><td></td><td>(-449.8 , 111.3)</td><td>(-449.8 , 111.3)</td></tr><tr><td style=\"text-align:left\">Sex</td><td>-106.58<sup>*</sup></td><td>-82.86<sup></sup></td><td>-82.86<sup></sup></td></tr><tr><td style=\"text-align:left\"></td><td>(-228.68 , 15.52)</td><td>(-210.32 , 44.6)</td><td>(-210.32 , 44.6)</td></tr><tr><td style=\"text-align:left\">const</td><td>152.13<sup>***</sup></td><td>152.13<sup>***</sup></td><td>152.13<sup>***</sup></td></tr><tr><td style=\"text-align:left\"></td><td>(146.53 , 157.74)</td><td>(146.53 , 157.74)</td><td>(146.53 , 157.74)</td></tr><td colspan=\"4\" style=\"border-bottom: 1px solid black\"></td></tr><tr><td style=\"text-align: left\">Observations</td><td>442.0</td><td>442.0</td><td>442.0</td></tr><tr><td style=\"text-align: left\">R<sup>2</sup></td><td>0.4</td><td>0.4</td><td>0.4</td></tr><tr><td style=\"text-align: left\">Adjusted R<sup>2</sup></td><td>0.39</td><td>0.39</td><td>0.39</td></tr><tr><td style=\"text-align: left\">Residual Std. Error</td><td>59.98(df = 437.0)</td><td>59.98(df = 435.0)</td><td>59.98(df = 435.0)</td></tr><tr><td style=\"text-align: left\">F Statistic</td><td>72.91<sup>***</sup>(df = 4.0; 437.0)</td><td>48.91<sup>***</sup>(df = 6.0; 435.0)</td><td>48.91<sup>***</sup>(df = 6.0; 435.0)</td></tr><tr><td colspan=\"4\" style=\"border-bottom: 1px solid black\"></td></tr><tr><td style=\"text-align: left\">Note:</td>\n",
       " <td colspan=\"3\" style=\"text-align: right\">\n",
       "  <sup>*</sup>p&lt;0.1;\n",
       "  <sup>**</sup>p&lt;0.05;\n",
       "  <sup>***</sup>p&lt;0.01\n",
       " </td></tr></table>"
      ],
      "text/plain": [
       "<IPython.core.display.HTML object>"
      ]
     },
     "execution_count": 20,
     "metadata": {},
     "output_type": "execute_result"
    }
   ],
   "source": [
    "HTML(stargazer.render_html())"
   ]
  },
  {
   "cell_type": "code",
   "execution_count": 21,
   "metadata": {},
   "outputs": [],
   "source": [
    "stargazer.covariate_order(['BMI', 'Age', 'S1', 'Sex'])"
   ]
  },
  {
   "cell_type": "code",
   "execution_count": 22,
   "metadata": {},
   "outputs": [
    {
     "data": {
      "text/html": [
       "Diabetes Study<br><table style=\"text-align:center\"><tr><td colspan=\"4\" style=\"border-bottom: 1px solid black\"></td></tr><tr><td style=\"text-align:left\"></td><td colspan=\"3\"><em>Model name:</em></td></tr><tr><td style=\"text-align:left\"></td><td colspan=\"3\">Test model name</td></tr><tr><td colspan=\"4\" style=\"border-bottom: 1px solid black\"></td></tr><tr><td style=\"text-align:left\">BMI</td><td>787.18<sup>***</sup></td><td>789.74<sup>***</sup></td><td>789.74<sup>***</sup></td></tr><tr><td style=\"text-align:left\"></td><td>(658.59 , 915.76)</td><td>(658.28 , 921.2)</td><td>(658.28 , 921.2)</td></tr><tr><td style=\"text-align:left\">Age</td><td>37.24<sup></sup></td><td>24.7<sup></sup></td><td>24.7<sup></sup></td></tr><tr><td style=\"text-align:left\"></td><td>(-88.78 , 163.26)</td><td>(-103.86 , 153.26)</td><td>(-103.86 , 153.26)</td></tr><tr><td style=\"text-align:left\">S1</td><td></td><td>197.85<sup></sup></td><td>197.85<sup></sup></td></tr><tr><td style=\"text-align:left\"></td><td></td><td>(-84.8 , 480.51)</td><td>(-84.8 , 480.51)</td></tr><tr><td style=\"text-align:left\">Sex</td><td>-106.58<sup>*</sup></td><td>-82.86<sup></sup></td><td>-82.86<sup></sup></td></tr><tr><td style=\"text-align:left\"></td><td>(-228.68 , 15.52)</td><td>(-210.32 , 44.6)</td><td>(-210.32 , 44.6)</td></tr><td colspan=\"4\" style=\"border-bottom: 1px solid black\"></td></tr><tr><td style=\"text-align: left\">Observations</td><td>442.0</td><td>442.0</td><td>442.0</td></tr><tr><td style=\"text-align: left\">R<sup>2</sup></td><td>0.4</td><td>0.4</td><td>0.4</td></tr><tr><td style=\"text-align: left\">Adjusted R<sup>2</sup></td><td>0.39</td><td>0.39</td><td>0.39</td></tr><tr><td style=\"text-align: left\">Residual Std. Error</td><td>59.98(df = 437.0)</td><td>59.98(df = 435.0)</td><td>59.98(df = 435.0)</td></tr><tr><td style=\"text-align: left\">F Statistic</td><td>72.91<sup>***</sup>(df = 4.0; 437.0)</td><td>48.91<sup>***</sup>(df = 6.0; 435.0)</td><td>48.91<sup>***</sup>(df = 6.0; 435.0)</td></tr><tr><td colspan=\"4\" style=\"border-bottom: 1px solid black\"></td></tr><tr><td style=\"text-align: left\">Note:</td>\n",
       " <td colspan=\"3\" style=\"text-align: right\">\n",
       "  <sup>*</sup>p&lt;0.1;\n",
       "  <sup>**</sup>p&lt;0.05;\n",
       "  <sup>***</sup>p&lt;0.01\n",
       " </td></tr></table>"
      ],
      "text/plain": [
       "<IPython.core.display.HTML object>"
      ]
     },
     "execution_count": 22,
     "metadata": {},
     "output_type": "execute_result"
    }
   ],
   "source": [
    "HTML(stargazer.render_html())"
   ]
  },
  {
   "cell_type": "code",
   "execution_count": 23,
   "metadata": {},
   "outputs": [],
   "source": [
    "stargazer.rename_covariates({'Age': 'Oldness'})"
   ]
  },
  {
   "cell_type": "code",
   "execution_count": 24,
   "metadata": {},
   "outputs": [
    {
     "data": {
      "text/html": [
       "Diabetes Study<br><table style=\"text-align:center\"><tr><td colspan=\"4\" style=\"border-bottom: 1px solid black\"></td></tr><tr><td style=\"text-align:left\"></td><td colspan=\"3\"><em>Model name:</em></td></tr><tr><td style=\"text-align:left\"></td><td colspan=\"3\">Test model name</td></tr><tr><td colspan=\"4\" style=\"border-bottom: 1px solid black\"></td></tr><tr><td style=\"text-align:left\">BMI</td><td>787.18<sup>***</sup></td><td>789.74<sup>***</sup></td><td>789.74<sup>***</sup></td></tr><tr><td style=\"text-align:left\"></td><td>(658.59 , 915.76)</td><td>(658.28 , 921.2)</td><td>(658.28 , 921.2)</td></tr><tr><td style=\"text-align:left\">Oldness</td><td>37.24<sup></sup></td><td>24.7<sup></sup></td><td>24.7<sup></sup></td></tr><tr><td style=\"text-align:left\"></td><td>(-88.78 , 163.26)</td><td>(-103.86 , 153.26)</td><td>(-103.86 , 153.26)</td></tr><tr><td style=\"text-align:left\">S1</td><td></td><td>197.85<sup></sup></td><td>197.85<sup></sup></td></tr><tr><td style=\"text-align:left\"></td><td></td><td>(-84.8 , 480.51)</td><td>(-84.8 , 480.51)</td></tr><tr><td style=\"text-align:left\">Sex</td><td>-106.58<sup>*</sup></td><td>-82.86<sup></sup></td><td>-82.86<sup></sup></td></tr><tr><td style=\"text-align:left\"></td><td>(-228.68 , 15.52)</td><td>(-210.32 , 44.6)</td><td>(-210.32 , 44.6)</td></tr><td colspan=\"4\" style=\"border-bottom: 1px solid black\"></td></tr><tr><td style=\"text-align: left\">Observations</td><td>442.0</td><td>442.0</td><td>442.0</td></tr><tr><td style=\"text-align: left\">R<sup>2</sup></td><td>0.4</td><td>0.4</td><td>0.4</td></tr><tr><td style=\"text-align: left\">Adjusted R<sup>2</sup></td><td>0.39</td><td>0.39</td><td>0.39</td></tr><tr><td style=\"text-align: left\">Residual Std. Error</td><td>59.98(df = 437.0)</td><td>59.98(df = 435.0)</td><td>59.98(df = 435.0)</td></tr><tr><td style=\"text-align: left\">F Statistic</td><td>72.91<sup>***</sup>(df = 4.0; 437.0)</td><td>48.91<sup>***</sup>(df = 6.0; 435.0)</td><td>48.91<sup>***</sup>(df = 6.0; 435.0)</td></tr><tr><td colspan=\"4\" style=\"border-bottom: 1px solid black\"></td></tr><tr><td style=\"text-align: left\">Note:</td>\n",
       " <td colspan=\"3\" style=\"text-align: right\">\n",
       "  <sup>*</sup>p&lt;0.1;\n",
       "  <sup>**</sup>p&lt;0.05;\n",
       "  <sup>***</sup>p&lt;0.01\n",
       " </td></tr></table>"
      ],
      "text/plain": [
       "<IPython.core.display.HTML object>"
      ]
     },
     "execution_count": 24,
     "metadata": {},
     "output_type": "execute_result"
    }
   ],
   "source": [
    "HTML(stargazer.render_html())"
   ]
  },
  {
   "cell_type": "code",
   "execution_count": 25,
   "metadata": {},
   "outputs": [],
   "source": [
    "stargazer.show_degrees_of_freedom(False)"
   ]
  },
  {
   "cell_type": "code",
   "execution_count": 26,
   "metadata": {},
   "outputs": [
    {
     "data": {
      "text/html": [
       "Diabetes Study<br><table style=\"text-align:center\"><tr><td colspan=\"4\" style=\"border-bottom: 1px solid black\"></td></tr><tr><td style=\"text-align:left\"></td><td colspan=\"3\"><em>Model name:</em></td></tr><tr><td style=\"text-align:left\"></td><td colspan=\"3\">Test model name</td></tr><tr><td colspan=\"4\" style=\"border-bottom: 1px solid black\"></td></tr><tr><td style=\"text-align:left\">BMI</td><td>787.18<sup>***</sup></td><td>789.74<sup>***</sup></td><td>789.74<sup>***</sup></td></tr><tr><td style=\"text-align:left\"></td><td>(658.59 , 915.76)</td><td>(658.28 , 921.2)</td><td>(658.28 , 921.2)</td></tr><tr><td style=\"text-align:left\">Oldness</td><td>37.24<sup></sup></td><td>24.7<sup></sup></td><td>24.7<sup></sup></td></tr><tr><td style=\"text-align:left\"></td><td>(-88.78 , 163.26)</td><td>(-103.86 , 153.26)</td><td>(-103.86 , 153.26)</td></tr><tr><td style=\"text-align:left\">S1</td><td></td><td>197.85<sup></sup></td><td>197.85<sup></sup></td></tr><tr><td style=\"text-align:left\"></td><td></td><td>(-84.8 , 480.51)</td><td>(-84.8 , 480.51)</td></tr><tr><td style=\"text-align:left\">Sex</td><td>-106.58<sup>*</sup></td><td>-82.86<sup></sup></td><td>-82.86<sup></sup></td></tr><tr><td style=\"text-align:left\"></td><td>(-228.68 , 15.52)</td><td>(-210.32 , 44.6)</td><td>(-210.32 , 44.6)</td></tr><td colspan=\"4\" style=\"border-bottom: 1px solid black\"></td></tr><tr><td style=\"text-align: left\">Observations</td><td>442.0</td><td>442.0</td><td>442.0</td></tr><tr><td style=\"text-align: left\">R<sup>2</sup></td><td>0.4</td><td>0.4</td><td>0.4</td></tr><tr><td style=\"text-align: left\">Adjusted R<sup>2</sup></td><td>0.39</td><td>0.39</td><td>0.39</td></tr><tr><td style=\"text-align: left\">Residual Std. Error</td><td>59.98</td><td>59.98</td><td>59.98</td></tr><tr><td style=\"text-align: left\">F Statistic</td><td>72.91<sup>***</sup></td><td>48.91<sup>***</sup></td><td>48.91<sup>***</sup></td></tr><tr><td colspan=\"4\" style=\"border-bottom: 1px solid black\"></td></tr><tr><td style=\"text-align: left\">Note:</td>\n",
       " <td colspan=\"3\" style=\"text-align: right\">\n",
       "  <sup>*</sup>p&lt;0.1;\n",
       "  <sup>**</sup>p&lt;0.05;\n",
       "  <sup>***</sup>p&lt;0.01\n",
       " </td></tr></table>"
      ],
      "text/plain": [
       "<IPython.core.display.HTML object>"
      ]
     },
     "execution_count": 26,
     "metadata": {},
     "output_type": "execute_result"
    }
   ],
   "source": [
    "HTML(stargazer.render_html())"
   ]
  },
  {
   "cell_type": "code",
   "execution_count": 27,
   "metadata": {},
   "outputs": [],
   "source": [
    "stargazer.add_custom_notes(['First note', 'Second note'])"
   ]
  },
  {
   "cell_type": "code",
   "execution_count": 28,
   "metadata": {},
   "outputs": [
    {
     "data": {
      "text/html": [
       "Diabetes Study<br><table style=\"text-align:center\"><tr><td colspan=\"4\" style=\"border-bottom: 1px solid black\"></td></tr><tr><td style=\"text-align:left\"></td><td colspan=\"3\"><em>Model name:</em></td></tr><tr><td style=\"text-align:left\"></td><td colspan=\"3\">Test model name</td></tr><tr><td colspan=\"4\" style=\"border-bottom: 1px solid black\"></td></tr><tr><td style=\"text-align:left\">BMI</td><td>787.18<sup>***</sup></td><td>789.74<sup>***</sup></td><td>789.74<sup>***</sup></td></tr><tr><td style=\"text-align:left\"></td><td>(658.59 , 915.76)</td><td>(658.28 , 921.2)</td><td>(658.28 , 921.2)</td></tr><tr><td style=\"text-align:left\">Oldness</td><td>37.24<sup></sup></td><td>24.7<sup></sup></td><td>24.7<sup></sup></td></tr><tr><td style=\"text-align:left\"></td><td>(-88.78 , 163.26)</td><td>(-103.86 , 153.26)</td><td>(-103.86 , 153.26)</td></tr><tr><td style=\"text-align:left\">S1</td><td></td><td>197.85<sup></sup></td><td>197.85<sup></sup></td></tr><tr><td style=\"text-align:left\"></td><td></td><td>(-84.8 , 480.51)</td><td>(-84.8 , 480.51)</td></tr><tr><td style=\"text-align:left\">Sex</td><td>-106.58<sup>*</sup></td><td>-82.86<sup></sup></td><td>-82.86<sup></sup></td></tr><tr><td style=\"text-align:left\"></td><td>(-228.68 , 15.52)</td><td>(-210.32 , 44.6)</td><td>(-210.32 , 44.6)</td></tr><td colspan=\"4\" style=\"border-bottom: 1px solid black\"></td></tr><tr><td style=\"text-align: left\">Observations</td><td>442.0</td><td>442.0</td><td>442.0</td></tr><tr><td style=\"text-align: left\">R<sup>2</sup></td><td>0.4</td><td>0.4</td><td>0.4</td></tr><tr><td style=\"text-align: left\">Adjusted R<sup>2</sup></td><td>0.39</td><td>0.39</td><td>0.39</td></tr><tr><td style=\"text-align: left\">Residual Std. Error</td><td>59.98</td><td>59.98</td><td>59.98</td></tr><tr><td style=\"text-align: left\">F Statistic</td><td>72.91<sup>***</sup></td><td>48.91<sup>***</sup></td><td>48.91<sup>***</sup></td></tr><tr><td colspan=\"4\" style=\"border-bottom: 1px solid black\"></td></tr><tr><td style=\"text-align: left\">Note:</td>\n",
       " <td colspan=\"3\" style=\"text-align: right\">\n",
       "  <sup>*</sup>p&lt;0.1;\n",
       "  <sup>**</sup>p&lt;0.05;\n",
       "  <sup>***</sup>p&lt;0.01\n",
       " </td></tr><tr><td></td><td colspan=\"3\" style=\"text-align: right\">First note</td></tr><tr><td></td><td colspan=\"3\" style=\"text-align: right\">Second note</td></tr></table>"
      ],
      "text/plain": [
       "<IPython.core.display.HTML object>"
      ]
     },
     "execution_count": 28,
     "metadata": {},
     "output_type": "execute_result"
    }
   ],
   "source": [
    "HTML(stargazer.render_html())"
   ]
  },
  {
   "cell_type": "code",
   "execution_count": 29,
   "metadata": {},
   "outputs": [],
   "source": [
    "stargazer.significance_levels([0.1, 0.05, 0.07])"
   ]
  },
  {
   "cell_type": "code",
   "execution_count": 30,
   "metadata": {},
   "outputs": [
    {
     "data": {
      "text/html": [
       "Diabetes Study<br><table style=\"text-align:center\"><tr><td colspan=\"4\" style=\"border-bottom: 1px solid black\"></td></tr><tr><td style=\"text-align:left\"></td><td colspan=\"3\"><em>Model name:</em></td></tr><tr><td style=\"text-align:left\"></td><td colspan=\"3\">Test model name</td></tr><tr><td colspan=\"4\" style=\"border-bottom: 1px solid black\"></td></tr><tr><td style=\"text-align:left\">BMI</td><td>787.18<sup>***</sup></td><td>789.74<sup>***</sup></td><td>789.74<sup>***</sup></td></tr><tr><td style=\"text-align:left\"></td><td>(658.59 , 915.76)</td><td>(658.28 , 921.2)</td><td>(658.28 , 921.2)</td></tr><tr><td style=\"text-align:left\">Oldness</td><td>37.24<sup></sup></td><td>24.7<sup></sup></td><td>24.7<sup></sup></td></tr><tr><td style=\"text-align:left\"></td><td>(-88.78 , 163.26)</td><td>(-103.86 , 153.26)</td><td>(-103.86 , 153.26)</td></tr><tr><td style=\"text-align:left\">S1</td><td></td><td>197.85<sup></sup></td><td>197.85<sup></sup></td></tr><tr><td style=\"text-align:left\"></td><td></td><td>(-84.8 , 480.51)</td><td>(-84.8 , 480.51)</td></tr><tr><td style=\"text-align:left\">Sex</td><td>-106.58<sup>*</sup></td><td>-82.86<sup></sup></td><td>-82.86<sup></sup></td></tr><tr><td style=\"text-align:left\"></td><td>(-228.68 , 15.52)</td><td>(-210.32 , 44.6)</td><td>(-210.32 , 44.6)</td></tr><td colspan=\"4\" style=\"border-bottom: 1px solid black\"></td></tr><tr><td style=\"text-align: left\">Observations</td><td>442.0</td><td>442.0</td><td>442.0</td></tr><tr><td style=\"text-align: left\">R<sup>2</sup></td><td>0.4</td><td>0.4</td><td>0.4</td></tr><tr><td style=\"text-align: left\">Adjusted R<sup>2</sup></td><td>0.39</td><td>0.39</td><td>0.39</td></tr><tr><td style=\"text-align: left\">Residual Std. Error</td><td>59.98</td><td>59.98</td><td>59.98</td></tr><tr><td style=\"text-align: left\">F Statistic</td><td>72.91<sup>***</sup></td><td>48.91<sup>***</sup></td><td>48.91<sup>***</sup></td></tr><tr><td colspan=\"4\" style=\"border-bottom: 1px solid black\"></td></tr><tr><td style=\"text-align: left\">Note:</td>\n",
       " <td colspan=\"3\" style=\"text-align: right\">\n",
       "  <sup>*</sup>p&lt;0.1;\n",
       "  <sup>**</sup>p&lt;0.07;\n",
       "  <sup>***</sup>p&lt;0.05\n",
       " </td></tr><tr><td></td><td colspan=\"3\" style=\"text-align: right\">First note</td></tr><tr><td></td><td colspan=\"3\" style=\"text-align: right\">Second note</td></tr></table>"
      ],
      "text/plain": [
       "<IPython.core.display.HTML object>"
      ]
     },
     "execution_count": 30,
     "metadata": {},
     "output_type": "execute_result"
    }
   ],
   "source": [
    "HTML(stargazer.render_html())"
   ]
  },
  {
   "cell_type": "code",
   "execution_count": 44,
   "metadata": {},
   "outputs": [],
   "source": [
    "stargazer.append_notes(False)"
   ]
  },
  {
   "cell_type": "code",
   "execution_count": 45,
   "metadata": {},
   "outputs": [
    {
     "data": {
      "text/html": [
       "Diabetes Study<br><table style=\"text-align:center\"><tr><td colspan=\"4\" style=\"border-bottom: 1px solid black\"></td></tr><tr><td style=\"text-align:left\"></td><td colspan=\"3\"><em>Model name:</em></td></tr><tr><td style=\"text-align:left\"></td><td colspan=\"3\">Test model name</td></tr><tr><td colspan=\"4\" style=\"border-bottom: 1px solid black\"></td></tr><tr><td style=\"text-align:left\">BMI</td><td>787.18<sup>***</sup></td><td>789.74<sup>***</sup></td><td>789.74<sup>***</sup></td></tr><tr><td style=\"text-align:left\"></td><td>(658.59 , 915.76)</td><td>(658.28 , 921.2)</td><td>(658.28 , 921.2)</td></tr><tr><td style=\"text-align:left\">Oldness</td><td>37.24<sup></sup></td><td>24.7<sup></sup></td><td>24.7<sup></sup></td></tr><tr><td style=\"text-align:left\"></td><td>(-88.78 , 163.26)</td><td>(-103.86 , 153.26)</td><td>(-103.86 , 153.26)</td></tr><tr><td style=\"text-align:left\">S1</td><td></td><td>197.85<sup></sup></td><td>197.85<sup></sup></td></tr><tr><td style=\"text-align:left\"></td><td></td><td>(-84.8 , 480.51)</td><td>(-84.8 , 480.51)</td></tr><tr><td style=\"text-align:left\">Sex</td><td>-106.58<sup>*</sup></td><td>-82.86<sup></sup></td><td>-82.86<sup></sup></td></tr><tr><td style=\"text-align:left\"></td><td>(-228.68 , 15.52)</td><td>(-210.32 , 44.6)</td><td>(-210.32 , 44.6)</td></tr><td colspan=\"4\" style=\"border-bottom: 1px solid black\"></td></tr><tr><td style=\"text-align: left\">Observations</td><td>442.0</td><td>442.0</td><td>442.0</td></tr><tr><td style=\"text-align: left\">R<sup>2</sup></td><td>0.4</td><td>0.4</td><td>0.4</td></tr><tr><td style=\"text-align: left\">Adjusted R<sup>2</sup></td><td>0.39</td><td>0.39</td><td>0.39</td></tr><tr><td style=\"text-align: left\">Residual Std. Error</td><td>59.98</td><td>59.98</td><td>59.98</td></tr><tr><td style=\"text-align: left\">F Statistic</td><td>72.91<sup>***</sup></td><td>48.91<sup>***</sup></td><td>48.91<sup>***</sup></td></tr><tr><td colspan=\"4\" style=\"border-bottom: 1px solid black\"></td></tr><tr><td style=\"text-align: left\">Note:</td></tr><td></td><td colspan=\"3\" style=\"text-align: right\">First note</td></tr><tr><td></td><td colspan=\"3\" style=\"text-align: right\">Second note</td></tr></table>"
      ],
      "text/plain": [
       "<IPython.core.display.HTML object>"
      ]
     },
     "execution_count": 45,
     "metadata": {},
     "output_type": "execute_result"
    }
   ],
   "source": [
    "HTML(stargazer.render_html())"
   ]
  },
  {
   "cell_type": "markdown",
   "metadata": {},
   "source": [
    "# More flexible significance levels"
   ]
  },
  {
   "cell_type": "code",
   "execution_count": 64,
   "metadata": {},
   "outputs": [
    {
     "data": {
      "text/plain": [
       "'****'"
      ]
     },
     "execution_count": 64,
     "metadata": {},
     "output_type": "execute_result"
    }
   ],
   "source": [
    "res_sig=\"\"\n",
    "sig_char = \"*\"\n",
    "listt =[0.1,0.025,0.01,0.05]\n",
    "sig_levels = sorted(listt)\n",
    "p_value = 0\n",
    "if p_value<sig_levels[0]:\n",
    "    res_sig += sig_char*len(listt)\n",
    "else:\n",
    "    for i in np.arange(len(sig_levels[1:]))+1:\n",
    "        if sig_levels[i-1]<=p_value<sig_levels[i]:\n",
    "            res_sig+=sig_char*(len(sig_levels)-i)\n",
    "\n",
    "res_sig"
   ]
  },
  {
   "cell_type": "markdown",
   "metadata": {},
   "source": [
    "## make notes compatible"
   ]
  },
  {
   "cell_type": "code",
   "execution_count": 123,
   "metadata": {},
   "outputs": [],
   "source": [
    "notes_text = \"\"\"\n",
    " <td colspan=\"{}\" style=\"text-align: right\">   \"\"\".format(3)\n",
    "for i in range(len(sig_levels)-1):\n",
    "    notes_text+=\"<sup>\"+\"*\"*(len(sig_levels)-i)+\"\"\"</sup>p&lt;{}; \"\"\".format(sig_levels[i])\n",
    "notes_text+=\"\"\"<sup>*</sup>p&lt;{} </td>\"\"\".format(sig_levels[-1])\n",
    "    "
   ]
  },
  {
   "cell_type": "markdown",
   "metadata": {},
   "source": [
    "#### Check output"
   ]
  },
  {
   "cell_type": "code",
   "execution_count": 124,
   "metadata": {},
   "outputs": [
    {
     "data": {
      "text/html": [
       "\n",
       " <td colspan=\"3\" style=\"text-align: right\">   <sup>****</sup>p&lt;0.01; <sup>***</sup>p&lt;0.025; <sup>**</sup>p&lt;0.05; <sup>*</sup>p&lt;0.1 </td>"
      ],
      "text/plain": [
       "<IPython.core.display.HTML object>"
      ]
     },
     "execution_count": 124,
     "metadata": {},
     "output_type": "execute_result"
    }
   ],
   "source": [
    "HTML(notes_text)"
   ]
  },
  {
   "cell_type": "code",
   "execution_count": 88,
   "metadata": {},
   "outputs": [],
   "source": [
    "est3.params[\"sig_icon\"] = pd.cut(\n",
    "            est3.params[\"pvalue\"],\n",
    "            bins=[-1] + sorted(sig_levels) + [2],\n",
    "            labels=[\"*\" * (len(sig_levels)-i) for i in range(len(sig_levels) + 1)],\n",
    "        )"
   ]
  },
  {
   "cell_type": "code",
   "execution_count": 111,
   "metadata": {},
   "outputs": [
    {
     "name": "stdout",
     "output_type": "stream",
     "text": [
      "351 µs ± 13.1 µs per loop (mean ± std. dev. of 7 runs, 1000 loops each)\n"
     ]
    }
   ],
   "source": [
    "%timeit est3.params[\"sig_icon_1\"] =['*'*i for i in (len(sig_levels)-np.digitize(est3.params.pvalue,[-1] + sorted(sig_levels) + [2])+1)]"
   ]
  },
  {
   "cell_type": "code",
   "execution_count": 112,
   "metadata": {},
   "outputs": [
    {
     "name": "stdout",
     "output_type": "stream",
     "text": [
      "2.32 ms ± 144 µs per loop (mean ± std. dev. of 7 runs, 100 loops each)\n"
     ]
    }
   ],
   "source": [
    "%timeit est3.params[\"sig_icon_2\"] =pd.cut(est3.params[\"pvalue\"], bins=[-1] + sorted(sig_levels) + [2],labels=[\"*\" * (len(sig_levels)-i) for i in range(len(sig_levels) + 1)],)"
   ]
  },
  {
   "cell_type": "code",
   "execution_count": 125,
   "metadata": {},
   "outputs": [
    {
     "data": {
      "text/html": [
       "<div>\n",
       "<style scoped>\n",
       "    .dataframe tbody tr th:only-of-type {\n",
       "        vertical-align: middle;\n",
       "    }\n",
       "\n",
       "    .dataframe tbody tr th {\n",
       "        vertical-align: top;\n",
       "    }\n",
       "\n",
       "    .dataframe thead th {\n",
       "        text-align: right;\n",
       "    }\n",
       "</style>\n",
       "<table border=\"1\" class=\"dataframe\">\n",
       "  <thead>\n",
       "    <tr style=\"text-align: right;\">\n",
       "      <th></th>\n",
       "      <th>value</th>\n",
       "      <th>pvalue</th>\n",
       "      <th>standard_error</th>\n",
       "      <th>ci_lower</th>\n",
       "      <th>ci_upper</th>\n",
       "      <th>sig_icon</th>\n",
       "      <th>sig_icon_1</th>\n",
       "      <th>sig_icon_2</th>\n",
       "    </tr>\n",
       "  </thead>\n",
       "  <tbody>\n",
       "    <tr>\n",
       "      <th>const</th>\n",
       "      <td>152.133484</td>\n",
       "      <td>6.764758e-193</td>\n",
       "      <td>2.853063</td>\n",
       "      <td>146.525981</td>\n",
       "      <td>157.740987</td>\n",
       "      <td>****</td>\n",
       "      <td>****</td>\n",
       "      <td>****</td>\n",
       "    </tr>\n",
       "    <tr>\n",
       "      <th>Age</th>\n",
       "      <td>24.703695</td>\n",
       "      <td>7.058611e-01</td>\n",
       "      <td>65.411058</td>\n",
       "      <td>-103.857320</td>\n",
       "      <td>153.264710</td>\n",
       "      <td></td>\n",
       "      <td></td>\n",
       "      <td></td>\n",
       "    </tr>\n",
       "    <tr>\n",
       "      <th>Sex</th>\n",
       "      <td>-82.862181</td>\n",
       "      <td>2.020225e-01</td>\n",
       "      <td>64.850570</td>\n",
       "      <td>-210.321594</td>\n",
       "      <td>44.597231</td>\n",
       "      <td></td>\n",
       "      <td></td>\n",
       "      <td></td>\n",
       "    </tr>\n",
       "    <tr>\n",
       "      <th>BMI</th>\n",
       "      <td>789.742054</td>\n",
       "      <td>4.243330e-28</td>\n",
       "      <td>66.886785</td>\n",
       "      <td>658.280598</td>\n",
       "      <td>921.203509</td>\n",
       "      <td>****</td>\n",
       "      <td>****</td>\n",
       "      <td>****</td>\n",
       "    </tr>\n",
       "    <tr>\n",
       "      <th>ABP</th>\n",
       "      <td>397.582705</td>\n",
       "      <td>3.604149e-08</td>\n",
       "      <td>70.869661</td>\n",
       "      <td>258.293174</td>\n",
       "      <td>536.872235</td>\n",
       "      <td>****</td>\n",
       "      <td>****</td>\n",
       "      <td>****</td>\n",
       "    </tr>\n",
       "    <tr>\n",
       "      <th>S1</th>\n",
       "      <td>197.852376</td>\n",
       "      <td>1.696004e-01</td>\n",
       "      <td>143.811973</td>\n",
       "      <td>-84.800339</td>\n",
       "      <td>480.505090</td>\n",
       "      <td></td>\n",
       "      <td></td>\n",
       "      <td></td>\n",
       "    </tr>\n",
       "    <tr>\n",
       "      <th>S2</th>\n",
       "      <td>-169.250629</td>\n",
       "      <td>2.363914e-01</td>\n",
       "      <td>142.744232</td>\n",
       "      <td>-449.804771</td>\n",
       "      <td>111.303513</td>\n",
       "      <td></td>\n",
       "      <td></td>\n",
       "      <td></td>\n",
       "    </tr>\n",
       "  </tbody>\n",
       "</table>\n",
       "</div>"
      ],
      "text/plain": [
       "            value         pvalue  standard_error    ci_lower    ci_upper  \\\n",
       "const  152.133484  6.764758e-193        2.853063  146.525981  157.740987   \n",
       "Age     24.703695   7.058611e-01       65.411058 -103.857320  153.264710   \n",
       "Sex    -82.862181   2.020225e-01       64.850570 -210.321594   44.597231   \n",
       "BMI    789.742054   4.243330e-28       66.886785  658.280598  921.203509   \n",
       "ABP    397.582705   3.604149e-08       70.869661  258.293174  536.872235   \n",
       "S1     197.852376   1.696004e-01      143.811973  -84.800339  480.505090   \n",
       "S2    -169.250629   2.363914e-01      142.744232 -449.804771  111.303513   \n",
       "\n",
       "      sig_icon sig_icon_1 sig_icon_2  \n",
       "const     ****       ****       ****  \n",
       "Age                                   \n",
       "Sex                                   \n",
       "BMI       ****       ****       ****  \n",
       "ABP       ****       ****       ****  \n",
       "S1                                    \n",
       "S2                                    "
      ]
     },
     "execution_count": 125,
     "metadata": {},
     "output_type": "execute_result"
    }
   ],
   "source": [
    "est3.params"
   ]
  },
  {
   "cell_type": "code",
   "execution_count": 182,
   "metadata": {},
   "outputs": [],
   "source": [
    "arrays = [np.array(['bar', 'bar', 'bar', 'baz', 'foo', 'foo', 'qux', 'qux']),\n",
    "   ....:           np.array(['one', 'two', 'one', 'two', 'one', 'two', 'one', 'two'])]"
   ]
  },
  {
   "cell_type": "code",
   "execution_count": 183,
   "metadata": {},
   "outputs": [],
   "source": [
    "s = pd.Series(np.random.randn(8), index=arrays)\n"
   ]
  },
  {
   "cell_type": "code",
   "execution_count": 165,
   "metadata": {},
   "outputs": [
    {
     "data": {
      "text/plain": [
       "MultiIndex(levels=[['bar', 'baz', 'foo', 'qux'], ['one', 'two']],\n",
       "           codes=[[0, 0, 1, 1, 2, 2, 3, 3], [0, 1, 0, 1, 0, 1, 0, 1]])"
      ]
     },
     "execution_count": 165,
     "metadata": {},
     "output_type": "execute_result"
    }
   ],
   "source": [
    "s.index\n"
   ]
  },
  {
   "cell_type": "code",
   "execution_count": 305,
   "metadata": {},
   "outputs": [],
   "source": [
    "metalist = [[] for i in range(len(s.index.values[0]))]\n",
    "for i in range(len(metalist)):\n",
    "    for j in s.index.values:\n",
    "        metalist[i].append(j[i]) \n",
    "ulist = [[] for i in range(len(s.index.values[0]))]\n",
    "for i,l in enumerate(metalist):\n",
    "    for j,n in enumerate(l):\n",
    "        if j == 0:\n",
    "            ulist[i].append(str(n))\n",
    "        elif j>0:\n",
    "            if l[j] == l[j-1]:\n",
    "                ulist[i].append('')\n",
    "            else:\n",
    "                ulist[i].append(str(n))\n"
   ]
  },
  {
   "cell_type": "code",
   "execution_count": 287,
   "metadata": {},
   "outputs": [
    {
     "data": {
      "text/plain": [
       "[['bar', 'bar', 'bar', 'baz', 'foo', 'foo', 'qux', 'qux'],\n",
       " ['one', 'two', 'one', 'two', 'one', 'two', 'one', 'two']]"
      ]
     },
     "execution_count": 287,
     "metadata": {},
     "output_type": "execute_result"
    }
   ],
   "source": [
    "metalist"
   ]
  },
  {
   "cell_type": "code",
   "execution_count": 306,
   "metadata": {},
   "outputs": [],
   "source": [
    "ulist[0]=ulist[0][:-1]\n",
    "ulist[1]=ulist[1][:-1]"
   ]
  },
  {
   "cell_type": "code",
   "execution_count": 341,
   "metadata": {},
   "outputs": [],
   "source": [
    "df=pd.DataFrame(ulist).transpose()\n",
    "df.columns = ['a','b']\n"
   ]
  },
  {
   "cell_type": "code",
   "execution_count": 344,
   "metadata": {},
   "outputs": [
    {
     "data": {
      "text/plain": [
       "'bar'"
      ]
     },
     "execution_count": 344,
     "metadata": {},
     "output_type": "execute_result"
    }
   ],
   "source": [
    "df.loc[0][0]"
   ]
  },
  {
   "cell_type": "code",
   "execution_count": 295,
   "metadata": {},
   "outputs": [
    {
     "data": {
      "text/plain": [
       "[('bar', 'one'),\n",
       " ('bar', 'two'),\n",
       " ('baz', 'two'),\n",
       " ('foo', 'one'),\n",
       " ('foo', 'two'),\n",
       " ('qux', 'one'),\n",
       " ('qux', 'two')]"
      ]
     },
     "execution_count": 295,
     "metadata": {},
     "output_type": "execute_result"
    }
   ],
   "source": [
    "x[1].append('s')"
   ]
  },
  {
   "cell_type": "code",
   "execution_count": 267,
   "metadata": {},
   "outputs": [
    {
     "data": {
      "text/plain": [
       "[['bar', 'bar', 'bar', 'baz', 'foo', 'foo', 'qux', 'qux'],\n",
       " ['one', 'two', 'one', 'two', 'one', 'two', 'one', 'two']]"
      ]
     },
     "execution_count": 267,
     "metadata": {},
     "output_type": "execute_result"
    }
   ],
   "source": [
    "metalist"
   ]
  },
  {
   "cell_type": "code",
   "execution_count": 313,
   "metadata": {},
   "outputs": [
    {
     "data": {
      "text/plain": [
       "bar  one   -1.685687\n",
       "     two   -0.699576\n",
       "     one   -0.343732\n",
       "baz  two   -1.157404\n",
       "foo  one   -0.027253\n",
       "     two    1.004422\n",
       "qux  one   -0.105928\n",
       "     two   -0.511576\n",
       "dtype: float64"
      ]
     },
     "execution_count": 313,
     "metadata": {},
     "output_type": "execute_result"
    }
   ],
   "source": []
  },
  {
   "cell_type": "code",
   "execution_count": 317,
   "metadata": {},
   "outputs": [
    {
     "data": {
      "text/plain": [
       "8"
      ]
     },
     "execution_count": 317,
     "metadata": {},
     "output_type": "execute_result"
    }
   ],
   "source": [
    "len(metalist[0])"
   ]
  },
  {
   "cell_type": "code",
   "execution_count": 319,
   "metadata": {},
   "outputs": [],
   "source": [
    "df1=pd.DataFrame(ulist).transpose()\n"
   ]
  },
  {
   "cell_type": "code",
   "execution_count": 325,
   "metadata": {},
   "outputs": [],
   "source": [
    "df1.index = list('abcdefg')"
   ]
  },
  {
   "cell_type": "code",
   "execution_count": 335,
   "metadata": {},
   "outputs": [],
   "source": [
    "s.index = pd.MultiIndex.from_tuples(mi1)"
   ]
  },
  {
   "cell_type": "code",
   "execution_count": 330,
   "metadata": {},
   "outputs": [],
   "source": [
    "mi1 =s.index.values"
   ]
  },
  {
   "cell_type": "code",
   "execution_count": 332,
   "metadata": {},
   "outputs": [],
   "source": [
    "mi1[0] = ('bar','qu')"
   ]
  },
  {
   "cell_type": "code",
   "execution_count": 336,
   "metadata": {},
   "outputs": [
    {
     "data": {
      "text/plain": [
       "True"
      ]
     },
     "execution_count": 336,
     "metadata": {},
     "output_type": "execute_result"
    }
   ],
   "source": [
    "isinstance(('bar','qu'),tuple)"
   ]
  },
  {
   "cell_type": "code",
   "execution_count": 345,
   "metadata": {},
   "outputs": [
    {
     "data": {
      "text/plain": [
       "1"
      ]
     },
     "execution_count": 345,
     "metadata": {},
     "output_type": "execute_result"
    }
   ],
   "source": [
    "est3.params.index.nlevels"
   ]
  },
  {
   "cell_type": "code",
   "execution_count": 347,
   "metadata": {},
   "outputs": [
    {
     "data": {
      "text/plain": [
       "True"
      ]
     },
     "execution_count": 347,
     "metadata": {},
     "output_type": "execute_result"
    }
   ],
   "source": [
    "isinstance(s.index,pd.MultiIndex)"
   ]
  },
  {
   "cell_type": "code",
   "execution_count": 349,
   "metadata": {},
   "outputs": [
    {
     "ename": "AttributeError",
     "evalue": "'numpy.ndarray' object has no attribute 'nlevels'",
     "output_type": "error",
     "traceback": [
      "\u001b[1;31m---------------------------------------------------------------------------\u001b[0m",
      "\u001b[1;31mAttributeError\u001b[0m                            Traceback (most recent call last)",
      "\u001b[1;32m<ipython-input-349-c52a0a940693>\u001b[0m in \u001b[0;36m<module>\u001b[1;34m\u001b[0m\n\u001b[1;32m----> 1\u001b[1;33m \u001b[0mmi1\u001b[0m\u001b[1;33m.\u001b[0m\u001b[0mnlevels\u001b[0m\u001b[1;33m\u001b[0m\u001b[1;33m\u001b[0m\u001b[0m\n\u001b[0m",
      "\u001b[1;31mAttributeError\u001b[0m: 'numpy.ndarray' object has no attribute 'nlevels'"
     ]
    }
   ],
   "source": [
    "mi1.nlevels"
   ]
  },
  {
   "cell_type": "code",
   "execution_count": 353,
   "metadata": {},
   "outputs": [
    {
     "data": {
      "image/png": "[encoded data removed]",
      "text/plain": [
       "<Figure size 864x72 with 1 Axes>"
      ]
     },
     "metadata": {
      "needs_background": "light"
     },
     "output_type": "display_data"
    }
   ],
   "source": [
    "import seaborn as sns\n",
    "import matplotlib.pyplot as plt\n",
    "mono_blue = {\n",
    "    12: [\"#547482\", \"#5c7f8e\", \"#63899a\", \"#6f92a2\", \"#7b9baa\", \"#87a4b1\", \"#93adb9\", \"#9fb6c1\", \"#abbfc8\", \"#b6c8d0\", \"#c2d1d8\", \"#cedae0\"],\n",
    "}\n",
    "\n",
    "mono_red = {\n",
    "    12: [\"#a04d35\", \"#b3563b\", \"#c26246\", \"#c87259\", \"#ce826c\", \"#d5937f\", \"#dba392\", \"#e0b1a3\", \"#e5bdb1\", \"#eacac0\", \"#efd6cf\", \"#f4e3de\"]\n",
    "}\n",
    "\n",
    "mono_yellow = {\n",
    "    12: [\"#d98213\", \"#eb8d15\", \"#ec9627\", \"#efa74b\", \"#f1b05d\", \"#f3b96f\", \"#f4c281\", \"#f6ca93\", \"#f7d3a5\", \"#f9dcb7\", \"#fae5c9\", \"#fceedb\"\n",
    "        ]\n",
    "}\n",
    "\n",
    "\n",
    "mono_green = {\n",
    "    12: [\"#606449\", \"#6b6f51\", \"#767b5a\", \"#818662\",\"#8c916a\", \"#959a75\", \"#9ea280\", \"#a6ab8c\", \"#afb397\", \"#b8bba2\", \"#c1c4ae\", \"#c9ccb9\"\n",
    "        ]\n",
    "}\n",
    "\n",
    "\n",
    "mono_orange = {\n",
    "    12: [\"#d35b13\", \"#ea6516\", \"#ec752e\", \"#ee8445\", \"#f0935c\", \"#f2a374\", \"#f4b28b\", \"#f6bf9f\", \"#f8cbb1\", \"#f9d7c3\", \"#fbe3d5\", \"#fdefe7\"]\n",
    "}\n",
    "\n",
    "\n",
    "mono_purple = {\n",
    "    12: [\"#4e3537\", \"#5d4042\", \"#6c4a4d\", \"#7b5458\", \"#8a5f63\", \"#996a6e\", \"#a2777a\", \"#a98286\", \"#b18e91\", \"#b9999c\", \"#c1a5a8\", \"#c9b1b3\"]\n",
    "}\n",
    "\n",
    "for pal in mono_yellow.values():\n",
    "    sns.palplot(pal)\n",
    "    plt.show()"
   ]
  },
  {
   "cell_type": "code",
   "execution_count": null,
   "metadata": {},
   "outputs": [],
   "source": []
  }
 ],
 "metadata": {
  "@webio": {
   "lastCommId": null,
   "lastKernelId": null
  },
  "kernelspec": {
   "display_name": "Python 3",
   "language": "python",
   "name": "python3"
  },
  "language_info": {
   "codemirror_mode": {
    "name": "ipython",
    "version": 3
   },
   "file_extension": ".py",
   "mimetype": "text/x-python",
   "name": "python",
   "nbconvert_exporter": "python",
   "pygments_lexer": "ipython3",
   "version": "3.7.3"
  }
 },
 "nbformat": 4,
 "nbformat_minor": 2
}
