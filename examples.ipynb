{
 "cells": [
  {
   "cell_type": "markdown",
   "metadata": {},
   "source": [
    "# Stargazer Examples"
   ]
  },
  {
   "cell_type": "code",
   "execution_count": 3,
   "metadata": {},
   "outputs": [],
   "source": [
    "import pandas as pd\n",
    "from sklearn import datasets\n",
    "import statsmodels.api as sm\n",
    "from stargazer.stargazer import Stargazer\n",
    "from IPython.core.display import HTML\n"
   ]
  },
  {
   "cell_type": "code",
   "execution_count": 7,
   "metadata": {},
   "outputs": [
    {
     "data": {
      "text/plain": [
       "'\\\\begin{table}[!htbp] \\\\centering\\n  \\\\label{}\\n\\\\begin{tabular}{@{\\\\extracolsep{5pt}}lcc}\\n\\\\\\\\[-1.8ex]\\\\hline\\n\\\\hline \\\\\\\\[-1.8ex]\\n& \\\\multicolumn{2}{c}{\\\\textit{Dependent variable:}} \\\\\\n\\\\cr \\\\cline{2-3}\\n\\\\\\\\[-1.8ex] & (1) & (2) \\\\\\\\\\n\\\\hline \\\\\\\\[-1.8ex]\\n ABP & 416.674$^{***}$ & 397.583$^{***}$ \\\\\\\\\\n  & (69.495) & (70.87) \\\\\\\\\\n  & & \\\\\\\\\\n Age & 37.241$^{}$ & 24.704$^{}$ \\\\\\\\\\n  & (64.117) & (65.411) \\\\\\\\\\n  & & \\\\\\\\\\n BMI & 787.179$^{***}$ & 789.742$^{***}$ \\\\\\\\\\n  & (65.424) & (66.887) \\\\\\\\\\n  & & \\\\\\\\\\n S1 & & 197.852$^{}$ \\\\\\\\\\n  & & (143.812) \\\\\\\\\\n  & & \\\\\\\\\\n S2 & & -169.251$^{}$ \\\\\\\\\\n  & & (142.744) \\\\\\\\\\n  & & \\\\\\\\\\n Sex & -106.578$^{*}$ & -82.862$^{}$ \\\\\\\\\\n  & (62.125) & (64.851) \\\\\\\\\\n  & & \\\\\\\\\\n const & 152.133$^{***}$ & 152.133$^{***}$ \\\\\\\\\\n  & (2.853) & (2.853) \\\\\\\\\\n  & & \\\\\\\\\\n\\\\hline \\\\\\\\[-1.8ex]\\n Observations & 442.0 & 442.0 \\\\\\\\\\n R${2}$ & 0.4 & 0.403 \\\\\\\\\\n Adjusted R${2}$ & 0.395 & 0.395 \\\\\\\\\\n Residual Std. Error & 59.976(df = 437.0) & 59.982(df = 435.0)  \\\\\\\\\\n F Statistic & 72.913$^{***}$ (df = 4.0; 437.0) & 48.915$^{***}$ (df = 6.0; 435.0) \\\\\\\\\\n\\\\hline\\n\\\\hline \\\\\\\\[-1.8ex]\\n\\\\textit{Note:} & \\\\multicolumn{2}{r}{$^{*}$p$<$0.1; $^{**}$p$<$0.05; $^{***}$p$<$0.01} \\\\\\\\\\n\\\\end{tabular}\\n\\\\end{table}'"
      ]
     },
     "execution_count": 7,
     "metadata": {},
     "output_type": "execute_result"
    }
   ],
   "source": [
    "stargazer.render_latex()"
   ]
  },
  {
   "cell_type": "code",
   "execution_count": 12,
   "metadata": {},
   "outputs": [
    {
     "ename": "ModuleNotFoundError",
     "evalue": "No module named 'pdflatex'",
     "output_type": "error",
     "traceback": [
      "\u001b[1;31m---------------------------------------------------------------------------\u001b[0m",
      "\u001b[1;31mModuleNotFoundError\u001b[0m                       Traceback (most recent call last)",
      "\u001b[1;32m<ipython-input-12-98064e216bf5>\u001b[0m in \u001b[0;36m<module>\u001b[1;34m\u001b[0m\n\u001b[1;32m----> 1\u001b[1;33m \u001b[1;32mfrom\u001b[0m \u001b[0mpdflatex\u001b[0m \u001b[1;32mimport\u001b[0m \u001b[0mPDFLaTeX\u001b[0m\u001b[1;33m\u001b[0m\u001b[1;33m\u001b[0m\u001b[0m\n\u001b[0m",
      "\u001b[1;31mModuleNotFoundError\u001b[0m: No module named 'pdflatex'"
     ]
    }
   ],
   "source": [
    "from pdflatex import PDFLaTeX\n"
   ]
  },
  {
   "cell_type": "code",
   "execution_count": 4,
   "metadata": {},
   "outputs": [
    {
     "name": "stderr",
     "output_type": "stream",
     "text": [
      "C:\\ProgramData\\Anaconda3\\lib\\site-packages\\numpy\\core\\fromnumeric.py:2542: FutureWarning: Method .ptp is deprecated and will be removed in a future version. Use numpy.ptp instead.\n",
      "  return ptp(axis=axis, out=out, **kwargs)\n"
     ]
    }
   ],
   "source": [
    "diabetes = datasets.load_diabetes()\n",
    "df = pd.DataFrame(diabetes.data)\n",
    "df.columns = ['Age', 'Sex', 'BMI', 'ABP', 'S1', 'S2', 'S3', 'S4', 'S5', 'S6']\n",
    "df['target'] = diabetes.target\n",
    "\n",
    "est = sm.OLS(endog=df['target'], exog=sm.add_constant(df[df.columns[0:4]])).fit()\n",
    "est2 = sm.OLS(endog=df['target'], exog=sm.add_constant(df[df.columns[0:6]])).fit()\n",
    "\n",
    "\n",
    "stargazer = Stargazer([est, est2])"
   ]
  },
  {
   "cell_type": "code",
   "execution_count": 34,
   "metadata": {},
   "outputs": [
    {
     "data": {
      "text/plain": [
       "NoneType"
      ]
     },
     "execution_count": 34,
     "metadata": {},
     "output_type": "execute_result"
    }
   ],
   "source": [
    "type(stargazer.cov_map)"
   ]
  },
  {
   "cell_type": "markdown",
   "metadata": {},
   "source": [
    "## Standard"
   ]
  },
  {
   "cell_type": "code",
   "execution_count": 31,
   "metadata": {},
   "outputs": [
    {
     "data": {
      "text/plain": [
       "['ABP', 'Age', 'BMI', 'S1', 'S2', 'Sex', 'const']"
      ]
     },
     "execution_count": 31,
     "metadata": {},
     "output_type": "execute_result"
    }
   ],
   "source": [
    "stargazer.cov_names"
   ]
  },
  {
   "cell_type": "code",
   "execution_count": null,
   "metadata": {},
   "outputs": [],
   "source": []
  },
  {
   "cell_type": "code",
   "execution_count": 22,
   "metadata": {},
   "outputs": [
    {
     "data": {
      "text/html": [
       "<table style=\"text-align:center\"><tr><td colspan=\"3\" style=\"border-bottom: 1px solid black\"></td></tr><tr><td style=\"text-align:left\"></td><td colspan=\"2\"><em>Dependent variable:</em></td></tr><tr><td style=\"text-align:left\"></td><tr><td style=\"text-align:left\"></td><td>(1)</td><td>(2)</td></tr><tr><td colspan=\"3\" style=\"border-bottom: 1px solid black\"></td></tr><tr><td style=\"text-align:left\">ABP</td><td>416.674<sup>***</sup></td><td>397.583<sup>***</sup></td></tr><tr><td style=\"text-align:left\"></td><td>(69.495)</td><td>(70.87)</td></tr><tr><td style=\"text-align:left\">Age</td><td>37.241<sup></sup></td><td>24.704<sup></sup></td></tr><tr><td style=\"text-align:left\"></td><td>(64.117)</td><td>(65.411)</td></tr><tr><td style=\"text-align:left\">BMI</td><td>787.179<sup>***</sup></td><td>789.742<sup>***</sup></td></tr><tr><td style=\"text-align:left\"></td><td>(65.424)</td><td>(66.887)</td></tr><tr><td style=\"text-align:left\">S1</td><td></td><td>197.852<sup></sup></td></tr><tr><td style=\"text-align:left\"></td><td></td><td>(143.812)</td></tr><tr><td style=\"text-align:left\">S2</td><td></td><td>-169.251<sup></sup></td></tr><tr><td style=\"text-align:left\"></td><td></td><td>(142.744)</td></tr><tr><td style=\"text-align:left\">Sex</td><td>-106.578<sup>*</sup></td><td>-82.862<sup></sup></td></tr><tr><td style=\"text-align:left\"></td><td>(62.125)</td><td>(64.851)</td></tr><tr><td style=\"text-align:left\">const</td><td>152.133<sup>***</sup></td><td>152.133<sup>***</sup></td></tr><tr><td style=\"text-align:left\"></td><td>(2.853)</td><td>(2.853)</td></tr><td colspan=\"3\" style=\"border-bottom: 1px solid black\"></td></tr><tr><td style=\"text-align: left\">Observations</td><td>442.0</td><td>442.0</td></tr><tr><td style=\"text-align: left\">R<sup>2</sup></td><td>0.4</td><td>0.403</td></tr><tr><td style=\"text-align: left\">Adjusted R<sup>2</sup></td><td>0.395</td><td>0.395</td></tr><tr><td style=\"text-align: left\">Residual Std. Error</td><td>59.976(df = 437.0)</td><td>59.982(df = 435.0)</td></tr><tr><td style=\"text-align: left\">F Statistic</td><td>72.913<sup>***</sup>(df = 4.0; 437.0)</td><td>48.915<sup>***</sup>(df = 6.0; 435.0)</td></tr><tr><td colspan=\"3\" style=\"border-bottom: 1px solid black\"></td></tr><tr><td style=\"text-align: left\">Note:</td>\n",
       " <td colspan=\"2\" style=\"text-align: right\">\n",
       "  <sup>*</sup>p&lt;0.1;\n",
       "  <sup>**</sup>p&lt;0.05;\n",
       "  <sup>***</sup>p&lt;0.01\n",
       " </td></tr></table>"
      ],
      "text/plain": [
       "<IPython.core.display.HTML object>"
      ]
     },
     "execution_count": 22,
     "metadata": {},
     "output_type": "execute_result"
    }
   ],
   "source": [
    "HTML(stargazer.render_html())"
   ]
  },
  {
   "cell_type": "markdown",
   "metadata": {},
   "source": [
    "## Custom Title"
   ]
  },
  {
   "cell_type": "code",
   "execution_count": 4,
   "metadata": {},
   "outputs": [
    {
     "data": {
      "text/html": [
       "example<br><table style=\"text-align:center\"><tr><td colspan=\"3\" style=\"border-bottom: 1px solid black\"></td></tr><tr><td style=\"text-align:left\"></td><td colspan=\"2\"><em>Dependent variable:</em></td></tr><tr><td style=\"text-align:left\"></td><tr><td style=\"text-align:left\"></td><td>(1)</td><td>(2)</td></tr><tr><td colspan=\"3\" style=\"border-bottom: 1px solid black\"></td></tr><tr><td style=\"text-align:left\">ABP</td><td>416.674<sup>***</sup></td><td>397.583<sup>***</sup></td></tr><tr><td style=\"text-align:left\"></td><td>(69.495)</td><td>(70.87)</td></tr><tr><td style=\"text-align:left\">Age</td><td>37.241<sup></sup></td><td>24.704<sup></sup></td></tr><tr><td style=\"text-align:left\"></td><td>(64.117)</td><td>(65.411)</td></tr><tr><td style=\"text-align:left\">BMI</td><td>787.179<sup>***</sup></td><td>789.742<sup>***</sup></td></tr><tr><td style=\"text-align:left\"></td><td>(65.424)</td><td>(66.887)</td></tr><tr><td style=\"text-align:left\">S1</td><td></td><td>197.852<sup></sup></td></tr><tr><td style=\"text-align:left\"></td><td></td><td>(143.812)</td></tr><tr><td style=\"text-align:left\">S2</td><td></td><td>-169.251<sup></sup></td></tr><tr><td style=\"text-align:left\"></td><td></td><td>(142.744)</td></tr><tr><td style=\"text-align:left\">Sex</td><td>-106.578<sup>*</sup></td><td>-82.862<sup></sup></td></tr><tr><td style=\"text-align:left\"></td><td>(62.125)</td><td>(64.851)</td></tr><tr><td style=\"text-align:left\">const</td><td>152.133<sup>***</sup></td><td>152.133<sup>***</sup></td></tr><tr><td style=\"text-align:left\"></td><td>(2.853)</td><td>(2.853)</td></tr><td colspan=\"3\" style=\"border-bottom: 1px solid black\"></td></tr><tr><td style=\"text-align: left\">Observations</td><td>442.0</td><td>442.0</td></tr><tr><td style=\"text-align: left\">R<sup>2</sup></td><td>0.4</td><td>0.403</td></tr><tr><td style=\"text-align: left\">Adjusted R<sup>2</sup></td><td>0.395</td><td>0.395</td></tr><tr><td style=\"text-align: left\">Residual Std. Error</td><td>59.976(df = 437.0)</td><td>59.982(df = 435.0)</td></tr><tr><td style=\"text-align: left\">F Statistic</td><td>72.913<sup>***</sup>(df = 4.0; 437.0)</td><td>48.915<sup>***</sup>(df = 6.0; 435.0)</td></tr><tr><td colspan=\"3\" style=\"border-bottom: 1px solid black\"></td></tr><tr><td style=\"text-align: left\">Note:</td>\n",
       " <td colspan=\"2\" style=\"text-align: right\">\n",
       "  <sup>*</sup>p&lt;0.1;\n",
       "  <sup>**</sup>p&lt;0.05;\n",
       "  <sup>***</sup>p&lt;0.01\n",
       " </td></tr></table>"
      ],
      "text/plain": [
       "<IPython.core.display.HTML object>"
      ]
     },
     "execution_count": 4,
     "metadata": {},
     "output_type": "execute_result"
    }
   ],
   "source": [
    "stargazer.title('example')\n",
    "HTML(stargazer.render_html())"
   ]
  },
  {
   "cell_type": "markdown",
   "metadata": {},
   "source": [
    "## Custom Model Names"
   ]
  },
  {
   "cell_type": "code",
   "execution_count": 5,
   "metadata": {},
   "outputs": [
    {
     "data": {
      "text/html": [
       "Diabetes Study<br><table style=\"text-align:center\"><tr><td colspan=\"3\" style=\"border-bottom: 1px solid black\"></td></tr><tr><td style=\"text-align:left\"></td><td colspan=\"2\"><em>Dependent variable:</em></td></tr><tr><td style=\"text-align:left\"></td><tr><td></td><td colspan=\"1\">Model 1</td><td colspan=\"1\">Model 2</td></tr><tr><td style=\"text-align:left\"></td><td>(1)</td><td>(2)</td></tr><tr><td colspan=\"3\" style=\"border-bottom: 1px solid black\"></td></tr><tr><td style=\"text-align:left\">ABP</td><td>416.674<sup>***</sup></td><td>397.583<sup>***</sup></td></tr><tr><td style=\"text-align:left\"></td><td>(69.495)</td><td>(70.87)</td></tr><tr><td style=\"text-align:left\">Age</td><td>37.241<sup></sup></td><td>24.704<sup></sup></td></tr><tr><td style=\"text-align:left\"></td><td>(64.117)</td><td>(65.411)</td></tr><tr><td style=\"text-align:left\">BMI</td><td>787.179<sup>***</sup></td><td>789.742<sup>***</sup></td></tr><tr><td style=\"text-align:left\"></td><td>(65.424)</td><td>(66.887)</td></tr><tr><td style=\"text-align:left\">S1</td><td></td><td>197.852<sup></sup></td></tr><tr><td style=\"text-align:left\"></td><td></td><td>(143.812)</td></tr><tr><td style=\"text-align:left\">S2</td><td></td><td>-169.251<sup></sup></td></tr><tr><td style=\"text-align:left\"></td><td></td><td>(142.744)</td></tr><tr><td style=\"text-align:left\">Sex</td><td>-106.578<sup>*</sup></td><td>-82.862<sup></sup></td></tr><tr><td style=\"text-align:left\"></td><td>(62.125)</td><td>(64.851)</td></tr><tr><td style=\"text-align:left\">const</td><td>152.133<sup>***</sup></td><td>152.133<sup>***</sup></td></tr><tr><td style=\"text-align:left\"></td><td>(2.853)</td><td>(2.853)</td></tr><td colspan=\"3\" style=\"border-bottom: 1px solid black\"></td></tr><tr><td style=\"text-align: left\">Observations</td><td>442.0</td><td>442.0</td></tr><tr><td style=\"text-align: left\">R<sup>2</sup></td><td>0.4</td><td>0.403</td></tr><tr><td style=\"text-align: left\">Adjusted R<sup>2</sup></td><td>0.395</td><td>0.395</td></tr><tr><td style=\"text-align: left\">Residual Std. Error</td><td>59.976(df = 437.0)</td><td>59.982(df = 435.0)</td></tr><tr><td style=\"text-align: left\">F Statistic</td><td>72.913<sup>***</sup>(df = 4.0; 437.0)</td><td>48.915<sup>***</sup>(df = 6.0; 435.0)</td></tr><tr><td colspan=\"3\" style=\"border-bottom: 1px solid black\"></td></tr><tr><td style=\"text-align: left\">Note:</td>\n",
       " <td colspan=\"2\" style=\"text-align: right\">\n",
       "  <sup>*</sup>p&lt;0.1;\n",
       "  <sup>**</sup>p&lt;0.05;\n",
       "  <sup>***</sup>p&lt;0.01\n",
       " </td></tr></table>"
      ],
      "text/plain": [
       "<IPython.core.display.HTML object>"
      ]
     },
     "execution_count": 5,
     "metadata": {},
     "output_type": "execute_result"
    }
   ],
   "source": [
    "stargazer.custom_columns(['Model 1', 'Model 2'], [1, 1])\n",
    "HTML(stargazer.render_html())"
   ]
  },
  {
   "cell_type": "code",
   "execution_count": 6,
   "metadata": {},
   "outputs": [
    {
     "data": {
      "text/html": [
       "Diabetes Study<br><table style=\"text-align:center\"><tr><td colspan=\"3\" style=\"border-bottom: 1px solid black\"></td></tr><tr><td style=\"text-align:left\"></td><td colspan=\"2\"><em>Dependent variable:</em></td></tr><tr><td style=\"text-align:left\"></td><td colspan=\"2\">Test model name</td></tr><tr><td style=\"text-align:left\"></td><td>(1)</td><td>(2)</td></tr><tr><td colspan=\"3\" style=\"border-bottom: 1px solid black\"></td></tr><tr><td style=\"text-align:left\">ABP</td><td>416.674<sup>***</sup></td><td>397.583<sup>***</sup></td></tr><tr><td style=\"text-align:left\"></td><td>(69.495)</td><td>(70.87)</td></tr><tr><td style=\"text-align:left\">Age</td><td>37.241<sup></sup></td><td>24.704<sup></sup></td></tr><tr><td style=\"text-align:left\"></td><td>(64.117)</td><td>(65.411)</td></tr><tr><td style=\"text-align:left\">BMI</td><td>787.179<sup>***</sup></td><td>789.742<sup>***</sup></td></tr><tr><td style=\"text-align:left\"></td><td>(65.424)</td><td>(66.887)</td></tr><tr><td style=\"text-align:left\">S1</td><td></td><td>197.852<sup></sup></td></tr><tr><td style=\"text-align:left\"></td><td></td><td>(143.812)</td></tr><tr><td style=\"text-align:left\">S2</td><td></td><td>-169.251<sup></sup></td></tr><tr><td style=\"text-align:left\"></td><td></td><td>(142.744)</td></tr><tr><td style=\"text-align:left\">Sex</td><td>-106.578<sup>*</sup></td><td>-82.862<sup></sup></td></tr><tr><td style=\"text-align:left\"></td><td>(62.125)</td><td>(64.851)</td></tr><tr><td style=\"text-align:left\">const</td><td>152.133<sup>***</sup></td><td>152.133<sup>***</sup></td></tr><tr><td style=\"text-align:left\"></td><td>(2.853)</td><td>(2.853)</td></tr><td colspan=\"3\" style=\"border-bottom: 1px solid black\"></td></tr><tr><td style=\"text-align: left\">Observations</td><td>442.0</td><td>442.0</td></tr><tr><td style=\"text-align: left\">R<sup>2</sup></td><td>0.4</td><td>0.403</td></tr><tr><td style=\"text-align: left\">Adjusted R<sup>2</sup></td><td>0.395</td><td>0.395</td></tr><tr><td style=\"text-align: left\">Residual Std. Error</td><td>59.976(df = 437.0)</td><td>59.982(df = 435.0)</td></tr><tr><td style=\"text-align: left\">F Statistic</td><td>72.913<sup>***</sup>(df = 4.0; 437.0)</td><td>48.915<sup>***</sup>(df = 6.0; 435.0)</td></tr><tr><td colspan=\"3\" style=\"border-bottom: 1px solid black\"></td></tr><tr><td style=\"text-align: left\">Note:</td>\n",
       " <td colspan=\"2\" style=\"text-align: right\">\n",
       "  <sup>*</sup>p&lt;0.1;\n",
       "  <sup>**</sup>p&lt;0.05;\n",
       "  <sup>***</sup>p&lt;0.01\n",
       " </td></tr></table>"
      ],
      "text/plain": [
       "<IPython.core.display.HTML object>"
      ]
     },
     "execution_count": 6,
     "metadata": {},
     "output_type": "execute_result"
    }
   ],
   "source": [
    "stargazer.custom_columns('Test model name')\n",
    "HTML(stargazer.render_html())"
   ]
  },
  {
   "cell_type": "markdown",
   "metadata": {},
   "source": [
    "## Remove Model Numbers"
   ]
  },
  {
   "cell_type": "code",
   "execution_count": 7,
   "metadata": {},
   "outputs": [
    {
     "data": {
      "text/html": [
       "Diabetes Study<br><table style=\"text-align:center\"><tr><td colspan=\"3\" style=\"border-bottom: 1px solid black\"></td></tr><tr><td style=\"text-align:left\"></td><td colspan=\"2\"><em>Dependent variable:</em></td></tr><tr><td style=\"text-align:left\"></td><td colspan=\"2\">Test model name</td></tr><tr><td colspan=\"3\" style=\"border-bottom: 1px solid black\"></td></tr><tr><td style=\"text-align:left\">ABP</td><td>416.674<sup>***</sup></td><td>397.583<sup>***</sup></td></tr><tr><td style=\"text-align:left\"></td><td>(69.495)</td><td>(70.87)</td></tr><tr><td style=\"text-align:left\">Age</td><td>37.241<sup></sup></td><td>24.704<sup></sup></td></tr><tr><td style=\"text-align:left\"></td><td>(64.117)</td><td>(65.411)</td></tr><tr><td style=\"text-align:left\">BMI</td><td>787.179<sup>***</sup></td><td>789.742<sup>***</sup></td></tr><tr><td style=\"text-align:left\"></td><td>(65.424)</td><td>(66.887)</td></tr><tr><td style=\"text-align:left\">S1</td><td></td><td>197.852<sup></sup></td></tr><tr><td style=\"text-align:left\"></td><td></td><td>(143.812)</td></tr><tr><td style=\"text-align:left\">S2</td><td></td><td>-169.251<sup></sup></td></tr><tr><td style=\"text-align:left\"></td><td></td><td>(142.744)</td></tr><tr><td style=\"text-align:left\">Sex</td><td>-106.578<sup>*</sup></td><td>-82.862<sup></sup></td></tr><tr><td style=\"text-align:left\"></td><td>(62.125)</td><td>(64.851)</td></tr><tr><td style=\"text-align:left\">const</td><td>152.133<sup>***</sup></td><td>152.133<sup>***</sup></td></tr><tr><td style=\"text-align:left\"></td><td>(2.853)</td><td>(2.853)</td></tr><td colspan=\"3\" style=\"border-bottom: 1px solid black\"></td></tr><tr><td style=\"text-align: left\">Observations</td><td>442.0</td><td>442.0</td></tr><tr><td style=\"text-align: left\">R<sup>2</sup></td><td>0.4</td><td>0.403</td></tr><tr><td style=\"text-align: left\">Adjusted R<sup>2</sup></td><td>0.395</td><td>0.395</td></tr><tr><td style=\"text-align: left\">Residual Std. Error</td><td>59.976(df = 437.0)</td><td>59.982(df = 435.0)</td></tr><tr><td style=\"text-align: left\">F Statistic</td><td>72.913<sup>***</sup>(df = 4.0; 437.0)</td><td>48.915<sup>***</sup>(df = 6.0; 435.0)</td></tr><tr><td colspan=\"3\" style=\"border-bottom: 1px solid black\"></td></tr><tr><td style=\"text-align: left\">Note:</td>\n",
       " <td colspan=\"2\" style=\"text-align: right\">\n",
       "  <sup>*</sup>p&lt;0.1;\n",
       "  <sup>**</sup>p&lt;0.05;\n",
       "  <sup>***</sup>p&lt;0.01\n",
       " </td></tr></table>"
      ],
      "text/plain": [
       "<IPython.core.display.HTML object>"
      ]
     },
     "execution_count": 7,
     "metadata": {},
     "output_type": "execute_result"
    }
   ],
   "source": [
    "stargazer.show_model_numbers(False)\n",
    "HTML(stargazer.render_html())"
   ]
  },
  {
   "cell_type": "markdown",
   "metadata": {},
   "source": [
    "## Specify Significant Digits"
   ]
  },
  {
   "cell_type": "code",
   "execution_count": 8,
   "metadata": {},
   "outputs": [
    {
     "data": {
      "text/html": [
       "Diabetes Study<br><table style=\"text-align:center\"><tr><td colspan=\"3\" style=\"border-bottom: 1px solid black\"></td></tr><tr><td style=\"text-align:left\"></td><td colspan=\"2\"><em>Dependent variable:</em></td></tr><tr><td style=\"text-align:left\"></td><td colspan=\"2\">Test model name</td></tr><tr><td colspan=\"3\" style=\"border-bottom: 1px solid black\"></td></tr><tr><td style=\"text-align:left\">ABP</td><td>416.67<sup>***</sup></td><td>397.58<sup>***</sup></td></tr><tr><td style=\"text-align:left\"></td><td>(69.49)</td><td>(70.87)</td></tr><tr><td style=\"text-align:left\">Age</td><td>37.24<sup></sup></td><td>24.7<sup></sup></td></tr><tr><td style=\"text-align:left\"></td><td>(64.12)</td><td>(65.41)</td></tr><tr><td style=\"text-align:left\">BMI</td><td>787.18<sup>***</sup></td><td>789.74<sup>***</sup></td></tr><tr><td style=\"text-align:left\"></td><td>(65.42)</td><td>(66.89)</td></tr><tr><td style=\"text-align:left\">S1</td><td></td><td>197.85<sup></sup></td></tr><tr><td style=\"text-align:left\"></td><td></td><td>(143.81)</td></tr><tr><td style=\"text-align:left\">S2</td><td></td><td>-169.25<sup></sup></td></tr><tr><td style=\"text-align:left\"></td><td></td><td>(142.74)</td></tr><tr><td style=\"text-align:left\">Sex</td><td>-106.58<sup>*</sup></td><td>-82.86<sup></sup></td></tr><tr><td style=\"text-align:left\"></td><td>(62.13)</td><td>(64.85)</td></tr><tr><td style=\"text-align:left\">const</td><td>152.13<sup>***</sup></td><td>152.13<sup>***</sup></td></tr><tr><td style=\"text-align:left\"></td><td>(2.85)</td><td>(2.85)</td></tr><td colspan=\"3\" style=\"border-bottom: 1px solid black\"></td></tr><tr><td style=\"text-align: left\">Observations</td><td>442.0</td><td>442.0</td></tr><tr><td style=\"text-align: left\">R<sup>2</sup></td><td>0.4</td><td>0.4</td></tr><tr><td style=\"text-align: left\">Adjusted R<sup>2</sup></td><td>0.39</td><td>0.39</td></tr><tr><td style=\"text-align: left\">Residual Std. Error</td><td>59.98(df = 437.0)</td><td>59.98(df = 435.0)</td></tr><tr><td style=\"text-align: left\">F Statistic</td><td>72.91<sup>***</sup>(df = 4.0; 437.0)</td><td>48.91<sup>***</sup>(df = 6.0; 435.0)</td></tr><tr><td colspan=\"3\" style=\"border-bottom: 1px solid black\"></td></tr><tr><td style=\"text-align: left\">Note:</td>\n",
       " <td colspan=\"2\" style=\"text-align: right\">\n",
       "  <sup>*</sup>p&lt;0.1;\n",
       "  <sup>**</sup>p&lt;0.05;\n",
       "  <sup>***</sup>p&lt;0.01\n",
       " </td></tr></table>"
      ],
      "text/plain": [
       "<IPython.core.display.HTML object>"
      ]
     },
     "execution_count": 8,
     "metadata": {},
     "output_type": "execute_result"
    }
   ],
   "source": [
    "stargazer.significant_digits(2)\n",
    "HTML(stargazer.render_html())"
   ]
  },
  {
   "cell_type": "markdown",
   "metadata": {},
   "source": [
    "## Show Confidence Intervals Over Standard Errors"
   ]
  },
  {
   "cell_type": "code",
   "execution_count": 9,
   "metadata": {},
   "outputs": [
    {
     "data": {
      "text/html": [
       "Diabetes Study<br><table style=\"text-align:center\"><tr><td colspan=\"3\" style=\"border-bottom: 1px solid black\"></td></tr><tr><td style=\"text-align:left\"></td><td colspan=\"2\"><em>Dependent variable:</em></td></tr><tr><td style=\"text-align:left\"></td><td colspan=\"2\">Test model name</td></tr><tr><td colspan=\"3\" style=\"border-bottom: 1px solid black\"></td></tr><tr><td style=\"text-align:left\">ABP</td><td>416.67<sup>***</sup></td><td>397.58<sup>***</sup></td></tr><tr><td style=\"text-align:left\"></td><td>(280.09 , 553.26)</td><td>(258.29 , 536.87)</td></tr><tr><td style=\"text-align:left\">Age</td><td>37.24<sup></sup></td><td>24.7<sup></sup></td></tr><tr><td style=\"text-align:left\"></td><td>(-88.78 , 163.26)</td><td>(-103.86 , 153.26)</td></tr><tr><td style=\"text-align:left\">BMI</td><td>787.18<sup>***</sup></td><td>789.74<sup>***</sup></td></tr><tr><td style=\"text-align:left\"></td><td>(658.59 , 915.76)</td><td>(658.28 , 921.2)</td></tr><tr><td style=\"text-align:left\">S1</td><td></td><td>197.85<sup></sup></td></tr><tr><td style=\"text-align:left\"></td><td></td><td>(-84.8 , 480.51)</td></tr><tr><td style=\"text-align:left\">S2</td><td></td><td>-169.25<sup></sup></td></tr><tr><td style=\"text-align:left\"></td><td></td><td>(-449.8 , 111.3)</td></tr><tr><td style=\"text-align:left\">Sex</td><td>-106.58<sup>*</sup></td><td>-82.86<sup></sup></td></tr><tr><td style=\"text-align:left\"></td><td>(-228.68 , 15.52)</td><td>(-210.32 , 44.6)</td></tr><tr><td style=\"text-align:left\">const</td><td>152.13<sup>***</sup></td><td>152.13<sup>***</sup></td></tr><tr><td style=\"text-align:left\"></td><td>(146.53 , 157.74)</td><td>(146.53 , 157.74)</td></tr><td colspan=\"3\" style=\"border-bottom: 1px solid black\"></td></tr><tr><td style=\"text-align: left\">Observations</td><td>442.0</td><td>442.0</td></tr><tr><td style=\"text-align: left\">R<sup>2</sup></td><td>0.4</td><td>0.4</td></tr><tr><td style=\"text-align: left\">Adjusted R<sup>2</sup></td><td>0.39</td><td>0.39</td></tr><tr><td style=\"text-align: left\">Residual Std. Error</td><td>59.98(df = 437.0)</td><td>59.98(df = 435.0)</td></tr><tr><td style=\"text-align: left\">F Statistic</td><td>72.91<sup>***</sup>(df = 4.0; 437.0)</td><td>48.91<sup>***</sup>(df = 6.0; 435.0)</td></tr><tr><td colspan=\"3\" style=\"border-bottom: 1px solid black\"></td></tr><tr><td style=\"text-align: left\">Note:</td>\n",
       " <td colspan=\"2\" style=\"text-align: right\">\n",
       "  <sup>*</sup>p&lt;0.1;\n",
       "  <sup>**</sup>p&lt;0.05;\n",
       "  <sup>***</sup>p&lt;0.01\n",
       " </td></tr></table>"
      ],
      "text/plain": [
       "<IPython.core.display.HTML object>"
      ]
     },
     "execution_count": 9,
     "metadata": {},
     "output_type": "execute_result"
    }
   ],
   "source": [
    "stargazer.show_confidence_intervals(True)\n",
    "HTML(stargazer.render_html())"
   ]
  },
  {
   "cell_type": "markdown",
   "metadata": {},
   "source": [
    "## Subset Covariates and/or Choose Covariate Order"
   ]
  },
  {
   "cell_type": "code",
   "execution_count": 10,
   "metadata": {},
   "outputs": [
    {
     "data": {
      "text/html": [
       "Diabetes Study<br><table style=\"text-align:center\"><tr><td colspan=\"3\" style=\"border-bottom: 1px solid black\"></td></tr><tr><td style=\"text-align:left\"></td><td colspan=\"2\"><em>Dependent variable:</em></td></tr><tr><td style=\"text-align:left\"></td><td colspan=\"2\">Test model name</td></tr><tr><td colspan=\"3\" style=\"border-bottom: 1px solid black\"></td></tr><tr><td style=\"text-align:left\">BMI</td><td>787.18<sup>***</sup></td><td>789.74<sup>***</sup></td></tr><tr><td style=\"text-align:left\"></td><td>(658.59 , 915.76)</td><td>(658.28 , 921.2)</td></tr><tr><td style=\"text-align:left\">Age</td><td>37.24<sup></sup></td><td>24.7<sup></sup></td></tr><tr><td style=\"text-align:left\"></td><td>(-88.78 , 163.26)</td><td>(-103.86 , 153.26)</td></tr><tr><td style=\"text-align:left\">S1</td><td></td><td>197.85<sup></sup></td></tr><tr><td style=\"text-align:left\"></td><td></td><td>(-84.8 , 480.51)</td></tr><tr><td style=\"text-align:left\">Sex</td><td>-106.58<sup>*</sup></td><td>-82.86<sup></sup></td></tr><tr><td style=\"text-align:left\"></td><td>(-228.68 , 15.52)</td><td>(-210.32 , 44.6)</td></tr><td colspan=\"3\" style=\"border-bottom: 1px solid black\"></td></tr><tr><td style=\"text-align: left\">Observations</td><td>442.0</td><td>442.0</td></tr><tr><td style=\"text-align: left\">R<sup>2</sup></td><td>0.4</td><td>0.4</td></tr><tr><td style=\"text-align: left\">Adjusted R<sup>2</sup></td><td>0.39</td><td>0.39</td></tr><tr><td style=\"text-align: left\">Residual Std. Error</td><td>59.98(df = 437.0)</td><td>59.98(df = 435.0)</td></tr><tr><td style=\"text-align: left\">F Statistic</td><td>72.91<sup>***</sup>(df = 4.0; 437.0)</td><td>48.91<sup>***</sup>(df = 6.0; 435.0)</td></tr><tr><td colspan=\"3\" style=\"border-bottom: 1px solid black\"></td></tr><tr><td style=\"text-align: left\">Note:</td>\n",
       " <td colspan=\"2\" style=\"text-align: right\">\n",
       "  <sup>*</sup>p&lt;0.1;\n",
       "  <sup>**</sup>p&lt;0.05;\n",
       "  <sup>***</sup>p&lt;0.01\n",
       " </td></tr></table>"
      ],
      "text/plain": [
       "<IPython.core.display.HTML object>"
      ]
     },
     "execution_count": 10,
     "metadata": {},
     "output_type": "execute_result"
    }
   ],
   "source": [
    "stargazer.covariate_order(['BMI', 'Age', 'S1', 'Sex'])\n",
    "HTML(stargazer.render_html())"
   ]
  },
  {
   "cell_type": "markdown",
   "metadata": {},
   "source": [
    "## Rename Covariates"
   ]
  },
  {
   "cell_type": "code",
   "execution_count": 11,
   "metadata": {},
   "outputs": [
    {
     "data": {
      "text/html": [
       "Diabetes Study<br><table style=\"text-align:center\"><tr><td colspan=\"3\" style=\"border-bottom: 1px solid black\"></td></tr><tr><td style=\"text-align:left\"></td><td colspan=\"2\"><em>Dependent variable:</em></td></tr><tr><td style=\"text-align:left\"></td><td colspan=\"2\">Test model name</td></tr><tr><td colspan=\"3\" style=\"border-bottom: 1px solid black\"></td></tr><tr><td style=\"text-align:left\">BMI</td><td>787.18<sup>***</sup></td><td>789.74<sup>***</sup></td></tr><tr><td style=\"text-align:left\"></td><td>(658.59 , 915.76)</td><td>(658.28 , 921.2)</td></tr><tr><td style=\"text-align:left\">Oldness</td><td>37.24<sup></sup></td><td>24.7<sup></sup></td></tr><tr><td style=\"text-align:left\"></td><td>(-88.78 , 163.26)</td><td>(-103.86 , 153.26)</td></tr><tr><td style=\"text-align:left\">S1</td><td></td><td>197.85<sup></sup></td></tr><tr><td style=\"text-align:left\"></td><td></td><td>(-84.8 , 480.51)</td></tr><tr><td style=\"text-align:left\">Sex</td><td>-106.58<sup>*</sup></td><td>-82.86<sup></sup></td></tr><tr><td style=\"text-align:left\"></td><td>(-228.68 , 15.52)</td><td>(-210.32 , 44.6)</td></tr><td colspan=\"3\" style=\"border-bottom: 1px solid black\"></td></tr><tr><td style=\"text-align: left\">Observations</td><td>442.0</td><td>442.0</td></tr><tr><td style=\"text-align: left\">R<sup>2</sup></td><td>0.4</td><td>0.4</td></tr><tr><td style=\"text-align: left\">Adjusted R<sup>2</sup></td><td>0.39</td><td>0.39</td></tr><tr><td style=\"text-align: left\">Residual Std. Error</td><td>59.98(df = 437.0)</td><td>59.98(df = 435.0)</td></tr><tr><td style=\"text-align: left\">F Statistic</td><td>72.91<sup>***</sup>(df = 4.0; 437.0)</td><td>48.91<sup>***</sup>(df = 6.0; 435.0)</td></tr><tr><td colspan=\"3\" style=\"border-bottom: 1px solid black\"></td></tr><tr><td style=\"text-align: left\">Note:</td>\n",
       " <td colspan=\"2\" style=\"text-align: right\">\n",
       "  <sup>*</sup>p&lt;0.1;\n",
       "  <sup>**</sup>p&lt;0.05;\n",
       "  <sup>***</sup>p&lt;0.01\n",
       " </td></tr></table>"
      ],
      "text/plain": [
       "<IPython.core.display.HTML object>"
      ]
     },
     "execution_count": 11,
     "metadata": {},
     "output_type": "execute_result"
    }
   ],
   "source": [
    "stargazer.rename_covariates({'Age': 'Oldness'})\n",
    "HTML(stargazer.render_html())"
   ]
  },
  {
   "cell_type": "markdown",
   "metadata": {},
   "source": [
    "## Hide/Show Degrees of Freedom"
   ]
  },
  {
   "cell_type": "code",
   "execution_count": 12,
   "metadata": {},
   "outputs": [
    {
     "data": {
      "text/html": [
       "Diabetes Study<br><table style=\"text-align:center\"><tr><td colspan=\"3\" style=\"border-bottom: 1px solid black\"></td></tr><tr><td style=\"text-align:left\"></td><td colspan=\"2\"><em>Dependent variable:</em></td></tr><tr><td style=\"text-align:left\"></td><td colspan=\"2\">Test model name</td></tr><tr><td colspan=\"3\" style=\"border-bottom: 1px solid black\"></td></tr><tr><td style=\"text-align:left\">BMI</td><td>787.18<sup>***</sup></td><td>789.74<sup>***</sup></td></tr><tr><td style=\"text-align:left\"></td><td>(658.59 , 915.76)</td><td>(658.28 , 921.2)</td></tr><tr><td style=\"text-align:left\">Oldness</td><td>37.24<sup></sup></td><td>24.7<sup></sup></td></tr><tr><td style=\"text-align:left\"></td><td>(-88.78 , 163.26)</td><td>(-103.86 , 153.26)</td></tr><tr><td style=\"text-align:left\">S1</td><td></td><td>197.85<sup></sup></td></tr><tr><td style=\"text-align:left\"></td><td></td><td>(-84.8 , 480.51)</td></tr><tr><td style=\"text-align:left\">Sex</td><td>-106.58<sup>*</sup></td><td>-82.86<sup></sup></td></tr><tr><td style=\"text-align:left\"></td><td>(-228.68 , 15.52)</td><td>(-210.32 , 44.6)</td></tr><td colspan=\"3\" style=\"border-bottom: 1px solid black\"></td></tr><tr><td style=\"text-align: left\">Observations</td><td>442.0</td><td>442.0</td></tr><tr><td style=\"text-align: left\">R<sup>2</sup></td><td>0.4</td><td>0.4</td></tr><tr><td style=\"text-align: left\">Adjusted R<sup>2</sup></td><td>0.39</td><td>0.39</td></tr><tr><td style=\"text-align: left\">Residual Std. Error</td><td>59.98</td><td>59.98</td></tr><tr><td style=\"text-align: left\">F Statistic</td><td>72.91<sup>***</sup></td><td>48.91<sup>***</sup></td></tr><tr><td colspan=\"3\" style=\"border-bottom: 1px solid black\"></td></tr><tr><td style=\"text-align: left\">Note:</td>\n",
       " <td colspan=\"2\" style=\"text-align: right\">\n",
       "  <sup>*</sup>p&lt;0.1;\n",
       "  <sup>**</sup>p&lt;0.05;\n",
       "  <sup>***</sup>p&lt;0.01\n",
       " </td></tr></table>"
      ],
      "text/plain": [
       "<IPython.core.display.HTML object>"
      ]
     },
     "execution_count": 12,
     "metadata": {},
     "output_type": "execute_result"
    }
   ],
   "source": [
    "stargazer.show_degrees_of_freedom(False)\n",
    "HTML(stargazer.render_html())"
   ]
  },
  {
   "cell_type": "markdown",
   "metadata": {},
   "source": [
    "## Show Custom Notes"
   ]
  },
  {
   "cell_type": "code",
   "execution_count": 13,
   "metadata": {},
   "outputs": [
    {
     "data": {
      "text/html": [
       "Diabetes Study<br><table style=\"text-align:center\"><tr><td colspan=\"3\" style=\"border-bottom: 1px solid black\"></td></tr><tr><td style=\"text-align:left\"></td><td colspan=\"2\"><em>Dependent variable:</em></td></tr><tr><td style=\"text-align:left\"></td><td colspan=\"2\">Test model name</td></tr><tr><td colspan=\"3\" style=\"border-bottom: 1px solid black\"></td></tr><tr><td style=\"text-align:left\">BMI</td><td>787.18<sup>***</sup></td><td>789.74<sup>***</sup></td></tr><tr><td style=\"text-align:left\"></td><td>(658.59 , 915.76)</td><td>(658.28 , 921.2)</td></tr><tr><td style=\"text-align:left\">Oldness</td><td>37.24<sup></sup></td><td>24.7<sup></sup></td></tr><tr><td style=\"text-align:left\"></td><td>(-88.78 , 163.26)</td><td>(-103.86 , 153.26)</td></tr><tr><td style=\"text-align:left\">S1</td><td></td><td>197.85<sup></sup></td></tr><tr><td style=\"text-align:left\"></td><td></td><td>(-84.8 , 480.51)</td></tr><tr><td style=\"text-align:left\">Sex</td><td>-106.58<sup>*</sup></td><td>-82.86<sup></sup></td></tr><tr><td style=\"text-align:left\"></td><td>(-228.68 , 15.52)</td><td>(-210.32 , 44.6)</td></tr><td colspan=\"3\" style=\"border-bottom: 1px solid black\"></td></tr><tr><td style=\"text-align: left\">Observations</td><td>442.0</td><td>442.0</td></tr><tr><td style=\"text-align: left\">R<sup>2</sup></td><td>0.4</td><td>0.4</td></tr><tr><td style=\"text-align: left\">Adjusted R<sup>2</sup></td><td>0.39</td><td>0.39</td></tr><tr><td style=\"text-align: left\">Residual Std. Error</td><td>59.98</td><td>59.98</td></tr><tr><td style=\"text-align: left\">F Statistic</td><td>72.91<sup>***</sup></td><td>48.91<sup>***</sup></td></tr><tr><td colspan=\"3\" style=\"border-bottom: 1px solid black\"></td></tr><tr><td style=\"text-align: left\">Note:</td>\n",
       " <td colspan=\"2\" style=\"text-align: right\">\n",
       "  <sup>*</sup>p&lt;0.1;\n",
       "  <sup>**</sup>p&lt;0.05;\n",
       "  <sup>***</sup>p&lt;0.01\n",
       " </td></tr><tr><td></td><td colspan=\"2\" style=\"text-align: right\">First note</td></tr><tr><td></td><td colspan=\"2\" style=\"text-align: right\">Second note</td></tr></table>"
      ],
      "text/plain": [
       "<IPython.core.display.HTML object>"
      ]
     },
     "execution_count": 13,
     "metadata": {},
     "output_type": "execute_result"
    }
   ],
   "source": [
    "stargazer.add_custom_notes(['First note', 'Second note'])\n",
    "Latex(stargazer.render_html())"
   ]
  },
  {
   "cell_type": "markdown",
   "metadata": {},
   "source": [
    "## Change Statistical Significance Cutoffs"
   ]
  },
  {
   "cell_type": "code",
   "execution_count": 14,
   "metadata": {},
   "outputs": [
    {
     "data": {
      "text/html": [
       "Diabetes Study<br><table style=\"text-align:center\"><tr><td colspan=\"3\" style=\"border-bottom: 1px solid black\"></td></tr><tr><td style=\"text-align:left\"></td><td colspan=\"2\"><em>Dependent variable:</em></td></tr><tr><td style=\"text-align:left\"></td><td colspan=\"2\">Test model name</td></tr><tr><td colspan=\"3\" style=\"border-bottom: 1px solid black\"></td></tr><tr><td style=\"text-align:left\">BMI</td><td>787.18<sup>***</sup></td><td>789.74<sup>***</sup></td></tr><tr><td style=\"text-align:left\"></td><td>(658.59 , 915.76)</td><td>(658.28 , 921.2)</td></tr><tr><td style=\"text-align:left\">Oldness</td><td>37.24<sup></sup></td><td>24.7<sup></sup></td></tr><tr><td style=\"text-align:left\"></td><td>(-88.78 , 163.26)</td><td>(-103.86 , 153.26)</td></tr><tr><td style=\"text-align:left\">S1</td><td></td><td>197.85<sup></sup></td></tr><tr><td style=\"text-align:left\"></td><td></td><td>(-84.8 , 480.51)</td></tr><tr><td style=\"text-align:left\">Sex</td><td>-106.58<sup>*</sup></td><td>-82.86<sup></sup></td></tr><tr><td style=\"text-align:left\"></td><td>(-228.68 , 15.52)</td><td>(-210.32 , 44.6)</td></tr><td colspan=\"3\" style=\"border-bottom: 1px solid black\"></td></tr><tr><td style=\"text-align: left\">Observations</td><td>442.0</td><td>442.0</td></tr><tr><td style=\"text-align: left\">R<sup>2</sup></td><td>0.4</td><td>0.4</td></tr><tr><td style=\"text-align: left\">Adjusted R<sup>2</sup></td><td>0.39</td><td>0.39</td></tr><tr><td style=\"text-align: left\">Residual Std. Error</td><td>59.98</td><td>59.98</td></tr><tr><td style=\"text-align: left\">F Statistic</td><td>72.91<sup>***</sup></td><td>48.91<sup>***</sup></td></tr><tr><td colspan=\"3\" style=\"border-bottom: 1px solid black\"></td></tr><tr><td style=\"text-align: left\">Note:</td>\n",
       " <td colspan=\"2\" style=\"text-align: right\">\n",
       "  <sup>*</sup>p&lt;0.1;\n",
       "  <sup>**</sup>p&lt;0.07;\n",
       "  <sup>***</sup>p&lt;0.05\n",
       " </td></tr><tr><td></td><td colspan=\"2\" style=\"text-align: right\">First note</td></tr><tr><td></td><td colspan=\"2\" style=\"text-align: right\">Second note</td></tr></table>"
      ],
      "text/plain": [
       "<IPython.core.display.HTML object>"
      ]
     },
     "execution_count": 14,
     "metadata": {},
     "output_type": "execute_result"
    }
   ],
   "source": [
    "stargazer.significance_levels([0.1, 0.05, 0.07])\n",
    "HTML(stargazer.render_html())"
   ]
  },
  {
   "cell_type": "markdown",
   "metadata": {},
   "source": [
    "## Don't Show Statistical Significance Levels In Notes"
   ]
  },
  {
   "cell_type": "code",
   "execution_count": 15,
   "metadata": {},
   "outputs": [
    {
     "data": {
      "text/html": [
       "Diabetes Study<br><table style=\"text-align:center\"><tr><td colspan=\"3\" style=\"border-bottom: 1px solid black\"></td></tr><tr><td style=\"text-align:left\"></td><td colspan=\"2\"><em>Dependent variable:</em></td></tr><tr><td style=\"text-align:left\"></td><td colspan=\"2\">Test model name</td></tr><tr><td colspan=\"3\" style=\"border-bottom: 1px solid black\"></td></tr><tr><td style=\"text-align:left\">BMI</td><td>787.18<sup>***</sup></td><td>789.74<sup>***</sup></td></tr><tr><td style=\"text-align:left\"></td><td>(658.59 , 915.76)</td><td>(658.28 , 921.2)</td></tr><tr><td style=\"text-align:left\">Oldness</td><td>37.24<sup></sup></td><td>24.7<sup></sup></td></tr><tr><td style=\"text-align:left\"></td><td>(-88.78 , 163.26)</td><td>(-103.86 , 153.26)</td></tr><tr><td style=\"text-align:left\">S1</td><td></td><td>197.85<sup></sup></td></tr><tr><td style=\"text-align:left\"></td><td></td><td>(-84.8 , 480.51)</td></tr><tr><td style=\"text-align:left\">Sex</td><td>-106.58<sup>*</sup></td><td>-82.86<sup></sup></td></tr><tr><td style=\"text-align:left\"></td><td>(-228.68 , 15.52)</td><td>(-210.32 , 44.6)</td></tr><td colspan=\"3\" style=\"border-bottom: 1px solid black\"></td></tr><tr><td style=\"text-align: left\">Observations</td><td>442.0</td><td>442.0</td></tr><tr><td style=\"text-align: left\">R<sup>2</sup></td><td>0.4</td><td>0.4</td></tr><tr><td style=\"text-align: left\">Adjusted R<sup>2</sup></td><td>0.39</td><td>0.39</td></tr><tr><td style=\"text-align: left\">Residual Std. Error</td><td>59.98</td><td>59.98</td></tr><tr><td style=\"text-align: left\">F Statistic</td><td>72.91<sup>***</sup></td><td>48.91<sup>***</sup></td></tr><tr><td colspan=\"3\" style=\"border-bottom: 1px solid black\"></td></tr><tr><td style=\"text-align: left\">Note:</td></tr><td></td><td colspan=\"2\" style=\"text-align: right\">First note</td></tr><tr><td></td><td colspan=\"2\" style=\"text-align: right\">Second note</td></tr></table>"
      ],
      "text/plain": [
       "<IPython.core.display.HTML object>"
      ]
     },
     "execution_count": 15,
     "metadata": {},
     "output_type": "execute_result"
    }
   ],
   "source": [
    "stargazer.append_notes(False)\n",
    "HTML(stargazer.render_html())"
   ]
  },
  {
   "cell_type": "code",
   "execution_count": 15,
   "metadata": {},
   "outputs": [
    {
     "ename": "ModuleNotFoundError",
     "evalue": "No module named 'pdflatex'",
     "output_type": "error",
     "traceback": [
      "\u001b[1;31m---------------------------------------------------------------------------\u001b[0m",
      "\u001b[1;31mModuleNotFoundError\u001b[0m                       Traceback (most recent call last)",
      "\u001b[1;32m<ipython-input-15-fb99ae223aee>\u001b[0m in \u001b[0;36m<module>\u001b[1;34m\u001b[0m\n\u001b[1;32m----> 1\u001b[1;33m \u001b[1;32mimport\u001b[0m \u001b[0mpdflatex\u001b[0m\u001b[1;33m\u001b[0m\u001b[1;33m\u001b[0m\u001b[0m\n\u001b[0m",
      "\u001b[1;31mModuleNotFoundError\u001b[0m: No module named 'pdflatex'"
     ]
    }
   ],
   "source": [
    "import pdflatex"
   ]
  },
  {
   "cell_type": "code",
   "execution_count": null,
   "metadata": {},
   "outputs": [],
   "source": []
  }
 ],
 "metadata": {
  "kernelspec": {
   "display_name": "Python 3",
   "language": "python",
   "name": "python3"
  },
  "language_info": {
   "codemirror_mode": {
    "name": "ipython",
    "version": 3
   },
   "file_extension": ".py",
   "mimetype": "text/x-python",
   "name": "python",
   "nbconvert_exporter": "python",
   "pygments_lexer": "ipython3",
   "version": "3.7.3"
  }
 },
 "nbformat": 4,
 "nbformat_minor": 2
}
