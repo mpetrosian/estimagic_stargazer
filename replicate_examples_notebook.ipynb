{
 "cells": [
  {
   "cell_type": "code",
   "execution_count": 1,
   "metadata": {},
   "outputs": [
    {
     "name": "stderr",
     "output_type": "stream",
     "text": [
      "C:\\ProgramData\\Anaconda3\\lib\\site-packages\\numpy\\core\\fromnumeric.py:2223: FutureWarning: Method .ptp is deprecated and will be removed in a future version. Use numpy.ptp instead.\n",
      "  return ptp(axis=axis, out=out, **kwargs)\n"
     ]
    }
   ],
   "source": [
    "import pandas as pd\n",
    "from sklearn import datasets\n",
    "import statsmodels.api as sm\n",
    "from estimagic_stargazer.stargazer import Stargazer \n",
    "from IPython.core.display import HTML, Latex\n",
    "from tabulate import tabulate\n",
    "from collections import namedtuple\n",
    "from copy import deepcopy, copy\n",
    "diabetes = datasets.load_diabetes()\n",
    "df = pd.DataFrame(diabetes.data)\n",
    "df.columns = ['Age', 'Sex', 'BMI', 'ABP', 'S1', 'S2', 'S3', 'S4', 'S5', 'S6']\n",
    "df['target'] = diabetes.target\n",
    "\n",
    "est = sm.OLS(endog=df['target'], exog=sm.add_constant(df[df.columns[0:4]])).fit()\n",
    "est2 = sm.OLS(endog=df['target'], exog=sm.add_constant(df[df.columns[0:6]])).fit()\n",
    "\n"
   ]
  },
  {
   "cell_type": "code",
   "execution_count": 2,
   "metadata": {},
   "outputs": [],
   "source": [
    "def extract_params_from_sm(model):\n",
    "    to_concat = []\n",
    "    params_list = [\"params\", \"pvalues\", \"bse\"]\n",
    "    for col in params_list:\n",
    "        to_concat.append(getattr(model, col))\n",
    "    to_concat.append(model.conf_int()[0])\n",
    "    to_concat.append(model.conf_int()[1])\n",
    "    params_df = pd.concat(to_concat, axis=1)\n",
    "    params_df.columns = [\"value\", \"pvalue\", \"standard_error\", \"ci_lower\", \"ci_upper\"]\n",
    "    return params_df\n",
    "\n",
    "\n",
    "def extract_info_from_sm(model):\n",
    "    info = {}\n",
    "    key_values = [\n",
    "        \"rsquared\",\n",
    "        \"rsquared_adj\",\n",
    "        \"scale\",\n",
    "        \"fvalue\",\n",
    "        \"f_pvalue\",\n",
    "        \"df_model\",\n",
    "        \"df_resid\",\n",
    "    ]\n",
    "    for kv in key_values:\n",
    "        info[kv] = getattr(model, kv)\n",
    "    info[\"dependent_variable\"] = model.model.endog_names\n",
    "\n",
    "    return info\n"
   ]
  },
  {
   "cell_type": "code",
   "execution_count": 3,
   "metadata": {},
   "outputs": [],
   "source": [
    "# use the functions defined above to create estimation result that is namedtuple\n",
    "namedtuplee = namedtuple(\"namedtuplee\", \"params info\")\n",
    "est3 = namedtuplee(\n",
    "params=extract_params_from_sm(est2),\n",
    "info={**extract_info_from_sm(est2)},\n",
    ")\n",
    "del est3.info[\"df_model\"]\n",
    "del est3.info[\"df_resid\"]\n"
   ]
  },
  {
   "cell_type": "code",
   "execution_count": 4,
   "metadata": {},
   "outputs": [],
   "source": [
    "# using est3, create dictionary\n",
    "est4 = {}\n",
    "est4['params'] = deepcopy(est3.params)\n",
    "est4['info'] = deepcopy(est3.info)\n"
   ]
  },
  {
   "cell_type": "code",
   "execution_count": 5,
   "metadata": {},
   "outputs": [],
   "source": [
    "del est4['info']['rsquared'], est4['info']['rsquared_adj'],est4['info']['scale'], est4['info']['fvalue'], est4['info']['f_pvalue']"
   ]
  },
  {
   "cell_type": "code",
   "execution_count": 6,
   "metadata": {},
   "outputs": [],
   "source": [
    "# using est3, create dictionary\n",
    "est5 = {}\n",
    "est5['params'] = est3.params\n",
    "est5['info'] = est3.info\n"
   ]
  },
  {
   "cell_type": "code",
   "execution_count": 7,
   "metadata": {},
   "outputs": [],
   "source": [
    "# check that code runs for non-list inputs\n",
    "stargazer2=Stargazer(est3)"
   ]
  },
  {
   "cell_type": "code",
   "execution_count": 8,
   "metadata": {},
   "outputs": [
    {
     "data": {
      "text/html": [
       "<table style=\"text-align:center\"><tr><td colspan=\"2\" style=\"border-bottom: 1px solid black\"></td></tr><tr><td style=\"text-align:left\"></td><td colspan=\"1\"><em></em></td></tr><tr><td style=\"text-align:left\"></td><tr><td style=\"text-align:left\"></td><td>(1)</td></tr><tr><td colspan=\"2\" style=\"border-bottom: 1px solid black\"></td></tr><tr><td style=\"text-align:left\">ABP</td><td>397.583<sup>***</sup></td></tr><tr><td style=\"text-align:left\"></td><td>(70.87)</td></tr><tr><td style=\"text-align:left\">Age</td><td>24.704<sup></sup></td></tr><tr><td style=\"text-align:left\"></td><td>(65.411)</td></tr><tr><td style=\"text-align:left\">BMI</td><td>789.742<sup>***</sup></td></tr><tr><td style=\"text-align:left\"></td><td>(66.887)</td></tr><tr><td style=\"text-align:left\">S1</td><td>197.852<sup></sup></td></tr><tr><td style=\"text-align:left\"></td><td>(143.812)</td></tr><tr><td style=\"text-align:left\">S2</td><td>-169.251<sup></sup></td></tr><tr><td style=\"text-align:left\"></td><td>(142.744)</td></tr><tr><td style=\"text-align:left\">Sex</td><td>-82.862<sup></sup></td></tr><tr><td style=\"text-align:left\"></td><td>(64.851)</td></tr><tr><td style=\"text-align:left\">const</td><td>152.133<sup>***</sup></td></tr><tr><td style=\"text-align:left\"></td><td>(2.853)</td></tr><td colspan=\"2\" style=\"border-bottom: 1px solid black\"></td></tr><tr><td style=\"text-align: left\">Observations</td><td>  </td></tr><tr><td colspan=\"2\" style=\"border-bottom: 1px solid black\"></td></tr><tr><td style=\"text-align: left\">Note:</td>\n",
       " <td colspan=\"1\" style=\"text-align: right\">\n",
       "  <sup>*</sup>p&lt;0.1;\n",
       "  <sup>**</sup>p&lt;0.05;\n",
       "  <sup>***</sup>p&lt;0.01\n",
       " </td></tr></table>"
      ],
      "text/plain": [
       "<IPython.core.display.HTML object>"
      ]
     },
     "execution_count": 8,
     "metadata": {},
     "output_type": "execute_result"
    }
   ],
   "source": [
    "HTML(stargazer2.render_html())\n"
   ]
  },
  {
   "cell_type": "code",
   "execution_count": 9,
   "metadata": {},
   "outputs": [],
   "source": [
    "# check stargazer works for sns regression result, dictionary and namedtuple\n",
    "stargazer=Stargazer([est3,est4,est])"
   ]
  },
  {
   "cell_type": "code",
   "execution_count": 10,
   "metadata": {},
   "outputs": [
    {
     "data": {
      "text/html": [
       "<table style=\"text-align:center\"><tr><td colspan=\"4\" style=\"border-bottom: 1px solid black\"></td></tr><tr><td style=\"text-align:left\"></td><td colspan=\"3\"><em></em></td></tr><tr><td style=\"text-align:left\"></td><tr><td style=\"text-align:left\"></td><td>(1)</td><td>(2)</td><td>(3)</td></tr><tr><td colspan=\"4\" style=\"border-bottom: 1px solid black\"></td></tr><tr><td style=\"text-align:left\">ABP</td><td>397.583<sup>***</sup></td><td>397.583<sup>***</sup></td><td>416.674<sup>***</sup></td></tr><tr><td style=\"text-align:left\"></td><td>(70.87)</td><td>(70.87)</td><td>(69.495)</td></tr><tr><td style=\"text-align:left\">Age</td><td>24.704<sup></sup></td><td>24.704<sup></sup></td><td>37.241<sup></sup></td></tr><tr><td style=\"text-align:left\"></td><td>(65.411)</td><td>(65.411)</td><td>(64.117)</td></tr><tr><td style=\"text-align:left\">BMI</td><td>789.742<sup>***</sup></td><td>789.742<sup>***</sup></td><td>787.179<sup>***</sup></td></tr><tr><td style=\"text-align:left\"></td><td>(66.887)</td><td>(66.887)</td><td>(65.424)</td></tr><tr><td style=\"text-align:left\">S1</td><td>197.852<sup></sup></td><td>197.852<sup></sup></td><td></td></tr><tr><td style=\"text-align:left\"></td><td>(143.812)</td><td>(143.812)</td><td></td></tr><tr><td style=\"text-align:left\">S2</td><td>-169.251<sup></sup></td><td>-169.251<sup></sup></td><td></td></tr><tr><td style=\"text-align:left\"></td><td>(142.744)</td><td>(142.744)</td><td></td></tr><tr><td style=\"text-align:left\">Sex</td><td>-82.862<sup></sup></td><td>-82.862<sup></sup></td><td>-106.578<sup>*</sup></td></tr><tr><td style=\"text-align:left\"></td><td>(64.851)</td><td>(64.851)</td><td>(62.125)</td></tr><tr><td style=\"text-align:left\">const</td><td>152.133<sup>***</sup></td><td>152.133<sup>***</sup></td><td>152.133<sup>***</sup></td></tr><tr><td style=\"text-align:left\"></td><td>(2.853)</td><td>(2.853)</td><td>(2.853)</td></tr><td colspan=\"4\" style=\"border-bottom: 1px solid black\"></td></tr><tr><td style=\"text-align: left\">Observations</td><td>  </td><td>  </td><td>442.0</td></tr><tr><td colspan=\"4\" style=\"border-bottom: 1px solid black\"></td></tr><tr><td style=\"text-align: left\">Note:</td>\n",
       " <td colspan=\"3\" style=\"text-align: right\">\n",
       "  <sup>*</sup>p&lt;0.1;\n",
       "  <sup>**</sup>p&lt;0.05;\n",
       "  <sup>***</sup>p&lt;0.01\n",
       " </td></tr></table>"
      ],
      "text/plain": [
       "<IPython.core.display.HTML object>"
      ]
     },
     "execution_count": 10,
     "metadata": {},
     "output_type": "execute_result"
    }
   ],
   "source": [
    "HTML(stargazer.render_html())\n"
   ]
  },
  {
   "cell_type": "code",
   "execution_count": 11,
   "metadata": {},
   "outputs": [],
   "source": [
    "with open('./tex_tables/table0.tex','w') as f:\n",
    "    f.write(stargazer.render_latex())"
   ]
  },
  {
   "cell_type": "code",
   "execution_count": 12,
   "metadata": {},
   "outputs": [],
   "source": [
    "stargazer.title('Diabetes Study')"
   ]
  },
  {
   "cell_type": "code",
   "execution_count": 13,
   "metadata": {},
   "outputs": [
    {
     "data": {
      "text/html": [
       "Diabetes Study<br><table style=\"text-align:center\"><tr><td colspan=\"4\" style=\"border-bottom: 1px solid black\"></td></tr><tr><td style=\"text-align:left\"></td><td colspan=\"3\"><em></em></td></tr><tr><td style=\"text-align:left\"></td><tr><td style=\"text-align:left\"></td><td>(1)</td><td>(2)</td><td>(3)</td></tr><tr><td colspan=\"4\" style=\"border-bottom: 1px solid black\"></td></tr><tr><td style=\"text-align:left\">ABP</td><td>397.583<sup>***</sup></td><td>397.583<sup>***</sup></td><td>416.674<sup>***</sup></td></tr><tr><td style=\"text-align:left\"></td><td>(70.87)</td><td>(70.87)</td><td>(69.495)</td></tr><tr><td style=\"text-align:left\">Age</td><td>24.704<sup></sup></td><td>24.704<sup></sup></td><td>37.241<sup></sup></td></tr><tr><td style=\"text-align:left\"></td><td>(65.411)</td><td>(65.411)</td><td>(64.117)</td></tr><tr><td style=\"text-align:left\">BMI</td><td>789.742<sup>***</sup></td><td>789.742<sup>***</sup></td><td>787.179<sup>***</sup></td></tr><tr><td style=\"text-align:left\"></td><td>(66.887)</td><td>(66.887)</td><td>(65.424)</td></tr><tr><td style=\"text-align:left\">S1</td><td>197.852<sup></sup></td><td>197.852<sup></sup></td><td></td></tr><tr><td style=\"text-align:left\"></td><td>(143.812)</td><td>(143.812)</td><td></td></tr><tr><td style=\"text-align:left\">S2</td><td>-169.251<sup></sup></td><td>-169.251<sup></sup></td><td></td></tr><tr><td style=\"text-align:left\"></td><td>(142.744)</td><td>(142.744)</td><td></td></tr><tr><td style=\"text-align:left\">Sex</td><td>-82.862<sup></sup></td><td>-82.862<sup></sup></td><td>-106.578<sup>*</sup></td></tr><tr><td style=\"text-align:left\"></td><td>(64.851)</td><td>(64.851)</td><td>(62.125)</td></tr><tr><td style=\"text-align:left\">const</td><td>152.133<sup>***</sup></td><td>152.133<sup>***</sup></td><td>152.133<sup>***</sup></td></tr><tr><td style=\"text-align:left\"></td><td>(2.853)</td><td>(2.853)</td><td>(2.853)</td></tr><td colspan=\"4\" style=\"border-bottom: 1px solid black\"></td></tr><tr><td style=\"text-align: left\">Observations</td><td>  </td><td>  </td><td>442.0</td></tr><tr><td colspan=\"4\" style=\"border-bottom: 1px solid black\"></td></tr><tr><td style=\"text-align: left\">Note:</td>\n",
       " <td colspan=\"3\" style=\"text-align: right\">\n",
       "  <sup>*</sup>p&lt;0.1;\n",
       "  <sup>**</sup>p&lt;0.05;\n",
       "  <sup>***</sup>p&lt;0.01\n",
       " </td></tr></table>"
      ],
      "text/plain": [
       "<IPython.core.display.HTML object>"
      ]
     },
     "execution_count": 13,
     "metadata": {},
     "output_type": "execute_result"
    }
   ],
   "source": [
    "HTML(stargazer.render_html())\n"
   ]
  },
  {
   "cell_type": "code",
   "execution_count": 14,
   "metadata": {},
   "outputs": [],
   "source": [
    "with open('./tex_tables/table1.tex','w') as f:\n",
    "    f.write(stargazer.render_latex())\n"
   ]
  },
  {
   "cell_type": "code",
   "execution_count": 15,
   "metadata": {},
   "outputs": [],
   "source": [
    "stargazer.custom_columns(['Model 1','Model 2','Model3'],[1,1,1])"
   ]
  },
  {
   "cell_type": "code",
   "execution_count": 16,
   "metadata": {},
   "outputs": [
    {
     "data": {
      "text/html": [
       "Diabetes Study<br><table style=\"text-align:center\"><tr><td colspan=\"4\" style=\"border-bottom: 1px solid black\"></td></tr><tr><td style=\"text-align:left\"></td><td colspan=\"3\"><em></em></td></tr><tr><td style=\"text-align:left\"></td><tr><td></td><td colspan=\"1\">Model 1</td><td colspan=\"1\">Model 2</td><td colspan=\"1\">Model3</td></tr><tr><td style=\"text-align:left\"></td><td>(1)</td><td>(2)</td><td>(3)</td></tr><tr><td colspan=\"4\" style=\"border-bottom: 1px solid black\"></td></tr><tr><td style=\"text-align:left\">ABP</td><td>397.583<sup>***</sup></td><td>397.583<sup>***</sup></td><td>416.674<sup>***</sup></td></tr><tr><td style=\"text-align:left\"></td><td>(70.87)</td><td>(70.87)</td><td>(69.495)</td></tr><tr><td style=\"text-align:left\">Age</td><td>24.704<sup></sup></td><td>24.704<sup></sup></td><td>37.241<sup></sup></td></tr><tr><td style=\"text-align:left\"></td><td>(65.411)</td><td>(65.411)</td><td>(64.117)</td></tr><tr><td style=\"text-align:left\">BMI</td><td>789.742<sup>***</sup></td><td>789.742<sup>***</sup></td><td>787.179<sup>***</sup></td></tr><tr><td style=\"text-align:left\"></td><td>(66.887)</td><td>(66.887)</td><td>(65.424)</td></tr><tr><td style=\"text-align:left\">S1</td><td>197.852<sup></sup></td><td>197.852<sup></sup></td><td></td></tr><tr><td style=\"text-align:left\"></td><td>(143.812)</td><td>(143.812)</td><td></td></tr><tr><td style=\"text-align:left\">S2</td><td>-169.251<sup></sup></td><td>-169.251<sup></sup></td><td></td></tr><tr><td style=\"text-align:left\"></td><td>(142.744)</td><td>(142.744)</td><td></td></tr><tr><td style=\"text-align:left\">Sex</td><td>-82.862<sup></sup></td><td>-82.862<sup></sup></td><td>-106.578<sup>*</sup></td></tr><tr><td style=\"text-align:left\"></td><td>(64.851)</td><td>(64.851)</td><td>(62.125)</td></tr><tr><td style=\"text-align:left\">const</td><td>152.133<sup>***</sup></td><td>152.133<sup>***</sup></td><td>152.133<sup>***</sup></td></tr><tr><td style=\"text-align:left\"></td><td>(2.853)</td><td>(2.853)</td><td>(2.853)</td></tr><td colspan=\"4\" style=\"border-bottom: 1px solid black\"></td></tr><tr><td style=\"text-align: left\">Observations</td><td>  </td><td>  </td><td>442.0</td></tr><tr><td colspan=\"4\" style=\"border-bottom: 1px solid black\"></td></tr><tr><td style=\"text-align: left\">Note:</td>\n",
       " <td colspan=\"3\" style=\"text-align: right\">\n",
       "  <sup>*</sup>p&lt;0.1;\n",
       "  <sup>**</sup>p&lt;0.05;\n",
       "  <sup>***</sup>p&lt;0.01\n",
       " </td></tr></table>"
      ],
      "text/plain": [
       "<IPython.core.display.HTML object>"
      ]
     },
     "execution_count": 16,
     "metadata": {},
     "output_type": "execute_result"
    }
   ],
   "source": [
    "HTML(stargazer.render_html())"
   ]
  },
  {
   "cell_type": "code",
   "execution_count": 17,
   "metadata": {},
   "outputs": [],
   "source": [
    "with open('./tex_tables/table2.tex','w') as f:\n",
    "    f.write(stargazer.render_latex())"
   ]
  },
  {
   "cell_type": "code",
   "execution_count": 18,
   "metadata": {},
   "outputs": [],
   "source": [
    "stargazer.custom_columns('Test model name')"
   ]
  },
  {
   "cell_type": "code",
   "execution_count": 19,
   "metadata": {},
   "outputs": [
    {
     "data": {
      "text/html": [
       "Diabetes Study<br><table style=\"text-align:center\"><tr><td colspan=\"4\" style=\"border-bottom: 1px solid black\"></td></tr><tr><td style=\"text-align:left\"></td><td colspan=\"3\"><em></em></td></tr><tr><td style=\"text-align:left\"></td><td colspan=\"3\">Test model name</td></tr><tr><td style=\"text-align:left\"></td><td>(1)</td><td>(2)</td><td>(3)</td></tr><tr><td colspan=\"4\" style=\"border-bottom: 1px solid black\"></td></tr><tr><td style=\"text-align:left\">ABP</td><td>397.583<sup>***</sup></td><td>397.583<sup>***</sup></td><td>416.674<sup>***</sup></td></tr><tr><td style=\"text-align:left\"></td><td>(70.87)</td><td>(70.87)</td><td>(69.495)</td></tr><tr><td style=\"text-align:left\">Age</td><td>24.704<sup></sup></td><td>24.704<sup></sup></td><td>37.241<sup></sup></td></tr><tr><td style=\"text-align:left\"></td><td>(65.411)</td><td>(65.411)</td><td>(64.117)</td></tr><tr><td style=\"text-align:left\">BMI</td><td>789.742<sup>***</sup></td><td>789.742<sup>***</sup></td><td>787.179<sup>***</sup></td></tr><tr><td style=\"text-align:left\"></td><td>(66.887)</td><td>(66.887)</td><td>(65.424)</td></tr><tr><td style=\"text-align:left\">S1</td><td>197.852<sup></sup></td><td>197.852<sup></sup></td><td></td></tr><tr><td style=\"text-align:left\"></td><td>(143.812)</td><td>(143.812)</td><td></td></tr><tr><td style=\"text-align:left\">S2</td><td>-169.251<sup></sup></td><td>-169.251<sup></sup></td><td></td></tr><tr><td style=\"text-align:left\"></td><td>(142.744)</td><td>(142.744)</td><td></td></tr><tr><td style=\"text-align:left\">Sex</td><td>-82.862<sup></sup></td><td>-82.862<sup></sup></td><td>-106.578<sup>*</sup></td></tr><tr><td style=\"text-align:left\"></td><td>(64.851)</td><td>(64.851)</td><td>(62.125)</td></tr><tr><td style=\"text-align:left\">const</td><td>152.133<sup>***</sup></td><td>152.133<sup>***</sup></td><td>152.133<sup>***</sup></td></tr><tr><td style=\"text-align:left\"></td><td>(2.853)</td><td>(2.853)</td><td>(2.853)</td></tr><td colspan=\"4\" style=\"border-bottom: 1px solid black\"></td></tr><tr><td style=\"text-align: left\">Observations</td><td>  </td><td>  </td><td>442.0</td></tr><tr><td colspan=\"4\" style=\"border-bottom: 1px solid black\"></td></tr><tr><td style=\"text-align: left\">Note:</td>\n",
       " <td colspan=\"3\" style=\"text-align: right\">\n",
       "  <sup>*</sup>p&lt;0.1;\n",
       "  <sup>**</sup>p&lt;0.05;\n",
       "  <sup>***</sup>p&lt;0.01\n",
       " </td></tr></table>"
      ],
      "text/plain": [
       "<IPython.core.display.HTML object>"
      ]
     },
     "execution_count": 19,
     "metadata": {},
     "output_type": "execute_result"
    }
   ],
   "source": [
    "HTML(stargazer.render_html())"
   ]
  },
  {
   "cell_type": "code",
   "execution_count": 20,
   "metadata": {},
   "outputs": [],
   "source": [
    "with open('./tex_tables/table3.tex','w') as f:\n",
    "    f.write(stargazer.render_latex())"
   ]
  },
  {
   "cell_type": "code",
   "execution_count": 21,
   "metadata": {},
   "outputs": [],
   "source": [
    "stargazer.show_model_numbers(False)"
   ]
  },
  {
   "cell_type": "code",
   "execution_count": 22,
   "metadata": {},
   "outputs": [
    {
     "data": {
      "text/html": [
       "Diabetes Study<br><table style=\"text-align:center\"><tr><td colspan=\"4\" style=\"border-bottom: 1px solid black\"></td></tr><tr><td style=\"text-align:left\"></td><td colspan=\"3\"><em></em></td></tr><tr><td style=\"text-align:left\"></td><td colspan=\"3\">Test model name</td></tr><tr><td colspan=\"4\" style=\"border-bottom: 1px solid black\"></td></tr><tr><td style=\"text-align:left\">ABP</td><td>397.583<sup>***</sup></td><td>397.583<sup>***</sup></td><td>416.674<sup>***</sup></td></tr><tr><td style=\"text-align:left\"></td><td>(70.87)</td><td>(70.87)</td><td>(69.495)</td></tr><tr><td style=\"text-align:left\">Age</td><td>24.704<sup></sup></td><td>24.704<sup></sup></td><td>37.241<sup></sup></td></tr><tr><td style=\"text-align:left\"></td><td>(65.411)</td><td>(65.411)</td><td>(64.117)</td></tr><tr><td style=\"text-align:left\">BMI</td><td>789.742<sup>***</sup></td><td>789.742<sup>***</sup></td><td>787.179<sup>***</sup></td></tr><tr><td style=\"text-align:left\"></td><td>(66.887)</td><td>(66.887)</td><td>(65.424)</td></tr><tr><td style=\"text-align:left\">S1</td><td>197.852<sup></sup></td><td>197.852<sup></sup></td><td></td></tr><tr><td style=\"text-align:left\"></td><td>(143.812)</td><td>(143.812)</td><td></td></tr><tr><td style=\"text-align:left\">S2</td><td>-169.251<sup></sup></td><td>-169.251<sup></sup></td><td></td></tr><tr><td style=\"text-align:left\"></td><td>(142.744)</td><td>(142.744)</td><td></td></tr><tr><td style=\"text-align:left\">Sex</td><td>-82.862<sup></sup></td><td>-82.862<sup></sup></td><td>-106.578<sup>*</sup></td></tr><tr><td style=\"text-align:left\"></td><td>(64.851)</td><td>(64.851)</td><td>(62.125)</td></tr><tr><td style=\"text-align:left\">const</td><td>152.133<sup>***</sup></td><td>152.133<sup>***</sup></td><td>152.133<sup>***</sup></td></tr><tr><td style=\"text-align:left\"></td><td>(2.853)</td><td>(2.853)</td><td>(2.853)</td></tr><td colspan=\"4\" style=\"border-bottom: 1px solid black\"></td></tr><tr><td style=\"text-align: left\">Observations</td><td>  </td><td>  </td><td>442.0</td></tr><tr><td colspan=\"4\" style=\"border-bottom: 1px solid black\"></td></tr><tr><td style=\"text-align: left\">Note:</td>\n",
       " <td colspan=\"3\" style=\"text-align: right\">\n",
       "  <sup>*</sup>p&lt;0.1;\n",
       "  <sup>**</sup>p&lt;0.05;\n",
       "  <sup>***</sup>p&lt;0.01\n",
       " </td></tr></table>"
      ],
      "text/plain": [
       "<IPython.core.display.HTML object>"
      ]
     },
     "execution_count": 22,
     "metadata": {},
     "output_type": "execute_result"
    }
   ],
   "source": [
    "HTML(stargazer.render_html())"
   ]
  },
  {
   "cell_type": "code",
   "execution_count": 23,
   "metadata": {},
   "outputs": [],
   "source": [
    "with open('./tex_tables/table4.tex','w') as f:\n",
    "    f.write(stargazer.render_latex())"
   ]
  },
  {
   "cell_type": "code",
   "execution_count": 24,
   "metadata": {},
   "outputs": [],
   "source": [
    "stargazer.significant_digits(2)"
   ]
  },
  {
   "cell_type": "code",
   "execution_count": 25,
   "metadata": {},
   "outputs": [
    {
     "data": {
      "text/html": [
       "Diabetes Study<br><table style=\"text-align:center\"><tr><td colspan=\"4\" style=\"border-bottom: 1px solid black\"></td></tr><tr><td style=\"text-align:left\"></td><td colspan=\"3\"><em></em></td></tr><tr><td style=\"text-align:left\"></td><td colspan=\"3\">Test model name</td></tr><tr><td colspan=\"4\" style=\"border-bottom: 1px solid black\"></td></tr><tr><td style=\"text-align:left\">ABP</td><td>397.58<sup>***</sup></td><td>397.58<sup>***</sup></td><td>416.67<sup>***</sup></td></tr><tr><td style=\"text-align:left\"></td><td>(70.87)</td><td>(70.87)</td><td>(69.49)</td></tr><tr><td style=\"text-align:left\">Age</td><td>24.7<sup></sup></td><td>24.7<sup></sup></td><td>37.24<sup></sup></td></tr><tr><td style=\"text-align:left\"></td><td>(65.41)</td><td>(65.41)</td><td>(64.12)</td></tr><tr><td style=\"text-align:left\">BMI</td><td>789.74<sup>***</sup></td><td>789.74<sup>***</sup></td><td>787.18<sup>***</sup></td></tr><tr><td style=\"text-align:left\"></td><td>(66.89)</td><td>(66.89)</td><td>(65.42)</td></tr><tr><td style=\"text-align:left\">S1</td><td>197.85<sup></sup></td><td>197.85<sup></sup></td><td></td></tr><tr><td style=\"text-align:left\"></td><td>(143.81)</td><td>(143.81)</td><td></td></tr><tr><td style=\"text-align:left\">S2</td><td>-169.25<sup></sup></td><td>-169.25<sup></sup></td><td></td></tr><tr><td style=\"text-align:left\"></td><td>(142.74)</td><td>(142.74)</td><td></td></tr><tr><td style=\"text-align:left\">Sex</td><td>-82.86<sup></sup></td><td>-82.86<sup></sup></td><td>-106.58<sup>*</sup></td></tr><tr><td style=\"text-align:left\"></td><td>(64.85)</td><td>(64.85)</td><td>(62.13)</td></tr><tr><td style=\"text-align:left\">const</td><td>152.13<sup>***</sup></td><td>152.13<sup>***</sup></td><td>152.13<sup>***</sup></td></tr><tr><td style=\"text-align:left\"></td><td>(2.85)</td><td>(2.85)</td><td>(2.85)</td></tr><td colspan=\"4\" style=\"border-bottom: 1px solid black\"></td></tr><tr><td style=\"text-align: left\">Observations</td><td>  </td><td>  </td><td>442.0</td></tr><tr><td colspan=\"4\" style=\"border-bottom: 1px solid black\"></td></tr><tr><td style=\"text-align: left\">Note:</td>\n",
       " <td colspan=\"3\" style=\"text-align: right\">\n",
       "  <sup>*</sup>p&lt;0.1;\n",
       "  <sup>**</sup>p&lt;0.05;\n",
       "  <sup>***</sup>p&lt;0.01\n",
       " </td></tr></table>"
      ],
      "text/plain": [
       "<IPython.core.display.HTML object>"
      ]
     },
     "execution_count": 25,
     "metadata": {},
     "output_type": "execute_result"
    }
   ],
   "source": [
    "HTML(stargazer.render_html())"
   ]
  },
  {
   "cell_type": "code",
   "execution_count": 26,
   "metadata": {},
   "outputs": [],
   "source": [
    "with open('./tex_tables/table5.tex','w') as f:\n",
    "    f.write(stargazer.render_latex())"
   ]
  },
  {
   "cell_type": "code",
   "execution_count": 27,
   "metadata": {},
   "outputs": [],
   "source": [
    "stargazer.show_confidence_intervals(True)"
   ]
  },
  {
   "cell_type": "code",
   "execution_count": 28,
   "metadata": {},
   "outputs": [
    {
     "data": {
      "text/html": [
       "Diabetes Study<br><table style=\"text-align:center\"><tr><td colspan=\"4\" style=\"border-bottom: 1px solid black\"></td></tr><tr><td style=\"text-align:left\"></td><td colspan=\"3\"><em></em></td></tr><tr><td style=\"text-align:left\"></td><td colspan=\"3\">Test model name</td></tr><tr><td colspan=\"4\" style=\"border-bottom: 1px solid black\"></td></tr><tr><td style=\"text-align:left\">ABP</td><td>397.58<sup>***</sup></td><td>397.58<sup>***</sup></td><td>416.67<sup>***</sup></td></tr><tr><td style=\"text-align:left\"></td><td>(258.29 , 536.87)</td><td>(258.29 , 536.87)</td><td>(280.09 , 553.26)</td></tr><tr><td style=\"text-align:left\">Age</td><td>24.7<sup></sup></td><td>24.7<sup></sup></td><td>37.24<sup></sup></td></tr><tr><td style=\"text-align:left\"></td><td>(-103.86 , 153.26)</td><td>(-103.86 , 153.26)</td><td>(-88.78 , 163.26)</td></tr><tr><td style=\"text-align:left\">BMI</td><td>789.74<sup>***</sup></td><td>789.74<sup>***</sup></td><td>787.18<sup>***</sup></td></tr><tr><td style=\"text-align:left\"></td><td>(658.28 , 921.2)</td><td>(658.28 , 921.2)</td><td>(658.59 , 915.76)</td></tr><tr><td style=\"text-align:left\">S1</td><td>197.85<sup></sup></td><td>197.85<sup></sup></td><td></td></tr><tr><td style=\"text-align:left\"></td><td>(-84.8 , 480.51)</td><td>(-84.8 , 480.51)</td><td></td></tr><tr><td style=\"text-align:left\">S2</td><td>-169.25<sup></sup></td><td>-169.25<sup></sup></td><td></td></tr><tr><td style=\"text-align:left\"></td><td>(-449.8 , 111.3)</td><td>(-449.8 , 111.3)</td><td></td></tr><tr><td style=\"text-align:left\">Sex</td><td>-82.86<sup></sup></td><td>-82.86<sup></sup></td><td>-106.58<sup>*</sup></td></tr><tr><td style=\"text-align:left\"></td><td>(-210.32 , 44.6)</td><td>(-210.32 , 44.6)</td><td>(-228.68 , 15.52)</td></tr><tr><td style=\"text-align:left\">const</td><td>152.13<sup>***</sup></td><td>152.13<sup>***</sup></td><td>152.13<sup>***</sup></td></tr><tr><td style=\"text-align:left\"></td><td>(146.53 , 157.74)</td><td>(146.53 , 157.74)</td><td>(146.53 , 157.74)</td></tr><td colspan=\"4\" style=\"border-bottom: 1px solid black\"></td></tr><tr><td style=\"text-align: left\">Observations</td><td>  </td><td>  </td><td>442.0</td></tr><tr><td colspan=\"4\" style=\"border-bottom: 1px solid black\"></td></tr><tr><td style=\"text-align: left\">Note:</td>\n",
       " <td colspan=\"3\" style=\"text-align: right\">\n",
       "  <sup>*</sup>p&lt;0.1;\n",
       "  <sup>**</sup>p&lt;0.05;\n",
       "  <sup>***</sup>p&lt;0.01\n",
       " </td></tr></table>"
      ],
      "text/plain": [
       "<IPython.core.display.HTML object>"
      ]
     },
     "execution_count": 28,
     "metadata": {},
     "output_type": "execute_result"
    }
   ],
   "source": [
    "HTML(stargazer.render_html())"
   ]
  },
  {
   "cell_type": "code",
   "execution_count": 29,
   "metadata": {},
   "outputs": [],
   "source": [
    "with open('./tex_tables/table6.tex','w') as f:\n",
    "    f.write(stargazer.render_latex())"
   ]
  },
  {
   "cell_type": "code",
   "execution_count": 30,
   "metadata": {},
   "outputs": [],
   "source": [
    "stargazer.covariate_order(['BMI', 'Age', 'S1', 'Sex'])"
   ]
  },
  {
   "cell_type": "code",
   "execution_count": 31,
   "metadata": {},
   "outputs": [
    {
     "data": {
      "text/html": [
       "Diabetes Study<br><table style=\"text-align:center\"><tr><td colspan=\"4\" style=\"border-bottom: 1px solid black\"></td></tr><tr><td style=\"text-align:left\"></td><td colspan=\"3\"><em></em></td></tr><tr><td style=\"text-align:left\"></td><td colspan=\"3\">Test model name</td></tr><tr><td colspan=\"4\" style=\"border-bottom: 1px solid black\"></td></tr><tr><td style=\"text-align:left\">BMI</td><td>789.74<sup>***</sup></td><td>789.74<sup>***</sup></td><td>787.18<sup>***</sup></td></tr><tr><td style=\"text-align:left\"></td><td>(658.28 , 921.2)</td><td>(658.28 , 921.2)</td><td>(658.59 , 915.76)</td></tr><tr><td style=\"text-align:left\">Age</td><td>24.7<sup></sup></td><td>24.7<sup></sup></td><td>37.24<sup></sup></td></tr><tr><td style=\"text-align:left\"></td><td>(-103.86 , 153.26)</td><td>(-103.86 , 153.26)</td><td>(-88.78 , 163.26)</td></tr><tr><td style=\"text-align:left\">S1</td><td>197.85<sup></sup></td><td>197.85<sup></sup></td><td></td></tr><tr><td style=\"text-align:left\"></td><td>(-84.8 , 480.51)</td><td>(-84.8 , 480.51)</td><td></td></tr><tr><td style=\"text-align:left\">Sex</td><td>-82.86<sup></sup></td><td>-82.86<sup></sup></td><td>-106.58<sup>*</sup></td></tr><tr><td style=\"text-align:left\"></td><td>(-210.32 , 44.6)</td><td>(-210.32 , 44.6)</td><td>(-228.68 , 15.52)</td></tr><td colspan=\"4\" style=\"border-bottom: 1px solid black\"></td></tr><tr><td style=\"text-align: left\">Observations</td><td>  </td><td>  </td><td>442.0</td></tr><tr><td colspan=\"4\" style=\"border-bottom: 1px solid black\"></td></tr><tr><td style=\"text-align: left\">Note:</td>\n",
       " <td colspan=\"3\" style=\"text-align: right\">\n",
       "  <sup>*</sup>p&lt;0.1;\n",
       "  <sup>**</sup>p&lt;0.05;\n",
       "  <sup>***</sup>p&lt;0.01\n",
       " </td></tr></table>"
      ],
      "text/plain": [
       "<IPython.core.display.HTML object>"
      ]
     },
     "execution_count": 31,
     "metadata": {},
     "output_type": "execute_result"
    }
   ],
   "source": [
    "HTML(stargazer.render_html())"
   ]
  },
  {
   "cell_type": "code",
   "execution_count": 32,
   "metadata": {},
   "outputs": [],
   "source": [
    "with open('./tex_tables/table7.tex','w') as f:\n",
    "    f.write(stargazer.render_latex())"
   ]
  },
  {
   "cell_type": "code",
   "execution_count": 33,
   "metadata": {},
   "outputs": [],
   "source": [
    "stargazer.rename_covariates({'Age': 'Oldness'})"
   ]
  },
  {
   "cell_type": "code",
   "execution_count": 34,
   "metadata": {},
   "outputs": [
    {
     "data": {
      "text/html": [
       "Diabetes Study<br><table style=\"text-align:center\"><tr><td colspan=\"4\" style=\"border-bottom: 1px solid black\"></td></tr><tr><td style=\"text-align:left\"></td><td colspan=\"3\"><em></em></td></tr><tr><td style=\"text-align:left\"></td><td colspan=\"3\">Test model name</td></tr><tr><td colspan=\"4\" style=\"border-bottom: 1px solid black\"></td></tr><tr><td style=\"text-align:left\">BMI</td><td>789.74<sup>***</sup></td><td>789.74<sup>***</sup></td><td>787.18<sup>***</sup></td></tr><tr><td style=\"text-align:left\"></td><td>(658.28 , 921.2)</td><td>(658.28 , 921.2)</td><td>(658.59 , 915.76)</td></tr><tr><td style=\"text-align:left\">Oldness</td><td>24.7<sup></sup></td><td>24.7<sup></sup></td><td>37.24<sup></sup></td></tr><tr><td style=\"text-align:left\"></td><td>(-103.86 , 153.26)</td><td>(-103.86 , 153.26)</td><td>(-88.78 , 163.26)</td></tr><tr><td style=\"text-align:left\">S1</td><td>197.85<sup></sup></td><td>197.85<sup></sup></td><td></td></tr><tr><td style=\"text-align:left\"></td><td>(-84.8 , 480.51)</td><td>(-84.8 , 480.51)</td><td></td></tr><tr><td style=\"text-align:left\">Sex</td><td>-82.86<sup></sup></td><td>-82.86<sup></sup></td><td>-106.58<sup>*</sup></td></tr><tr><td style=\"text-align:left\"></td><td>(-210.32 , 44.6)</td><td>(-210.32 , 44.6)</td><td>(-228.68 , 15.52)</td></tr><td colspan=\"4\" style=\"border-bottom: 1px solid black\"></td></tr><tr><td style=\"text-align: left\">Observations</td><td>  </td><td>  </td><td>442.0</td></tr><tr><td colspan=\"4\" style=\"border-bottom: 1px solid black\"></td></tr><tr><td style=\"text-align: left\">Note:</td>\n",
       " <td colspan=\"3\" style=\"text-align: right\">\n",
       "  <sup>*</sup>p&lt;0.1;\n",
       "  <sup>**</sup>p&lt;0.05;\n",
       "  <sup>***</sup>p&lt;0.01\n",
       " </td></tr></table>"
      ],
      "text/plain": [
       "<IPython.core.display.HTML object>"
      ]
     },
     "execution_count": 34,
     "metadata": {},
     "output_type": "execute_result"
    }
   ],
   "source": [
    "HTML(stargazer.render_html())"
   ]
  },
  {
   "cell_type": "code",
   "execution_count": 35,
   "metadata": {},
   "outputs": [],
   "source": [
    "with open('./tex_tables/table8.tex','w') as f:\n",
    "    f.write(stargazer.render_latex())"
   ]
  },
  {
   "cell_type": "code",
   "execution_count": 36,
   "metadata": {},
   "outputs": [],
   "source": [
    "stargazer.show_degrees_of_freedom(False)"
   ]
  },
  {
   "cell_type": "code",
   "execution_count": 37,
   "metadata": {},
   "outputs": [
    {
     "data": {
      "text/html": [
       "Diabetes Study<br><table style=\"text-align:center\"><tr><td colspan=\"4\" style=\"border-bottom: 1px solid black\"></td></tr><tr><td style=\"text-align:left\"></td><td colspan=\"3\"><em></em></td></tr><tr><td style=\"text-align:left\"></td><td colspan=\"3\">Test model name</td></tr><tr><td colspan=\"4\" style=\"border-bottom: 1px solid black\"></td></tr><tr><td style=\"text-align:left\">BMI</td><td>789.74<sup>***</sup></td><td>789.74<sup>***</sup></td><td>787.18<sup>***</sup></td></tr><tr><td style=\"text-align:left\"></td><td>(658.28 , 921.2)</td><td>(658.28 , 921.2)</td><td>(658.59 , 915.76)</td></tr><tr><td style=\"text-align:left\">Oldness</td><td>24.7<sup></sup></td><td>24.7<sup></sup></td><td>37.24<sup></sup></td></tr><tr><td style=\"text-align:left\"></td><td>(-103.86 , 153.26)</td><td>(-103.86 , 153.26)</td><td>(-88.78 , 163.26)</td></tr><tr><td style=\"text-align:left\">S1</td><td>197.85<sup></sup></td><td>197.85<sup></sup></td><td></td></tr><tr><td style=\"text-align:left\"></td><td>(-84.8 , 480.51)</td><td>(-84.8 , 480.51)</td><td></td></tr><tr><td style=\"text-align:left\">Sex</td><td>-82.86<sup></sup></td><td>-82.86<sup></sup></td><td>-106.58<sup>*</sup></td></tr><tr><td style=\"text-align:left\"></td><td>(-210.32 , 44.6)</td><td>(-210.32 , 44.6)</td><td>(-228.68 , 15.52)</td></tr><td colspan=\"4\" style=\"border-bottom: 1px solid black\"></td></tr><tr><td style=\"text-align: left\">Observations</td><td>  </td><td>  </td><td>442.0</td></tr><tr><td colspan=\"4\" style=\"border-bottom: 1px solid black\"></td></tr><tr><td style=\"text-align: left\">Note:</td>\n",
       " <td colspan=\"3\" style=\"text-align: right\">\n",
       "  <sup>*</sup>p&lt;0.1;\n",
       "  <sup>**</sup>p&lt;0.05;\n",
       "  <sup>***</sup>p&lt;0.01\n",
       " </td></tr></table>"
      ],
      "text/plain": [
       "<IPython.core.display.HTML object>"
      ]
     },
     "execution_count": 37,
     "metadata": {},
     "output_type": "execute_result"
    }
   ],
   "source": [
    "HTML(stargazer.render_html())"
   ]
  },
  {
   "cell_type": "code",
   "execution_count": 38,
   "metadata": {},
   "outputs": [],
   "source": [
    "with open('./tex_tables/table9.tex','w') as f:\n",
    "    f.write(stargazer.render_latex())"
   ]
  },
  {
   "cell_type": "code",
   "execution_count": 39,
   "metadata": {},
   "outputs": [],
   "source": [
    "stargazer.add_custom_notes(['First note', 'Second note'])"
   ]
  },
  {
   "cell_type": "code",
   "execution_count": 40,
   "metadata": {},
   "outputs": [
    {
     "data": {
      "text/html": [
       "Diabetes Study<br><table style=\"text-align:center\"><tr><td colspan=\"4\" style=\"border-bottom: 1px solid black\"></td></tr><tr><td style=\"text-align:left\"></td><td colspan=\"3\"><em></em></td></tr><tr><td style=\"text-align:left\"></td><td colspan=\"3\">Test model name</td></tr><tr><td colspan=\"4\" style=\"border-bottom: 1px solid black\"></td></tr><tr><td style=\"text-align:left\">BMI</td><td>789.74<sup>***</sup></td><td>789.74<sup>***</sup></td><td>787.18<sup>***</sup></td></tr><tr><td style=\"text-align:left\"></td><td>(658.28 , 921.2)</td><td>(658.28 , 921.2)</td><td>(658.59 , 915.76)</td></tr><tr><td style=\"text-align:left\">Oldness</td><td>24.7<sup></sup></td><td>24.7<sup></sup></td><td>37.24<sup></sup></td></tr><tr><td style=\"text-align:left\"></td><td>(-103.86 , 153.26)</td><td>(-103.86 , 153.26)</td><td>(-88.78 , 163.26)</td></tr><tr><td style=\"text-align:left\">S1</td><td>197.85<sup></sup></td><td>197.85<sup></sup></td><td></td></tr><tr><td style=\"text-align:left\"></td><td>(-84.8 , 480.51)</td><td>(-84.8 , 480.51)</td><td></td></tr><tr><td style=\"text-align:left\">Sex</td><td>-82.86<sup></sup></td><td>-82.86<sup></sup></td><td>-106.58<sup>*</sup></td></tr><tr><td style=\"text-align:left\"></td><td>(-210.32 , 44.6)</td><td>(-210.32 , 44.6)</td><td>(-228.68 , 15.52)</td></tr><td colspan=\"4\" style=\"border-bottom: 1px solid black\"></td></tr><tr><td style=\"text-align: left\">Observations</td><td>  </td><td>  </td><td>442.0</td></tr><tr><td colspan=\"4\" style=\"border-bottom: 1px solid black\"></td></tr><tr><td style=\"text-align: left\">Note:</td>\n",
       " <td colspan=\"3\" style=\"text-align: right\">\n",
       "  <sup>*</sup>p&lt;0.1;\n",
       "  <sup>**</sup>p&lt;0.05;\n",
       "  <sup>***</sup>p&lt;0.01\n",
       " </td></tr><tr><td></td><td colspan=\"3\" style=\"text-align: right\">First note</td></tr><tr><td></td><td colspan=\"3\" style=\"text-align: right\">Second note</td></tr></table>"
      ],
      "text/plain": [
       "<IPython.core.display.HTML object>"
      ]
     },
     "execution_count": 40,
     "metadata": {},
     "output_type": "execute_result"
    }
   ],
   "source": [
    "HTML(stargazer.render_html())"
   ]
  },
  {
   "cell_type": "code",
   "execution_count": 41,
   "metadata": {},
   "outputs": [],
   "source": [
    "with open('./tex_tables/table10.tex','w') as f:\n",
    "    f.write(stargazer.render_latex())"
   ]
  },
  {
   "cell_type": "code",
   "execution_count": 42,
   "metadata": {},
   "outputs": [],
   "source": [
    "stargazer.significance_levels([0.1, 0.05, 0.07])"
   ]
  },
  {
   "cell_type": "code",
   "execution_count": 43,
   "metadata": {},
   "outputs": [
    {
     "data": {
      "text/html": [
       "Diabetes Study<br><table style=\"text-align:center\"><tr><td colspan=\"4\" style=\"border-bottom: 1px solid black\"></td></tr><tr><td style=\"text-align:left\"></td><td colspan=\"3\"><em></em></td></tr><tr><td style=\"text-align:left\"></td><td colspan=\"3\">Test model name</td></tr><tr><td colspan=\"4\" style=\"border-bottom: 1px solid black\"></td></tr><tr><td style=\"text-align:left\">BMI</td><td>789.74<sup>***</sup></td><td>789.74<sup>***</sup></td><td>787.18<sup>***</sup></td></tr><tr><td style=\"text-align:left\"></td><td>(658.28 , 921.2)</td><td>(658.28 , 921.2)</td><td>(658.59 , 915.76)</td></tr><tr><td style=\"text-align:left\">Oldness</td><td>24.7<sup></sup></td><td>24.7<sup></sup></td><td>37.24<sup></sup></td></tr><tr><td style=\"text-align:left\"></td><td>(-103.86 , 153.26)</td><td>(-103.86 , 153.26)</td><td>(-88.78 , 163.26)</td></tr><tr><td style=\"text-align:left\">S1</td><td>197.85<sup></sup></td><td>197.85<sup></sup></td><td></td></tr><tr><td style=\"text-align:left\"></td><td>(-84.8 , 480.51)</td><td>(-84.8 , 480.51)</td><td></td></tr><tr><td style=\"text-align:left\">Sex</td><td>-82.86<sup></sup></td><td>-82.86<sup></sup></td><td>-106.58<sup>*</sup></td></tr><tr><td style=\"text-align:left\"></td><td>(-210.32 , 44.6)</td><td>(-210.32 , 44.6)</td><td>(-228.68 , 15.52)</td></tr><td colspan=\"4\" style=\"border-bottom: 1px solid black\"></td></tr><tr><td style=\"text-align: left\">Observations</td><td>  </td><td>  </td><td>442.0</td></tr><tr><td colspan=\"4\" style=\"border-bottom: 1px solid black\"></td></tr><tr><td style=\"text-align: left\">Note:</td>\n",
       " <td colspan=\"3\" style=\"text-align: right\">\n",
       "  <sup>*</sup>p&lt;0.1;\n",
       "  <sup>**</sup>p&lt;0.07;\n",
       "  <sup>***</sup>p&lt;0.05\n",
       " </td></tr><tr><td></td><td colspan=\"3\" style=\"text-align: right\">First note</td></tr><tr><td></td><td colspan=\"3\" style=\"text-align: right\">Second note</td></tr></table>"
      ],
      "text/plain": [
       "<IPython.core.display.HTML object>"
      ]
     },
     "execution_count": 43,
     "metadata": {},
     "output_type": "execute_result"
    }
   ],
   "source": [
    "HTML(stargazer.render_html())"
   ]
  },
  {
   "cell_type": "code",
   "execution_count": 44,
   "metadata": {},
   "outputs": [],
   "source": [
    "with open('./tex_tables/table11.tex','w') as f:\n",
    "    f.write(stargazer.render_latex())"
   ]
  },
  {
   "cell_type": "code",
   "execution_count": 45,
   "metadata": {},
   "outputs": [],
   "source": [
    "stargazer.append_notes(False)"
   ]
  },
  {
   "cell_type": "code",
   "execution_count": 46,
   "metadata": {},
   "outputs": [
    {
     "data": {
      "text/html": [
       "Diabetes Study<br><table style=\"text-align:center\"><tr><td colspan=\"4\" style=\"border-bottom: 1px solid black\"></td></tr><tr><td style=\"text-align:left\"></td><td colspan=\"3\"><em></em></td></tr><tr><td style=\"text-align:left\"></td><td colspan=\"3\">Test model name</td></tr><tr><td colspan=\"4\" style=\"border-bottom: 1px solid black\"></td></tr><tr><td style=\"text-align:left\">BMI</td><td>789.74<sup>***</sup></td><td>789.74<sup>***</sup></td><td>787.18<sup>***</sup></td></tr><tr><td style=\"text-align:left\"></td><td>(658.28 , 921.2)</td><td>(658.28 , 921.2)</td><td>(658.59 , 915.76)</td></tr><tr><td style=\"text-align:left\">Oldness</td><td>24.7<sup></sup></td><td>24.7<sup></sup></td><td>37.24<sup></sup></td></tr><tr><td style=\"text-align:left\"></td><td>(-103.86 , 153.26)</td><td>(-103.86 , 153.26)</td><td>(-88.78 , 163.26)</td></tr><tr><td style=\"text-align:left\">S1</td><td>197.85<sup></sup></td><td>197.85<sup></sup></td><td></td></tr><tr><td style=\"text-align:left\"></td><td>(-84.8 , 480.51)</td><td>(-84.8 , 480.51)</td><td></td></tr><tr><td style=\"text-align:left\">Sex</td><td>-82.86<sup></sup></td><td>-82.86<sup></sup></td><td>-106.58<sup>*</sup></td></tr><tr><td style=\"text-align:left\"></td><td>(-210.32 , 44.6)</td><td>(-210.32 , 44.6)</td><td>(-228.68 , 15.52)</td></tr><td colspan=\"4\" style=\"border-bottom: 1px solid black\"></td></tr><tr><td style=\"text-align: left\">Observations</td><td>  </td><td>  </td><td>442.0</td></tr><tr><td colspan=\"4\" style=\"border-bottom: 1px solid black\"></td></tr><tr><td style=\"text-align: left\">Note:</td></tr><td></td><td colspan=\"3\" style=\"text-align: right\">First note</td></tr><tr><td></td><td colspan=\"3\" style=\"text-align: right\">Second note</td></tr></table>"
      ],
      "text/plain": [
       "<IPython.core.display.HTML object>"
      ]
     },
     "execution_count": 46,
     "metadata": {},
     "output_type": "execute_result"
    }
   ],
   "source": [
    "HTML(stargazer.render_html())"
   ]
  },
  {
   "cell_type": "code",
   "execution_count": 47,
   "metadata": {},
   "outputs": [],
   "source": [
    "with open('./tex_tables/table12.tex','w') as f:\n",
    "    f.write(stargazer.render_latex())"
   ]
  },
  {
   "cell_type": "code",
   "execution_count": null,
   "metadata": {},
   "outputs": [],
   "source": []
  },
  {
   "cell_type": "code",
   "execution_count": 48,
   "metadata": {},
   "outputs": [],
   "source": [
    "pubat = [item for item in dir(stargazer) if not item.startswith('_')]"
   ]
  },
  {
   "cell_type": "code",
   "execution_count": 49,
   "metadata": {},
   "outputs": [
    {
     "data": {
      "text/plain": [
       "['add_custom_notes',\n",
       " 'append_notes',\n",
       " 'column_labels',\n",
       " 'column_separators',\n",
       " 'confidence_intervals',\n",
       " 'covariate_order',\n",
       " 'custom_columns',\n",
       " 'custom_footer_text',\n",
       " 'custom_note_label',\n",
       " 'custom_notes',\n",
       " 'extract_data',\n",
       " 'extract_model_data',\n",
       " 'generate_additional_notes_html',\n",
       " 'generate_additional_notes_latex',\n",
       " 'generate_body_html',\n",
       " 'generate_body_latex',\n",
       " 'generate_f_statistic_html',\n",
       " 'generate_f_statistic_latex',\n",
       " 'generate_footer_html',\n",
       " 'generate_footer_latex',\n",
       " 'generate_header_html',\n",
       " 'generate_header_latex',\n",
       " 'generate_notes_html',\n",
       " 'generate_notes_latex',\n",
       " 'generate_observations_html',\n",
       " 'generate_observations_latex',\n",
       " 'generate_p_value_section_html',\n",
       " 'generate_p_value_section_latex',\n",
       " 'generate_param_main_html',\n",
       " 'generate_param_main_latex',\n",
       " 'generate_param_precision_html',\n",
       " 'generate_param_precision_latex',\n",
       " 'generate_param_rows_html',\n",
       " 'generate_param_rows_latex',\n",
       " 'generate_r2_adj_html',\n",
       " 'generate_r2_adj_latex',\n",
       " 'generate_r2_html',\n",
       " 'generate_r2_latex',\n",
       " 'generate_resid_std_err_html',\n",
       " 'generate_resid_std_err_latex',\n",
       " 'get_sig_icon',\n",
       " 'model_data',\n",
       " 'model_name',\n",
       " 'models',\n",
       " 'notes_append',\n",
       " 'notes_label',\n",
       " 'num_models',\n",
       " 'original_param_names',\n",
       " 'param_names',\n",
       " 'param_nicer_names',\n",
       " 'rename_covariates',\n",
       " 'render_html',\n",
       " 'render_latex',\n",
       " 'reset_covariate_order',\n",
       " 'reset_params',\n",
       " 'show_adj_r2',\n",
       " 'show_confidence_intervals',\n",
       " 'show_degrees_of_freedom',\n",
       " 'show_dof',\n",
       " 'show_f_statistic',\n",
       " 'show_footer',\n",
       " 'show_header',\n",
       " 'show_model_numbers',\n",
       " 'show_model_nums',\n",
       " 'show_n',\n",
       " 'show_notes',\n",
       " 'show_precision',\n",
       " 'show_r2',\n",
       " 'show_residual_std_err',\n",
       " 'show_sig',\n",
       " 'sig_digits',\n",
       " 'sig_levels',\n",
       " 'significance_levels',\n",
       " 'significant_digits',\n",
       " 'title',\n",
       " 'title_text',\n",
       " 'validate_input']"
      ]
     },
     "execution_count": 49,
     "metadata": {},
     "output_type": "execute_result"
    }
   ],
   "source": [
    "pubat"
   ]
  },
  {
   "cell_type": "code",
   "execution_count": null,
   "metadata": {},
   "outputs": [],
   "source": []
  }
 ],
 "metadata": {
  "@webio": {
   "lastCommId": null,
   "lastKernelId": null
  },
  "kernelspec": {
   "display_name": "Python 3",
   "language": "python",
   "name": "python3"
  },
  "language_info": {
   "codemirror_mode": {
    "name": "ipython",
    "version": 3
   },
   "file_extension": ".py",
   "mimetype": "text/x-python",
   "name": "python",
   "nbconvert_exporter": "python",
   "pygments_lexer": "ipython3",
   "version": "3.7.3"
  }
 },
 "nbformat": 4,
 "nbformat_minor": 2
}
