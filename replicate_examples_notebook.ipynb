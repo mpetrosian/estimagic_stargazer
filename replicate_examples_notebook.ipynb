{
 "cells": [
  {
   "cell_type": "code",
   "execution_count": 1,
   "metadata": {},
   "outputs": [
    {
     "name": "stderr",
     "output_type": "stream",
     "text": [
      "C:\\ProgramData\\Anaconda3\\lib\\site-packages\\numpy\\core\\fromnumeric.py:2223: FutureWarning: Method .ptp is deprecated and will be removed in a future version. Use numpy.ptp instead.\n",
      "  return ptp(axis=axis, out=out, **kwargs)\n"
     ]
    }
   ],
   "source": [
    "import pandas as pd\n",
    "from sklearn import datasets\n",
    "import statsmodels.api as sm\n",
    "from estimagic_stargazer.stargazer import Stargazer \n",
    "from IPython.core.display import HTML, Latex\n",
    "from tabulate import tabulate\n",
    "from collections import namedtuple\n",
    "from copy import deepcopy, copy\n",
    "diabetes = datasets.load_diabetes()\n",
    "df = pd.DataFrame(diabetes.data)\n",
    "df.columns = ['Age', 'Sex', 'BMI', 'ABP', 'S1', 'S2', 'S3', 'S4', 'S5', 'S6']\n",
    "df['target'] = diabetes.target\n",
    "\n",
    "est = sm.OLS(endog=df['target'], exog=sm.add_constant(df[df.columns[0:4]])).fit()\n",
    "est2 = sm.OLS(endog=df['target'], exog=sm.add_constant(df[df.columns[0:6]])).fit()\n",
    "\n"
   ]
  },
  {
   "cell_type": "code",
   "execution_count": 2,
   "metadata": {},
   "outputs": [],
   "source": [
    "def extract_params_from_sm(model):\n",
    "    to_concat = []\n",
    "    params_list = [\"params\", \"pvalues\", \"bse\"]\n",
    "    for col in params_list:\n",
    "        to_concat.append(getattr(model, col))\n",
    "    to_concat.append(model.conf_int()[0])\n",
    "    to_concat.append(model.conf_int()[1])\n",
    "    params_df = pd.concat(to_concat, axis=1)\n",
    "    params_df.columns = [\"value\", \"pvalue\", \"standard_error\", \"ci_lower\", \"ci_upper\"]\n",
    "    return params_df\n",
    "\n",
    "\n",
    "def extract_info_from_sm(model):\n",
    "    info = {}\n",
    "    key_values = [\n",
    "        \"rsquared\",\n",
    "        \"rsquared_adj\",\n",
    "        \"scale\",\n",
    "        \"fvalue\",\n",
    "        \"f_pvalue\",\n",
    "        \"df_model\",\n",
    "        \"df_resid\",\n",
    "    ]\n",
    "    for kv in key_values:\n",
    "        info[kv] = getattr(model, kv)\n",
    "    info[\"dependent_variable\"] = model.model.endog_names\n",
    "\n",
    "    return info\n"
   ]
  },
  {
   "cell_type": "code",
   "execution_count": 3,
   "metadata": {},
   "outputs": [],
   "source": [
    "# use the functions defined above to create estimation result that is namedtuple\n",
    "namedtuplee = namedtuple(\"namedtuplee\", \"params info\")\n",
    "est3 = namedtuplee(\n",
    "params=extract_params_from_sm(est2),\n",
    "info={**extract_info_from_sm(est2)},\n",
    ")\n",
    "del est3.info[\"df_model\"]\n",
    "del est3.info[\"df_resid\"]\n"
   ]
  },
  {
   "cell_type": "code",
   "execution_count": 4,
   "metadata": {},
   "outputs": [],
   "source": [
    "# using est3, create dictionary\n",
    "est4 = {}\n",
    "est4['params'] = deepcopy(est3.params)\n",
    "est4['info'] = deepcopy(est3.info)\n"
   ]
  },
  {
   "cell_type": "code",
   "execution_count": 5,
   "metadata": {},
   "outputs": [],
   "source": [
    "del est4['info']['rsquared'], est4['info']['rsquared_adj'],est4['info']['scale'], est4['info']['fvalue'], est4['info']['f_pvalue']"
   ]
  },
  {
   "cell_type": "code",
   "execution_count": 6,
   "metadata": {},
   "outputs": [],
   "source": [
    "# using est3, create dictionary\n",
    "est5 = {}\n",
    "est5['params'] = est3.params\n",
    "est5['info'] = est3.info\n"
   ]
  },
  {
   "cell_type": "code",
   "execution_count": 7,
   "metadata": {},
   "outputs": [],
   "source": [
    "# check that code runs for non-list inputs\n",
    "stargazer2=Stargazer(est3)"
   ]
  },
  {
   "cell_type": "code",
   "execution_count": 8,
   "metadata": {},
   "outputs": [
    {
     "data": {
      "text/html": [
       "<table style=\"text-align:center\"><tr><td colspan=\"2\" style=\"border-bottom: 1px solid black\"></td></tr><tr><td style=\"text-align:left\"></td><td colspan=\"1\"><em>Model name:</em></td></tr><tr><td style=\"text-align:left\"></td><tr><td style=\"text-align:left\"></td><td>(1)</td></tr><tr><td colspan=\"2\" style=\"border-bottom: 1px solid black\"></td></tr><tr><td style=\"text-align:left\">ABP</td><td>397.583<sup>***</sup></td></tr><tr><td style=\"text-align:left\"></td><td>(70.87)</td></tr><tr><td style=\"text-align:left\">Age</td><td>24.704<sup></sup></td></tr><tr><td style=\"text-align:left\"></td><td>(65.411)</td></tr><tr><td style=\"text-align:left\">BMI</td><td>789.742<sup>***</sup></td></tr><tr><td style=\"text-align:left\"></td><td>(66.887)</td></tr><tr><td style=\"text-align:left\">S1</td><td>197.852<sup></sup></td></tr><tr><td style=\"text-align:left\"></td><td>(143.812)</td></tr><tr><td style=\"text-align:left\">S2</td><td>-169.251<sup></sup></td></tr><tr><td style=\"text-align:left\"></td><td>(142.744)</td></tr><tr><td style=\"text-align:left\">Sex</td><td>-82.862<sup></sup></td></tr><tr><td style=\"text-align:left\"></td><td>(64.851)</td></tr><tr><td style=\"text-align:left\">const</td><td>152.133<sup>***</sup></td></tr><tr><td style=\"text-align:left\"></td><td>(2.853)</td></tr><td colspan=\"2\" style=\"border-bottom: 1px solid black\"></td></tr><tr><td style=\"text-align: left\">Observations</td><td>  </td></tr><tr><td style=\"text-align: left\">R<sup>2</sup></td><td>0.403</td></tr><tr><td style=\"text-align: left\">Adjusted R<sup>2</sup></td><td>0.395</td></tr><tr><td style=\"text-align: left\">Residual Std. Error</td><td>59.982</td></tr><tr><td style=\"text-align: left\">F Statistic</td><td>48.915<sup>***</sup></td></tr><tr><td colspan=\"2\" style=\"border-bottom: 1px solid black\"></td></tr><tr><td style=\"text-align: left\">Note:</td>\n",
       " <td colspan=\"1\" style=\"text-align: right\">\n",
       "  <sup>*</sup>p&lt;0.1;\n",
       "  <sup>**</sup>p&lt;0.05;\n",
       "  <sup>***</sup>p&lt;0.01\n",
       " </td></tr></table>"
      ],
      "text/plain": [
       "<IPython.core.display.HTML object>"
      ]
     },
     "execution_count": 8,
     "metadata": {},
     "output_type": "execute_result"
    }
   ],
   "source": [
    "HTML(stargazer2.render_html())\n"
   ]
  },
  {
   "cell_type": "code",
   "execution_count": 9,
   "metadata": {},
   "outputs": [],
   "source": [
    "# check stargazer works for sns regression result, dictionary and namedtuple\n",
    "stargazer=Stargazer([est3,est4,est])"
   ]
  },
  {
   "cell_type": "code",
   "execution_count": 10,
   "metadata": {},
   "outputs": [
    {
     "data": {
      "text/html": [
       "<table style=\"text-align:center\"><tr><td colspan=\"4\" style=\"border-bottom: 1px solid black\"></td></tr><tr><td style=\"text-align:left\"></td><td colspan=\"3\"><em>Model name:</em></td></tr><tr><td style=\"text-align:left\"></td><tr><td style=\"text-align:left\"></td><td>(1)</td><td>(2)</td><td>(3)</td></tr><tr><td colspan=\"4\" style=\"border-bottom: 1px solid black\"></td></tr><tr><td style=\"text-align:left\">ABP</td><td>397.583<sup>***</sup></td><td>397.583<sup>***</sup></td><td>416.674<sup>***</sup></td></tr><tr><td style=\"text-align:left\"></td><td>(70.87)</td><td>(70.87)</td><td>(69.495)</td></tr><tr><td style=\"text-align:left\">Age</td><td>24.704<sup></sup></td><td>24.704<sup></sup></td><td>37.241<sup></sup></td></tr><tr><td style=\"text-align:left\"></td><td>(65.411)</td><td>(65.411)</td><td>(64.117)</td></tr><tr><td style=\"text-align:left\">BMI</td><td>789.742<sup>***</sup></td><td>789.742<sup>***</sup></td><td>787.179<sup>***</sup></td></tr><tr><td style=\"text-align:left\"></td><td>(66.887)</td><td>(66.887)</td><td>(65.424)</td></tr><tr><td style=\"text-align:left\">S1</td><td>197.852<sup></sup></td><td>197.852<sup></sup></td><td></td></tr><tr><td style=\"text-align:left\"></td><td>(143.812)</td><td>(143.812)</td><td></td></tr><tr><td style=\"text-align:left\">S2</td><td>-169.251<sup></sup></td><td>-169.251<sup></sup></td><td></td></tr><tr><td style=\"text-align:left\"></td><td>(142.744)</td><td>(142.744)</td><td></td></tr><tr><td style=\"text-align:left\">Sex</td><td>-82.862<sup></sup></td><td>-82.862<sup></sup></td><td>-106.578<sup>*</sup></td></tr><tr><td style=\"text-align:left\"></td><td>(64.851)</td><td>(64.851)</td><td>(62.125)</td></tr><tr><td style=\"text-align:left\">const</td><td>152.133<sup>***</sup></td><td>152.133<sup>***</sup></td><td>152.133<sup>***</sup></td></tr><tr><td style=\"text-align:left\"></td><td>(2.853)</td><td>(2.853)</td><td>(2.853)</td></tr><td colspan=\"4\" style=\"border-bottom: 1px solid black\"></td></tr><tr><td style=\"text-align: left\">Observations</td><td>  </td><td>  </td><td>442.0</td></tr><tr><td style=\"text-align: left\">R<sup>2</sup></td><td>0.403</td><td> </td><td>0.4</td></tr><tr><td style=\"text-align: left\">Adjusted R<sup>2</sup></td><td>0.395</td><td>  </td><td>0.395</td></tr><tr><td style=\"text-align: left\">Residual Std. Error</td><td>59.982</td><td> </td><td>59.976(df = 437.0)</td></tr><tr><td style=\"text-align: left\">F Statistic</td><td>48.915<sup>***</sup></td><td></td><td>72.913<sup>***</sup>(df = 4.0; 437.0)</td></tr><tr><td colspan=\"4\" style=\"border-bottom: 1px solid black\"></td></tr><tr><td style=\"text-align: left\">Note:</td>\n",
       " <td colspan=\"3\" style=\"text-align: right\">\n",
       "  <sup>*</sup>p&lt;0.1;\n",
       "  <sup>**</sup>p&lt;0.05;\n",
       "  <sup>***</sup>p&lt;0.01\n",
       " </td></tr></table>"
      ],
      "text/plain": [
       "<IPython.core.display.HTML object>"
      ]
     },
     "execution_count": 10,
     "metadata": {},
     "output_type": "execute_result"
    }
   ],
   "source": [
    "HTML(stargazer.render_html())\n"
   ]
  },
  {
   "cell_type": "code",
   "execution_count": 11,
   "metadata": {},
   "outputs": [
    {
     "data": {
      "text/latex": [
       "\\begin{table}[!htbp] \\centering\n",
       "  \\label{}\n",
       "\\begin{tabularx}{\\textwidth}{lXXX}\n",
       "\\\\[-1.8ex]\\hline\n",
       "\\hline \\\\[-1.8ex]\n",
       "& \\multicolumn{3}{c}{\\textit{Model name:}} \\\n",
       "\\cr \\cline{3-4}\n",
       "\\\\[-1.8ex] & (1) & (2) & (3) \\\\\n",
       "\\hline \\\\[-1.8ex]\n",
       " ABP & 397.583$^{***}$ & 397.583$^{***}$ & 416.674$^{***}$ \\\\\n",
       "  & (70.87) & (70.87) & (69.495) \\\\\n",
       "  & & & \\\\\n",
       " Age & 24.704$^{}$ & 24.704$^{}$ & 37.241$^{}$ \\\\\n",
       "  & (65.411) & (65.411) & (64.117) \\\\\n",
       "  & & & \\\\\n",
       " BMI & 789.742$^{***}$ & 789.742$^{***}$ & 787.179$^{***}$ \\\\\n",
       "  & (66.887) & (66.887) & (65.424) \\\\\n",
       "  & & & \\\\\n",
       " S1 & 197.852$^{}$ & 197.852$^{}$ & \\\\\n",
       "  & (143.812) & (143.812) & \\\\\n",
       "  & & & \\\\\n",
       " S2 & -169.251$^{}$ & -169.251$^{}$ & \\\\\n",
       "  & (142.744) & (142.744) & \\\\\n",
       "  & & & \\\\\n",
       " Sex & -82.862$^{}$ & -82.862$^{}$ & -106.578$^{*}$ \\\\\n",
       "  & (64.851) & (64.851) & (62.125) \\\\\n",
       "  & & & \\\\\n",
       " const & 152.133$^{***}$ & 152.133$^{***}$ & 152.133$^{***}$ \\\\\n",
       "  & (2.853) & (2.853) & (2.853) \\\\\n",
       "  & & & \\\\\n",
       "\\hline \\\\[-1.8ex]\n",
       " Observations &   &   & 442.0 \\\\\n",
       " R${2}$ & 0.403 &   & 0.4 \\\\\n",
       " Adjusted R${2}$ & 0.395 &   & 0.395 \\\\\n",
       " Residual Std. Error & 59.982 &   & 59.976(df = 437.0)  \\\\\n",
       " F Statistic & 48.915$^{***}$  &     & 72.913$^{***}$ (df = 4.0; 437.0) \\\\\n",
       "\\hline\n",
       "\\hline \\\\[-1.8ex]\n",
       "\\textit{Note:} & \\multicolumn{3}{r}{$^{*}$p$<$0.1; $^{**}$p$<$0.05; $^{***}$p$<$0.01} \\\\\n",
       "\\end{tabularx}\n",
       "\\end{table}"
      ],
      "text/plain": [
       "<IPython.core.display.Latex object>"
      ]
     },
     "execution_count": 11,
     "metadata": {},
     "output_type": "execute_result"
    }
   ],
   "source": [
    "Latex(stargazer.render_latex())"
   ]
  },
  {
   "cell_type": "code",
   "execution_count": 12,
   "metadata": {},
   "outputs": [],
   "source": [
    "stargazer.title('Diabetes Study')"
   ]
  },
  {
   "cell_type": "code",
   "execution_count": 13,
   "metadata": {},
   "outputs": [
    {
     "data": {
      "text/html": [
       "Diabetes Study<br><table style=\"text-align:center\"><tr><td colspan=\"4\" style=\"border-bottom: 1px solid black\"></td></tr><tr><td style=\"text-align:left\"></td><td colspan=\"3\"><em>Model name:</em></td></tr><tr><td style=\"text-align:left\"></td><tr><td style=\"text-align:left\"></td><td>(1)</td><td>(2)</td><td>(3)</td></tr><tr><td colspan=\"4\" style=\"border-bottom: 1px solid black\"></td></tr><tr><td style=\"text-align:left\">ABP</td><td>397.583<sup>***</sup></td><td>397.583<sup>***</sup></td><td>416.674<sup>***</sup></td></tr><tr><td style=\"text-align:left\"></td><td>(70.87)</td><td>(70.87)</td><td>(69.495)</td></tr><tr><td style=\"text-align:left\">Age</td><td>24.704<sup></sup></td><td>24.704<sup></sup></td><td>37.241<sup></sup></td></tr><tr><td style=\"text-align:left\"></td><td>(65.411)</td><td>(65.411)</td><td>(64.117)</td></tr><tr><td style=\"text-align:left\">BMI</td><td>789.742<sup>***</sup></td><td>789.742<sup>***</sup></td><td>787.179<sup>***</sup></td></tr><tr><td style=\"text-align:left\"></td><td>(66.887)</td><td>(66.887)</td><td>(65.424)</td></tr><tr><td style=\"text-align:left\">S1</td><td>197.852<sup></sup></td><td>197.852<sup></sup></td><td></td></tr><tr><td style=\"text-align:left\"></td><td>(143.812)</td><td>(143.812)</td><td></td></tr><tr><td style=\"text-align:left\">S2</td><td>-169.251<sup></sup></td><td>-169.251<sup></sup></td><td></td></tr><tr><td style=\"text-align:left\"></td><td>(142.744)</td><td>(142.744)</td><td></td></tr><tr><td style=\"text-align:left\">Sex</td><td>-82.862<sup></sup></td><td>-82.862<sup></sup></td><td>-106.578<sup>*</sup></td></tr><tr><td style=\"text-align:left\"></td><td>(64.851)</td><td>(64.851)</td><td>(62.125)</td></tr><tr><td style=\"text-align:left\">const</td><td>152.133<sup>***</sup></td><td>152.133<sup>***</sup></td><td>152.133<sup>***</sup></td></tr><tr><td style=\"text-align:left\"></td><td>(2.853)</td><td>(2.853)</td><td>(2.853)</td></tr><td colspan=\"4\" style=\"border-bottom: 1px solid black\"></td></tr><tr><td style=\"text-align: left\">Observations</td><td>  </td><td>  </td><td>442.0</td></tr><tr><td style=\"text-align: left\">R<sup>2</sup></td><td>0.403</td><td> </td><td>0.4</td></tr><tr><td style=\"text-align: left\">Adjusted R<sup>2</sup></td><td>0.395</td><td>  </td><td>0.395</td></tr><tr><td style=\"text-align: left\">Residual Std. Error</td><td>59.982</td><td> </td><td>59.976(df = 437.0)</td></tr><tr><td style=\"text-align: left\">F Statistic</td><td>48.915<sup>***</sup></td><td></td><td>72.913<sup>***</sup>(df = 4.0; 437.0)</td></tr><tr><td colspan=\"4\" style=\"border-bottom: 1px solid black\"></td></tr><tr><td style=\"text-align: left\">Note:</td>\n",
       " <td colspan=\"3\" style=\"text-align: right\">\n",
       "  <sup>*</sup>p&lt;0.1;\n",
       "  <sup>**</sup>p&lt;0.05;\n",
       "  <sup>***</sup>p&lt;0.01\n",
       " </td></tr></table>"
      ],
      "text/plain": [
       "<IPython.core.display.HTML object>"
      ]
     },
     "execution_count": 13,
     "metadata": {},
     "output_type": "execute_result"
    }
   ],
   "source": [
    "HTML(stargazer.render_html())\n"
   ]
  },
  {
   "cell_type": "code",
   "execution_count": 14,
   "metadata": {},
   "outputs": [
    {
     "data": {
      "text/plain": [
       "IPython.core.display.Latex"
      ]
     },
     "execution_count": 14,
     "metadata": {},
     "output_type": "execute_result"
    }
   ],
   "source": [
    "type(Latex(stargazer.render_latex()))"
   ]
  },
  {
   "cell_type": "code",
   "execution_count": 15,
   "metadata": {},
   "outputs": [
    {
     "data": {
      "text/latex": [
       "\\begin{table}[!htbp] \\centering\n",
       "  \\caption{Diabetes Study}\n",
       "  \\label{}\n",
       "\\begin{tabularx}{\\textwidth}{lXXX}\n",
       "\\\\[-1.8ex]\\hline\n",
       "\\hline \\\\[-1.8ex]\n",
       "& \\multicolumn{3}{c}{\\textit{Model name:}} \\\n",
       "\\cr \\cline{3-4}\n",
       "\\\\[-1.8ex] & (1) & (2) & (3) \\\\\n",
       "\\hline \\\\[-1.8ex]\n",
       " ABP & 397.583$^{***}$ & 397.583$^{***}$ & 416.674$^{***}$ \\\\\n",
       "  & (70.87) & (70.87) & (69.495) \\\\\n",
       "  & & & \\\\\n",
       " Age & 24.704$^{}$ & 24.704$^{}$ & 37.241$^{}$ \\\\\n",
       "  & (65.411) & (65.411) & (64.117) \\\\\n",
       "  & & & \\\\\n",
       " BMI & 789.742$^{***}$ & 789.742$^{***}$ & 787.179$^{***}$ \\\\\n",
       "  & (66.887) & (66.887) & (65.424) \\\\\n",
       "  & & & \\\\\n",
       " S1 & 197.852$^{}$ & 197.852$^{}$ & \\\\\n",
       "  & (143.812) & (143.812) & \\\\\n",
       "  & & & \\\\\n",
       " S2 & -169.251$^{}$ & -169.251$^{}$ & \\\\\n",
       "  & (142.744) & (142.744) & \\\\\n",
       "  & & & \\\\\n",
       " Sex & -82.862$^{}$ & -82.862$^{}$ & -106.578$^{*}$ \\\\\n",
       "  & (64.851) & (64.851) & (62.125) \\\\\n",
       "  & & & \\\\\n",
       " const & 152.133$^{***}$ & 152.133$^{***}$ & 152.133$^{***}$ \\\\\n",
       "  & (2.853) & (2.853) & (2.853) \\\\\n",
       "  & & & \\\\\n",
       "\\hline \\\\[-1.8ex]\n",
       " Observations &   &   & 442.0 \\\\\n",
       " R${2}$ & 0.403 &   & 0.4 \\\\\n",
       " Adjusted R${2}$ & 0.395 &   & 0.395 \\\\\n",
       " Residual Std. Error & 59.982 &   & 59.976(df = 437.0)  \\\\\n",
       " F Statistic & 48.915$^{***}$  &     & 72.913$^{***}$ (df = 4.0; 437.0) \\\\\n",
       "\\hline\n",
       "\\hline \\\\[-1.8ex]\n",
       "\\textit{Note:} & \\multicolumn{3}{r}{$^{*}$p$<$0.1; $^{**}$p$<$0.05; $^{***}$p$<$0.01} \\\\\n",
       "\\end{tabularx}\n",
       "\\end{table}"
      ],
      "text/plain": [
       "<IPython.core.display.Latex object>"
      ]
     },
     "metadata": {},
     "output_type": "display_data"
    }
   ],
   "source": [
    "from IPython.display import display\n",
    "display(Latex(stargazer.render_latex()))\n"
   ]
  },
  {
   "cell_type": "code",
   "execution_count": 17,
   "metadata": {},
   "outputs": [],
   "source": [
    "stargazer.custom_columns(['Model 1','Model 2','Model3'],[1,1,1])"
   ]
  },
  {
   "cell_type": "code",
   "execution_count": 18,
   "metadata": {},
   "outputs": [
    {
     "data": {
      "text/html": [
       "Diabetes Study<br><table style=\"text-align:center\"><tr><td colspan=\"4\" style=\"border-bottom: 1px solid black\"></td></tr><tr><td style=\"text-align:left\"></td><td colspan=\"3\"><em>Model name:</em></td></tr><tr><td style=\"text-align:left\"></td><tr><td></td><td colspan=\"1\">Model 1</td><td colspan=\"1\">Model 2</td><td colspan=\"1\">Model3</td></tr><tr><td style=\"text-align:left\"></td><td>(1)</td><td>(2)</td><td>(3)</td></tr><tr><td colspan=\"4\" style=\"border-bottom: 1px solid black\"></td></tr><tr><td style=\"text-align:left\">ABP</td><td>397.583<sup>***</sup></td><td>397.583<sup>***</sup></td><td>416.674<sup>***</sup></td></tr><tr><td style=\"text-align:left\"></td><td>(70.87)</td><td>(70.87)</td><td>(69.495)</td></tr><tr><td style=\"text-align:left\">Age</td><td>24.704<sup></sup></td><td>24.704<sup></sup></td><td>37.241<sup></sup></td></tr><tr><td style=\"text-align:left\"></td><td>(65.411)</td><td>(65.411)</td><td>(64.117)</td></tr><tr><td style=\"text-align:left\">BMI</td><td>789.742<sup>***</sup></td><td>789.742<sup>***</sup></td><td>787.179<sup>***</sup></td></tr><tr><td style=\"text-align:left\"></td><td>(66.887)</td><td>(66.887)</td><td>(65.424)</td></tr><tr><td style=\"text-align:left\">S1</td><td>197.852<sup></sup></td><td>197.852<sup></sup></td><td></td></tr><tr><td style=\"text-align:left\"></td><td>(143.812)</td><td>(143.812)</td><td></td></tr><tr><td style=\"text-align:left\">S2</td><td>-169.251<sup></sup></td><td>-169.251<sup></sup></td><td></td></tr><tr><td style=\"text-align:left\"></td><td>(142.744)</td><td>(142.744)</td><td></td></tr><tr><td style=\"text-align:left\">Sex</td><td>-82.862<sup></sup></td><td>-82.862<sup></sup></td><td>-106.578<sup>*</sup></td></tr><tr><td style=\"text-align:left\"></td><td>(64.851)</td><td>(64.851)</td><td>(62.125)</td></tr><tr><td style=\"text-align:left\">const</td><td>152.133<sup>***</sup></td><td>152.133<sup>***</sup></td><td>152.133<sup>***</sup></td></tr><tr><td style=\"text-align:left\"></td><td>(2.853)</td><td>(2.853)</td><td>(2.853)</td></tr><td colspan=\"4\" style=\"border-bottom: 1px solid black\"></td></tr><tr><td style=\"text-align: left\">Observations</td><td>  </td><td>  </td><td>442.0</td></tr><tr><td style=\"text-align: left\">R<sup>2</sup></td><td>0.403</td><td> </td><td>0.4</td></tr><tr><td style=\"text-align: left\">Adjusted R<sup>2</sup></td><td>0.395</td><td>  </td><td>0.395</td></tr><tr><td style=\"text-align: left\">Residual Std. Error</td><td>59.982</td><td> </td><td>59.976(df = 437.0)</td></tr><tr><td style=\"text-align: left\">F Statistic</td><td>48.915<sup>***</sup></td><td></td><td>72.913<sup>***</sup>(df = 4.0; 437.0)</td></tr><tr><td colspan=\"4\" style=\"border-bottom: 1px solid black\"></td></tr><tr><td style=\"text-align: left\">Note:</td>\n",
       " <td colspan=\"3\" style=\"text-align: right\">\n",
       "  <sup>*</sup>p&lt;0.1;\n",
       "  <sup>**</sup>p&lt;0.05;\n",
       "  <sup>***</sup>p&lt;0.01\n",
       " </td></tr></table>"
      ],
      "text/plain": [
       "<IPython.core.display.HTML object>"
      ]
     },
     "execution_count": 18,
     "metadata": {},
     "output_type": "execute_result"
    }
   ],
   "source": [
    "HTML(stargazer.render_html())"
   ]
  },
  {
   "cell_type": "code",
   "execution_count": 19,
   "metadata": {},
   "outputs": [
    {
     "data": {
      "text/latex": [
       "\\begin{table}[!htbp] \\centering\n",
       "  \\caption{Diabetes Study}\n",
       "  \\label{}\n",
       "\\begin{tabularx}{\\textwidth}{lXXX}\n",
       "\\\\[-1.8ex]\\hline\n",
       "\\hline \\\\[-1.8ex]\n",
       "& \\multicolumn{3}{c}{\\textit{Model name:}} \\\n",
       "\\cr \\cline{3-4}\n",
       "\\\\[-1.8ex] & \\multicolumn{1}{c}{Model 1} & \\multicolumn{1}{c}{Model 2} & \\multicolumn{1}{c}{Model3}  \\\\\n",
       "\\\\[-1.8ex] & (1) & (2) & (3) \\\\\n",
       "\\hline \\\\[-1.8ex]\n",
       " ABP & 397.583$^{***}$ & 397.583$^{***}$ & 416.674$^{***}$ \\\\\n",
       "  & (70.87) & (70.87) & (69.495) \\\\\n",
       "  & & & \\\\\n",
       " Age & 24.704$^{}$ & 24.704$^{}$ & 37.241$^{}$ \\\\\n",
       "  & (65.411) & (65.411) & (64.117) \\\\\n",
       "  & & & \\\\\n",
       " BMI & 789.742$^{***}$ & 789.742$^{***}$ & 787.179$^{***}$ \\\\\n",
       "  & (66.887) & (66.887) & (65.424) \\\\\n",
       "  & & & \\\\\n",
       " S1 & 197.852$^{}$ & 197.852$^{}$ & \\\\\n",
       "  & (143.812) & (143.812) & \\\\\n",
       "  & & & \\\\\n",
       " S2 & -169.251$^{}$ & -169.251$^{}$ & \\\\\n",
       "  & (142.744) & (142.744) & \\\\\n",
       "  & & & \\\\\n",
       " Sex & -82.862$^{}$ & -82.862$^{}$ & -106.578$^{*}$ \\\\\n",
       "  & (64.851) & (64.851) & (62.125) \\\\\n",
       "  & & & \\\\\n",
       " const & 152.133$^{***}$ & 152.133$^{***}$ & 152.133$^{***}$ \\\\\n",
       "  & (2.853) & (2.853) & (2.853) \\\\\n",
       "  & & & \\\\\n",
       "\\hline \\\\[-1.8ex]\n",
       " Observations &   &   & 442.0 \\\\\n",
       " R${2}$ & 0.403 &   & 0.4 \\\\\n",
       " Adjusted R${2}$ & 0.395 &   & 0.395 \\\\\n",
       " Residual Std. Error & 59.982 &   & 59.976(df = 437.0)  \\\\\n",
       " F Statistic & 48.915$^{***}$  &     & 72.913$^{***}$ (df = 4.0; 437.0) \\\\\n",
       "\\hline\n",
       "\\hline \\\\[-1.8ex]\n",
       "\\textit{Note:} & \\multicolumn{3}{r}{$^{*}$p$<$0.1; $^{**}$p$<$0.05; $^{***}$p$<$0.01} \\\\\n",
       "\\end{tabularx}\n",
       "\\end{table}"
      ],
      "text/plain": [
       "<IPython.core.display.Latex object>"
      ]
     },
     "execution_count": 19,
     "metadata": {},
     "output_type": "execute_result"
    }
   ],
   "source": [
    "Latex(stargazer.render_latex())"
   ]
  },
  {
   "cell_type": "code",
   "execution_count": 20,
   "metadata": {},
   "outputs": [],
   "source": [
    "stargazer.custom_columns('Test model name')"
   ]
  },
  {
   "cell_type": "code",
   "execution_count": 21,
   "metadata": {},
   "outputs": [
    {
     "data": {
      "text/html": [
       "Diabetes Study<br><table style=\"text-align:center\"><tr><td colspan=\"4\" style=\"border-bottom: 1px solid black\"></td></tr><tr><td style=\"text-align:left\"></td><td colspan=\"3\"><em>Model name:</em></td></tr><tr><td style=\"text-align:left\"></td><td colspan=\"3\">Test model name</td></tr><tr><td style=\"text-align:left\"></td><td>(1)</td><td>(2)</td><td>(3)</td></tr><tr><td colspan=\"4\" style=\"border-bottom: 1px solid black\"></td></tr><tr><td style=\"text-align:left\">ABP</td><td>397.583<sup>***</sup></td><td>397.583<sup>***</sup></td><td>416.674<sup>***</sup></td></tr><tr><td style=\"text-align:left\"></td><td>(70.87)</td><td>(70.87)</td><td>(69.495)</td></tr><tr><td style=\"text-align:left\">Age</td><td>24.704<sup></sup></td><td>24.704<sup></sup></td><td>37.241<sup></sup></td></tr><tr><td style=\"text-align:left\"></td><td>(65.411)</td><td>(65.411)</td><td>(64.117)</td></tr><tr><td style=\"text-align:left\">BMI</td><td>789.742<sup>***</sup></td><td>789.742<sup>***</sup></td><td>787.179<sup>***</sup></td></tr><tr><td style=\"text-align:left\"></td><td>(66.887)</td><td>(66.887)</td><td>(65.424)</td></tr><tr><td style=\"text-align:left\">S1</td><td>197.852<sup></sup></td><td>197.852<sup></sup></td><td></td></tr><tr><td style=\"text-align:left\"></td><td>(143.812)</td><td>(143.812)</td><td></td></tr><tr><td style=\"text-align:left\">S2</td><td>-169.251<sup></sup></td><td>-169.251<sup></sup></td><td></td></tr><tr><td style=\"text-align:left\"></td><td>(142.744)</td><td>(142.744)</td><td></td></tr><tr><td style=\"text-align:left\">Sex</td><td>-82.862<sup></sup></td><td>-82.862<sup></sup></td><td>-106.578<sup>*</sup></td></tr><tr><td style=\"text-align:left\"></td><td>(64.851)</td><td>(64.851)</td><td>(62.125)</td></tr><tr><td style=\"text-align:left\">const</td><td>152.133<sup>***</sup></td><td>152.133<sup>***</sup></td><td>152.133<sup>***</sup></td></tr><tr><td style=\"text-align:left\"></td><td>(2.853)</td><td>(2.853)</td><td>(2.853)</td></tr><td colspan=\"4\" style=\"border-bottom: 1px solid black\"></td></tr><tr><td style=\"text-align: left\">Observations</td><td>  </td><td>  </td><td>442.0</td></tr><tr><td style=\"text-align: left\">R<sup>2</sup></td><td>0.403</td><td> </td><td>0.4</td></tr><tr><td style=\"text-align: left\">Adjusted R<sup>2</sup></td><td>0.395</td><td>  </td><td>0.395</td></tr><tr><td style=\"text-align: left\">Residual Std. Error</td><td>59.982</td><td> </td><td>59.976(df = 437.0)</td></tr><tr><td style=\"text-align: left\">F Statistic</td><td>48.915<sup>***</sup></td><td></td><td>72.913<sup>***</sup>(df = 4.0; 437.0)</td></tr><tr><td colspan=\"4\" style=\"border-bottom: 1px solid black\"></td></tr><tr><td style=\"text-align: left\">Note:</td>\n",
       " <td colspan=\"3\" style=\"text-align: right\">\n",
       "  <sup>*</sup>p&lt;0.1;\n",
       "  <sup>**</sup>p&lt;0.05;\n",
       "  <sup>***</sup>p&lt;0.01\n",
       " </td></tr></table>"
      ],
      "text/plain": [
       "<IPython.core.display.HTML object>"
      ]
     },
     "execution_count": 21,
     "metadata": {},
     "output_type": "execute_result"
    }
   ],
   "source": [
    "HTML(stargazer.render_html())"
   ]
  },
  {
   "cell_type": "code",
   "execution_count": 22,
   "metadata": {},
   "outputs": [
    {
     "data": {
      "text/latex": [
       "\\begin{table}[!htbp] \\centering\n",
       "  \\caption{Diabetes Study}\n",
       "  \\label{}\n",
       "\\begin{tabularx}{\\textwidth}{lXXX}\n",
       "\\\\[-1.8ex]\\hline\n",
       "\\hline \\\\[-1.8ex]\n",
       "& \\multicolumn{3}{c}{\\textit{Model name:}} \\\n",
       "\\cr \\cline{3-4}\n",
       "\\\\[-1.8ex] & \\multicolumn{3}{c}{Test model name} \\\\\\\\[-1.8ex] & (1) & (2) & (3) \\\\\n",
       "\\hline \\\\[-1.8ex]\n",
       " ABP & 397.583$^{***}$ & 397.583$^{***}$ & 416.674$^{***}$ \\\\\n",
       "  & (70.87) & (70.87) & (69.495) \\\\\n",
       "  & & & \\\\\n",
       " Age & 24.704$^{}$ & 24.704$^{}$ & 37.241$^{}$ \\\\\n",
       "  & (65.411) & (65.411) & (64.117) \\\\\n",
       "  & & & \\\\\n",
       " BMI & 789.742$^{***}$ & 789.742$^{***}$ & 787.179$^{***}$ \\\\\n",
       "  & (66.887) & (66.887) & (65.424) \\\\\n",
       "  & & & \\\\\n",
       " S1 & 197.852$^{}$ & 197.852$^{}$ & \\\\\n",
       "  & (143.812) & (143.812) & \\\\\n",
       "  & & & \\\\\n",
       " S2 & -169.251$^{}$ & -169.251$^{}$ & \\\\\n",
       "  & (142.744) & (142.744) & \\\\\n",
       "  & & & \\\\\n",
       " Sex & -82.862$^{}$ & -82.862$^{}$ & -106.578$^{*}$ \\\\\n",
       "  & (64.851) & (64.851) & (62.125) \\\\\n",
       "  & & & \\\\\n",
       " const & 152.133$^{***}$ & 152.133$^{***}$ & 152.133$^{***}$ \\\\\n",
       "  & (2.853) & (2.853) & (2.853) \\\\\n",
       "  & & & \\\\\n",
       "\\hline \\\\[-1.8ex]\n",
       " Observations &   &   & 442.0 \\\\\n",
       " R${2}$ & 0.403 &   & 0.4 \\\\\n",
       " Adjusted R${2}$ & 0.395 &   & 0.395 \\\\\n",
       " Residual Std. Error & 59.982 &   & 59.976(df = 437.0)  \\\\\n",
       " F Statistic & 48.915$^{***}$  &     & 72.913$^{***}$ (df = 4.0; 437.0) \\\\\n",
       "\\hline\n",
       "\\hline \\\\[-1.8ex]\n",
       "\\textit{Note:} & \\multicolumn{3}{r}{$^{*}$p$<$0.1; $^{**}$p$<$0.05; $^{***}$p$<$0.01} \\\\\n",
       "\\end{tabularx}\n",
       "\\end{table}"
      ],
      "text/plain": [
       "<IPython.core.display.Latex object>"
      ]
     },
     "execution_count": 22,
     "metadata": {},
     "output_type": "execute_result"
    }
   ],
   "source": [
    "Latex(stargazer.render_latex())"
   ]
  },
  {
   "cell_type": "code",
   "execution_count": 23,
   "metadata": {},
   "outputs": [],
   "source": [
    "stargazer.show_model_numbers(False)"
   ]
  },
  {
   "cell_type": "code",
   "execution_count": 24,
   "metadata": {},
   "outputs": [
    {
     "data": {
      "text/html": [
       "Diabetes Study<br><table style=\"text-align:center\"><tr><td colspan=\"4\" style=\"border-bottom: 1px solid black\"></td></tr><tr><td style=\"text-align:left\"></td><td colspan=\"3\"><em>Model name:</em></td></tr><tr><td style=\"text-align:left\"></td><td colspan=\"3\">Test model name</td></tr><tr><td colspan=\"4\" style=\"border-bottom: 1px solid black\"></td></tr><tr><td style=\"text-align:left\">ABP</td><td>397.583<sup>***</sup></td><td>397.583<sup>***</sup></td><td>416.674<sup>***</sup></td></tr><tr><td style=\"text-align:left\"></td><td>(70.87)</td><td>(70.87)</td><td>(69.495)</td></tr><tr><td style=\"text-align:left\">Age</td><td>24.704<sup></sup></td><td>24.704<sup></sup></td><td>37.241<sup></sup></td></tr><tr><td style=\"text-align:left\"></td><td>(65.411)</td><td>(65.411)</td><td>(64.117)</td></tr><tr><td style=\"text-align:left\">BMI</td><td>789.742<sup>***</sup></td><td>789.742<sup>***</sup></td><td>787.179<sup>***</sup></td></tr><tr><td style=\"text-align:left\"></td><td>(66.887)</td><td>(66.887)</td><td>(65.424)</td></tr><tr><td style=\"text-align:left\">S1</td><td>197.852<sup></sup></td><td>197.852<sup></sup></td><td></td></tr><tr><td style=\"text-align:left\"></td><td>(143.812)</td><td>(143.812)</td><td></td></tr><tr><td style=\"text-align:left\">S2</td><td>-169.251<sup></sup></td><td>-169.251<sup></sup></td><td></td></tr><tr><td style=\"text-align:left\"></td><td>(142.744)</td><td>(142.744)</td><td></td></tr><tr><td style=\"text-align:left\">Sex</td><td>-82.862<sup></sup></td><td>-82.862<sup></sup></td><td>-106.578<sup>*</sup></td></tr><tr><td style=\"text-align:left\"></td><td>(64.851)</td><td>(64.851)</td><td>(62.125)</td></tr><tr><td style=\"text-align:left\">const</td><td>152.133<sup>***</sup></td><td>152.133<sup>***</sup></td><td>152.133<sup>***</sup></td></tr><tr><td style=\"text-align:left\"></td><td>(2.853)</td><td>(2.853)</td><td>(2.853)</td></tr><td colspan=\"4\" style=\"border-bottom: 1px solid black\"></td></tr><tr><td style=\"text-align: left\">Observations</td><td>  </td><td>  </td><td>442.0</td></tr><tr><td style=\"text-align: left\">R<sup>2</sup></td><td>0.403</td><td> </td><td>0.4</td></tr><tr><td style=\"text-align: left\">Adjusted R<sup>2</sup></td><td>0.395</td><td>  </td><td>0.395</td></tr><tr><td style=\"text-align: left\">Residual Std. Error</td><td>59.982</td><td> </td><td>59.976(df = 437.0)</td></tr><tr><td style=\"text-align: left\">F Statistic</td><td>48.915<sup>***</sup></td><td></td><td>72.913<sup>***</sup>(df = 4.0; 437.0)</td></tr><tr><td colspan=\"4\" style=\"border-bottom: 1px solid black\"></td></tr><tr><td style=\"text-align: left\">Note:</td>\n",
       " <td colspan=\"3\" style=\"text-align: right\">\n",
       "  <sup>*</sup>p&lt;0.1;\n",
       "  <sup>**</sup>p&lt;0.05;\n",
       "  <sup>***</sup>p&lt;0.01\n",
       " </td></tr></table>"
      ],
      "text/plain": [
       "<IPython.core.display.HTML object>"
      ]
     },
     "execution_count": 24,
     "metadata": {},
     "output_type": "execute_result"
    }
   ],
   "source": [
    "HTML(stargazer.render_html())"
   ]
  },
  {
   "cell_type": "code",
   "execution_count": 25,
   "metadata": {},
   "outputs": [
    {
     "data": {
      "text/latex": [
       "\\begin{table}[!htbp] \\centering\n",
       "  \\caption{Diabetes Study}\n",
       "  \\label{}\n",
       "\\begin{tabularx}{\\textwidth}{lXXX}\n",
       "\\\\[-1.8ex]\\hline\n",
       "\\hline \\\\[-1.8ex]\n",
       "& \\multicolumn{3}{c}{\\textit{Model name:}} \\\n",
       "\\cr \\cline{3-4}\n",
       "\\\\[-1.8ex] & \\multicolumn{3}{c}{Test model name} \\\\\\hline \\\\[-1.8ex]\n",
       " ABP & 397.583$^{***}$ & 397.583$^{***}$ & 416.674$^{***}$ \\\\\n",
       "  & (70.87) & (70.87) & (69.495) \\\\\n",
       "  & & & \\\\\n",
       " Age & 24.704$^{}$ & 24.704$^{}$ & 37.241$^{}$ \\\\\n",
       "  & (65.411) & (65.411) & (64.117) \\\\\n",
       "  & & & \\\\\n",
       " BMI & 789.742$^{***}$ & 789.742$^{***}$ & 787.179$^{***}$ \\\\\n",
       "  & (66.887) & (66.887) & (65.424) \\\\\n",
       "  & & & \\\\\n",
       " S1 & 197.852$^{}$ & 197.852$^{}$ & \\\\\n",
       "  & (143.812) & (143.812) & \\\\\n",
       "  & & & \\\\\n",
       " S2 & -169.251$^{}$ & -169.251$^{}$ & \\\\\n",
       "  & (142.744) & (142.744) & \\\\\n",
       "  & & & \\\\\n",
       " Sex & -82.862$^{}$ & -82.862$^{}$ & -106.578$^{*}$ \\\\\n",
       "  & (64.851) & (64.851) & (62.125) \\\\\n",
       "  & & & \\\\\n",
       " const & 152.133$^{***}$ & 152.133$^{***}$ & 152.133$^{***}$ \\\\\n",
       "  & (2.853) & (2.853) & (2.853) \\\\\n",
       "  & & & \\\\\n",
       "\\hline \\\\[-1.8ex]\n",
       " Observations &   &   & 442.0 \\\\\n",
       " R${2}$ & 0.403 &   & 0.4 \\\\\n",
       " Adjusted R${2}$ & 0.395 &   & 0.395 \\\\\n",
       " Residual Std. Error & 59.982 &   & 59.976(df = 437.0)  \\\\\n",
       " F Statistic & 48.915$^{***}$  &     & 72.913$^{***}$ (df = 4.0; 437.0) \\\\\n",
       "\\hline\n",
       "\\hline \\\\[-1.8ex]\n",
       "\\textit{Note:} & \\multicolumn{3}{r}{$^{*}$p$<$0.1; $^{**}$p$<$0.05; $^{***}$p$<$0.01} \\\\\n",
       "\\end{tabularx}\n",
       "\\end{table}"
      ],
      "text/plain": [
       "<IPython.core.display.Latex object>"
      ]
     },
     "execution_count": 25,
     "metadata": {},
     "output_type": "execute_result"
    }
   ],
   "source": [
    "Latex(stargazer.render_latex())"
   ]
  },
  {
   "cell_type": "code",
   "execution_count": 26,
   "metadata": {},
   "outputs": [],
   "source": [
    "stargazer.significant_digits(2)"
   ]
  },
  {
   "cell_type": "code",
   "execution_count": 27,
   "metadata": {},
   "outputs": [
    {
     "data": {
      "text/html": [
       "Diabetes Study<br><table style=\"text-align:center\"><tr><td colspan=\"4\" style=\"border-bottom: 1px solid black\"></td></tr><tr><td style=\"text-align:left\"></td><td colspan=\"3\"><em>Model name:</em></td></tr><tr><td style=\"text-align:left\"></td><td colspan=\"3\">Test model name</td></tr><tr><td colspan=\"4\" style=\"border-bottom: 1px solid black\"></td></tr><tr><td style=\"text-align:left\">ABP</td><td>397.58<sup>***</sup></td><td>397.58<sup>***</sup></td><td>416.67<sup>***</sup></td></tr><tr><td style=\"text-align:left\"></td><td>(70.87)</td><td>(70.87)</td><td>(69.49)</td></tr><tr><td style=\"text-align:left\">Age</td><td>24.7<sup></sup></td><td>24.7<sup></sup></td><td>37.24<sup></sup></td></tr><tr><td style=\"text-align:left\"></td><td>(65.41)</td><td>(65.41)</td><td>(64.12)</td></tr><tr><td style=\"text-align:left\">BMI</td><td>789.74<sup>***</sup></td><td>789.74<sup>***</sup></td><td>787.18<sup>***</sup></td></tr><tr><td style=\"text-align:left\"></td><td>(66.89)</td><td>(66.89)</td><td>(65.42)</td></tr><tr><td style=\"text-align:left\">S1</td><td>197.85<sup></sup></td><td>197.85<sup></sup></td><td></td></tr><tr><td style=\"text-align:left\"></td><td>(143.81)</td><td>(143.81)</td><td></td></tr><tr><td style=\"text-align:left\">S2</td><td>-169.25<sup></sup></td><td>-169.25<sup></sup></td><td></td></tr><tr><td style=\"text-align:left\"></td><td>(142.74)</td><td>(142.74)</td><td></td></tr><tr><td style=\"text-align:left\">Sex</td><td>-82.86<sup></sup></td><td>-82.86<sup></sup></td><td>-106.58<sup>*</sup></td></tr><tr><td style=\"text-align:left\"></td><td>(64.85)</td><td>(64.85)</td><td>(62.13)</td></tr><tr><td style=\"text-align:left\">const</td><td>152.13<sup>***</sup></td><td>152.13<sup>***</sup></td><td>152.13<sup>***</sup></td></tr><tr><td style=\"text-align:left\"></td><td>(2.85)</td><td>(2.85)</td><td>(2.85)</td></tr><td colspan=\"4\" style=\"border-bottom: 1px solid black\"></td></tr><tr><td style=\"text-align: left\">Observations</td><td>  </td><td>  </td><td>442.0</td></tr><tr><td style=\"text-align: left\">R<sup>2</sup></td><td>0.4</td><td> </td><td>0.4</td></tr><tr><td style=\"text-align: left\">Adjusted R<sup>2</sup></td><td>0.39</td><td>  </td><td>0.39</td></tr><tr><td style=\"text-align: left\">Residual Std. Error</td><td>59.98</td><td> </td><td>59.98(df = 437.0)</td></tr><tr><td style=\"text-align: left\">F Statistic</td><td>48.91<sup>***</sup></td><td></td><td>72.91<sup>***</sup>(df = 4.0; 437.0)</td></tr><tr><td colspan=\"4\" style=\"border-bottom: 1px solid black\"></td></tr><tr><td style=\"text-align: left\">Note:</td>\n",
       " <td colspan=\"3\" style=\"text-align: right\">\n",
       "  <sup>*</sup>p&lt;0.1;\n",
       "  <sup>**</sup>p&lt;0.05;\n",
       "  <sup>***</sup>p&lt;0.01\n",
       " </td></tr></table>"
      ],
      "text/plain": [
       "<IPython.core.display.HTML object>"
      ]
     },
     "execution_count": 27,
     "metadata": {},
     "output_type": "execute_result"
    }
   ],
   "source": [
    "HTML(stargazer.render_html())"
   ]
  },
  {
   "cell_type": "code",
   "execution_count": 28,
   "metadata": {},
   "outputs": [
    {
     "data": {
      "text/latex": [
       "\\begin{table}[!htbp] \\centering\n",
       "  \\caption{Diabetes Study}\n",
       "  \\label{}\n",
       "\\begin{tabularx}{\\textwidth}{lXXX}\n",
       "\\\\[-1.8ex]\\hline\n",
       "\\hline \\\\[-1.8ex]\n",
       "& \\multicolumn{3}{c}{\\textit{Model name:}} \\\n",
       "\\cr \\cline{3-4}\n",
       "\\\\[-1.8ex] & \\multicolumn{3}{c}{Test model name} \\\\\\hline \\\\[-1.8ex]\n",
       " ABP & 397.58$^{***}$ & 397.58$^{***}$ & 416.67$^{***}$ \\\\\n",
       "  & (70.87) & (70.87) & (69.49) \\\\\n",
       "  & & & \\\\\n",
       " Age & 24.7$^{}$ & 24.7$^{}$ & 37.24$^{}$ \\\\\n",
       "  & (65.41) & (65.41) & (64.12) \\\\\n",
       "  & & & \\\\\n",
       " BMI & 789.74$^{***}$ & 789.74$^{***}$ & 787.18$^{***}$ \\\\\n",
       "  & (66.89) & (66.89) & (65.42) \\\\\n",
       "  & & & \\\\\n",
       " S1 & 197.85$^{}$ & 197.85$^{}$ & \\\\\n",
       "  & (143.81) & (143.81) & \\\\\n",
       "  & & & \\\\\n",
       " S2 & -169.25$^{}$ & -169.25$^{}$ & \\\\\n",
       "  & (142.74) & (142.74) & \\\\\n",
       "  & & & \\\\\n",
       " Sex & -82.86$^{}$ & -82.86$^{}$ & -106.58$^{*}$ \\\\\n",
       "  & (64.85) & (64.85) & (62.13) \\\\\n",
       "  & & & \\\\\n",
       " const & 152.13$^{***}$ & 152.13$^{***}$ & 152.13$^{***}$ \\\\\n",
       "  & (2.85) & (2.85) & (2.85) \\\\\n",
       "  & & & \\\\\n",
       "\\hline \\\\[-1.8ex]\n",
       " Observations &   &   & 442.0 \\\\\n",
       " R${2}$ & 0.4 &   & 0.4 \\\\\n",
       " Adjusted R${2}$ & 0.39 &   & 0.39 \\\\\n",
       " Residual Std. Error & 59.98 &   & 59.98(df = 437.0)  \\\\\n",
       " F Statistic & 48.91$^{***}$  &     & 72.91$^{***}$ (df = 4.0; 437.0) \\\\\n",
       "\\hline\n",
       "\\hline \\\\[-1.8ex]\n",
       "\\textit{Note:} & \\multicolumn{3}{r}{$^{*}$p$<$0.1; $^{**}$p$<$0.05; $^{***}$p$<$0.01} \\\\\n",
       "\\end{tabularx}\n",
       "\\end{table}"
      ],
      "text/plain": [
       "<IPython.core.display.Latex object>"
      ]
     },
     "execution_count": 28,
     "metadata": {},
     "output_type": "execute_result"
    }
   ],
   "source": [
    "Latex(stargazer.render_latex())"
   ]
  },
  {
   "cell_type": "code",
   "execution_count": 29,
   "metadata": {},
   "outputs": [],
   "source": [
    "stargazer.show_confidence_intervals(True)"
   ]
  },
  {
   "cell_type": "code",
   "execution_count": 30,
   "metadata": {},
   "outputs": [
    {
     "data": {
      "text/html": [
       "Diabetes Study<br><table style=\"text-align:center\"><tr><td colspan=\"4\" style=\"border-bottom: 1px solid black\"></td></tr><tr><td style=\"text-align:left\"></td><td colspan=\"3\"><em>Model name:</em></td></tr><tr><td style=\"text-align:left\"></td><td colspan=\"3\">Test model name</td></tr><tr><td colspan=\"4\" style=\"border-bottom: 1px solid black\"></td></tr><tr><td style=\"text-align:left\">ABP</td><td>397.58<sup>***</sup></td><td>397.58<sup>***</sup></td><td>416.67<sup>***</sup></td></tr><tr><td style=\"text-align:left\"></td><td>(258.29 , 536.87)</td><td>(258.29 , 536.87)</td><td>(280.09 , 553.26)</td></tr><tr><td style=\"text-align:left\">Age</td><td>24.7<sup></sup></td><td>24.7<sup></sup></td><td>37.24<sup></sup></td></tr><tr><td style=\"text-align:left\"></td><td>(-103.86 , 153.26)</td><td>(-103.86 , 153.26)</td><td>(-88.78 , 163.26)</td></tr><tr><td style=\"text-align:left\">BMI</td><td>789.74<sup>***</sup></td><td>789.74<sup>***</sup></td><td>787.18<sup>***</sup></td></tr><tr><td style=\"text-align:left\"></td><td>(658.28 , 921.2)</td><td>(658.28 , 921.2)</td><td>(658.59 , 915.76)</td></tr><tr><td style=\"text-align:left\">S1</td><td>197.85<sup></sup></td><td>197.85<sup></sup></td><td></td></tr><tr><td style=\"text-align:left\"></td><td>(-84.8 , 480.51)</td><td>(-84.8 , 480.51)</td><td></td></tr><tr><td style=\"text-align:left\">S2</td><td>-169.25<sup></sup></td><td>-169.25<sup></sup></td><td></td></tr><tr><td style=\"text-align:left\"></td><td>(-449.8 , 111.3)</td><td>(-449.8 , 111.3)</td><td></td></tr><tr><td style=\"text-align:left\">Sex</td><td>-82.86<sup></sup></td><td>-82.86<sup></sup></td><td>-106.58<sup>*</sup></td></tr><tr><td style=\"text-align:left\"></td><td>(-210.32 , 44.6)</td><td>(-210.32 , 44.6)</td><td>(-228.68 , 15.52)</td></tr><tr><td style=\"text-align:left\">const</td><td>152.13<sup>***</sup></td><td>152.13<sup>***</sup></td><td>152.13<sup>***</sup></td></tr><tr><td style=\"text-align:left\"></td><td>(146.53 , 157.74)</td><td>(146.53 , 157.74)</td><td>(146.53 , 157.74)</td></tr><td colspan=\"4\" style=\"border-bottom: 1px solid black\"></td></tr><tr><td style=\"text-align: left\">Observations</td><td>  </td><td>  </td><td>442.0</td></tr><tr><td style=\"text-align: left\">R<sup>2</sup></td><td>0.4</td><td> </td><td>0.4</td></tr><tr><td style=\"text-align: left\">Adjusted R<sup>2</sup></td><td>0.39</td><td>  </td><td>0.39</td></tr><tr><td style=\"text-align: left\">Residual Std. Error</td><td>59.98</td><td> </td><td>59.98(df = 437.0)</td></tr><tr><td style=\"text-align: left\">F Statistic</td><td>48.91<sup>***</sup></td><td></td><td>72.91<sup>***</sup>(df = 4.0; 437.0)</td></tr><tr><td colspan=\"4\" style=\"border-bottom: 1px solid black\"></td></tr><tr><td style=\"text-align: left\">Note:</td>\n",
       " <td colspan=\"3\" style=\"text-align: right\">\n",
       "  <sup>*</sup>p&lt;0.1;\n",
       "  <sup>**</sup>p&lt;0.05;\n",
       "  <sup>***</sup>p&lt;0.01\n",
       " </td></tr></table>"
      ],
      "text/plain": [
       "<IPython.core.display.HTML object>"
      ]
     },
     "execution_count": 30,
     "metadata": {},
     "output_type": "execute_result"
    }
   ],
   "source": [
    "HTML(stargazer.render_html())"
   ]
  },
  {
   "cell_type": "code",
   "execution_count": 31,
   "metadata": {},
   "outputs": [
    {
     "data": {
      "text/latex": [
       "\\begin{table}[!htbp] \\centering\n",
       "  \\caption{Diabetes Study}\n",
       "  \\label{}\n",
       "\\begin{tabularx}{\\textwidth}{lXXX}\n",
       "\\\\[-1.8ex]\\hline\n",
       "\\hline \\\\[-1.8ex]\n",
       "& \\multicolumn{3}{c}{\\textit{Model name:}} \\\n",
       "\\cr \\cline{3-4}\n",
       "\\\\[-1.8ex] & \\multicolumn{3}{c}{Test model name} \\\\\\hline \\\\[-1.8ex]\n",
       " ABP & 397.58$^{***}$ & 397.58$^{***}$ & 416.67$^{***}$ \\\\\n",
       "  & (258.29 , 536.87) & (258.29 , 536.87) & (280.09 , 553.26) \\\\\n",
       "  & & & \\\\\n",
       " Age & 24.7$^{}$ & 24.7$^{}$ & 37.24$^{}$ \\\\\n",
       "  & (-103.86 , 153.26) & (-103.86 , 153.26) & (-88.78 , 163.26) \\\\\n",
       "  & & & \\\\\n",
       " BMI & 789.74$^{***}$ & 789.74$^{***}$ & 787.18$^{***}$ \\\\\n",
       "  & (658.28 , 921.2) & (658.28 , 921.2) & (658.59 , 915.76) \\\\\n",
       "  & & & \\\\\n",
       " S1 & 197.85$^{}$ & 197.85$^{}$ & \\\\\n",
       "  & (-84.8 , 480.51) & (-84.8 , 480.51) & \\\\\n",
       "  & & & \\\\\n",
       " S2 & -169.25$^{}$ & -169.25$^{}$ & \\\\\n",
       "  & (-449.8 , 111.3) & (-449.8 , 111.3) & \\\\\n",
       "  & & & \\\\\n",
       " Sex & -82.86$^{}$ & -82.86$^{}$ & -106.58$^{*}$ \\\\\n",
       "  & (-210.32 , 44.6) & (-210.32 , 44.6) & (-228.68 , 15.52) \\\\\n",
       "  & & & \\\\\n",
       " const & 152.13$^{***}$ & 152.13$^{***}$ & 152.13$^{***}$ \\\\\n",
       "  & (146.53 , 157.74) & (146.53 , 157.74) & (146.53 , 157.74) \\\\\n",
       "  & & & \\\\\n",
       "\\hline \\\\[-1.8ex]\n",
       " Observations &   &   & 442.0 \\\\\n",
       " R${2}$ & 0.4 &   & 0.4 \\\\\n",
       " Adjusted R${2}$ & 0.39 &   & 0.39 \\\\\n",
       " Residual Std. Error & 59.98 &   & 59.98(df = 437.0)  \\\\\n",
       " F Statistic & 48.91$^{***}$  &     & 72.91$^{***}$ (df = 4.0; 437.0) \\\\\n",
       "\\hline\n",
       "\\hline \\\\[-1.8ex]\n",
       "\\textit{Note:} & \\multicolumn{3}{r}{$^{*}$p$<$0.1; $^{**}$p$<$0.05; $^{***}$p$<$0.01} \\\\\n",
       "\\end{tabularx}\n",
       "\\end{table}"
      ],
      "text/plain": [
       "<IPython.core.display.Latex object>"
      ]
     },
     "execution_count": 31,
     "metadata": {},
     "output_type": "execute_result"
    }
   ],
   "source": [
    "Latex(stargazer.render_latex())"
   ]
  },
  {
   "cell_type": "code",
   "execution_count": 32,
   "metadata": {},
   "outputs": [],
   "source": [
    "stargazer.covariate_order(['BMI', 'Age', 'S1', 'Sex'])"
   ]
  },
  {
   "cell_type": "code",
   "execution_count": null,
   "metadata": {},
   "outputs": [],
   "source": [
    "HTML(stargazer.render_html())"
   ]
  },
  {
   "cell_type": "code",
   "execution_count": 33,
   "metadata": {},
   "outputs": [
    {
     "data": {
      "text/latex": [
       "\\begin{table}[!htbp] \\centering\n",
       "  \\caption{Diabetes Study}\n",
       "  \\label{}\n",
       "\\begin{tabularx}{\\textwidth}{lXXX}\n",
       "\\\\[-1.8ex]\\hline\n",
       "\\hline \\\\[-1.8ex]\n",
       "& \\multicolumn{3}{c}{\\textit{Model name:}} \\\n",
       "\\cr \\cline{3-4}\n",
       "\\\\[-1.8ex] & \\multicolumn{3}{c}{Test model name} \\\\\\hline \\\\[-1.8ex]\n",
       " BMI & 789.74$^{***}$ & 789.74$^{***}$ & 787.18$^{***}$ \\\\\n",
       "  & (658.28 , 921.2) & (658.28 , 921.2) & (658.59 , 915.76) \\\\\n",
       "  & & & \\\\\n",
       " Age & 24.7$^{}$ & 24.7$^{}$ & 37.24$^{}$ \\\\\n",
       "  & (-103.86 , 153.26) & (-103.86 , 153.26) & (-88.78 , 163.26) \\\\\n",
       "  & & & \\\\\n",
       " S1 & 197.85$^{}$ & 197.85$^{}$ & \\\\\n",
       "  & (-84.8 , 480.51) & (-84.8 , 480.51) & \\\\\n",
       "  & & & \\\\\n",
       " Sex & -82.86$^{}$ & -82.86$^{}$ & -106.58$^{*}$ \\\\\n",
       "  & (-210.32 , 44.6) & (-210.32 , 44.6) & (-228.68 , 15.52) \\\\\n",
       "  & & & \\\\\n",
       "\\hline \\\\[-1.8ex]\n",
       " Observations &   &   & 442.0 \\\\\n",
       " R${2}$ & 0.4 &   & 0.4 \\\\\n",
       " Adjusted R${2}$ & 0.39 &   & 0.39 \\\\\n",
       " Residual Std. Error & 59.98 &   & 59.98(df = 437.0)  \\\\\n",
       " F Statistic & 48.91$^{***}$  &     & 72.91$^{***}$ (df = 4.0; 437.0) \\\\\n",
       "\\hline\n",
       "\\hline \\\\[-1.8ex]\n",
       "\\textit{Note:} & \\multicolumn{3}{r}{$^{*}$p$<$0.1; $^{**}$p$<$0.05; $^{***}$p$<$0.01} \\\\\n",
       "\\end{tabularx}\n",
       "\\end{table}"
      ],
      "text/plain": [
       "<IPython.core.display.Latex object>"
      ]
     },
     "execution_count": 33,
     "metadata": {},
     "output_type": "execute_result"
    }
   ],
   "source": [
    "Latex(stargazer.render_latex())"
   ]
  },
  {
   "cell_type": "code",
   "execution_count": 34,
   "metadata": {},
   "outputs": [],
   "source": [
    "stargazer.rename_covariates({'Age': 'Oldness'})"
   ]
  },
  {
   "cell_type": "code",
   "execution_count": null,
   "metadata": {},
   "outputs": [],
   "source": [
    "HTML(stargazer.render_html())"
   ]
  },
  {
   "cell_type": "code",
   "execution_count": 35,
   "metadata": {},
   "outputs": [
    {
     "data": {
      "text/latex": [
       "\\begin{table}[!htbp] \\centering\n",
       "  \\caption{Diabetes Study}\n",
       "  \\label{}\n",
       "\\begin{tabularx}{\\textwidth}{lXXX}\n",
       "\\\\[-1.8ex]\\hline\n",
       "\\hline \\\\[-1.8ex]\n",
       "& \\multicolumn{3}{c}{\\textit{Model name:}} \\\n",
       "\\cr \\cline{3-4}\n",
       "\\\\[-1.8ex] & \\multicolumn{3}{c}{Test model name} \\\\\\hline \\\\[-1.8ex]\n",
       " BMI & 789.74$^{***}$ & 789.74$^{***}$ & 787.18$^{***}$ \\\\\n",
       "  & (658.28 , 921.2) & (658.28 , 921.2) & (658.59 , 915.76) \\\\\n",
       "  & & & \\\\\n",
       " Oldness & 24.7$^{}$ & 24.7$^{}$ & 37.24$^{}$ \\\\\n",
       "  & (-103.86 , 153.26) & (-103.86 , 153.26) & (-88.78 , 163.26) \\\\\n",
       "  & & & \\\\\n",
       " S1 & 197.85$^{}$ & 197.85$^{}$ & \\\\\n",
       "  & (-84.8 , 480.51) & (-84.8 , 480.51) & \\\\\n",
       "  & & & \\\\\n",
       " Sex & -82.86$^{}$ & -82.86$^{}$ & -106.58$^{*}$ \\\\\n",
       "  & (-210.32 , 44.6) & (-210.32 , 44.6) & (-228.68 , 15.52) \\\\\n",
       "  & & & \\\\\n",
       "\\hline \\\\[-1.8ex]\n",
       " Observations &   &   & 442.0 \\\\\n",
       " R${2}$ & 0.4 &   & 0.4 \\\\\n",
       " Adjusted R${2}$ & 0.39 &   & 0.39 \\\\\n",
       " Residual Std. Error & 59.98 &   & 59.98(df = 437.0)  \\\\\n",
       " F Statistic & 48.91$^{***}$  &     & 72.91$^{***}$ (df = 4.0; 437.0) \\\\\n",
       "\\hline\n",
       "\\hline \\\\[-1.8ex]\n",
       "\\textit{Note:} & \\multicolumn{3}{r}{$^{*}$p$<$0.1; $^{**}$p$<$0.05; $^{***}$p$<$0.01} \\\\\n",
       "\\end{tabularx}\n",
       "\\end{table}"
      ],
      "text/plain": [
       "<IPython.core.display.Latex object>"
      ]
     },
     "execution_count": 35,
     "metadata": {},
     "output_type": "execute_result"
    }
   ],
   "source": [
    "Latex(stargazer.render_latex())"
   ]
  },
  {
   "cell_type": "code",
   "execution_count": 36,
   "metadata": {},
   "outputs": [],
   "source": [
    "stargazer.show_degrees_of_freedom(False)"
   ]
  },
  {
   "cell_type": "code",
   "execution_count": null,
   "metadata": {},
   "outputs": [],
   "source": [
    "HTML(stargazer.render_html())"
   ]
  },
  {
   "cell_type": "code",
   "execution_count": 37,
   "metadata": {},
   "outputs": [
    {
     "data": {
      "text/latex": [
       "\\begin{table}[!htbp] \\centering\n",
       "  \\caption{Diabetes Study}\n",
       "  \\label{}\n",
       "\\begin{tabularx}{\\textwidth}{lXXX}\n",
       "\\\\[-1.8ex]\\hline\n",
       "\\hline \\\\[-1.8ex]\n",
       "& \\multicolumn{3}{c}{\\textit{Model name:}} \\\n",
       "\\cr \\cline{3-4}\n",
       "\\\\[-1.8ex] & \\multicolumn{3}{c}{Test model name} \\\\\\hline \\\\[-1.8ex]\n",
       " BMI & 789.74$^{***}$ & 789.74$^{***}$ & 787.18$^{***}$ \\\\\n",
       "  & (658.28 , 921.2) & (658.28 , 921.2) & (658.59 , 915.76) \\\\\n",
       "  & & & \\\\\n",
       " Oldness & 24.7$^{}$ & 24.7$^{}$ & 37.24$^{}$ \\\\\n",
       "  & (-103.86 , 153.26) & (-103.86 , 153.26) & (-88.78 , 163.26) \\\\\n",
       "  & & & \\\\\n",
       " S1 & 197.85$^{}$ & 197.85$^{}$ & \\\\\n",
       "  & (-84.8 , 480.51) & (-84.8 , 480.51) & \\\\\n",
       "  & & & \\\\\n",
       " Sex & -82.86$^{}$ & -82.86$^{}$ & -106.58$^{*}$ \\\\\n",
       "  & (-210.32 , 44.6) & (-210.32 , 44.6) & (-228.68 , 15.52) \\\\\n",
       "  & & & \\\\\n",
       "\\hline \\\\[-1.8ex]\n",
       " Observations &   &   & 442.0 \\\\\n",
       " R${2}$ & 0.4 &   & 0.4 \\\\\n",
       " Adjusted R${2}$ & 0.39 &   & 0.39 \\\\\n",
       " Residual Std. Error & 59.98 &   & 59.98  \\\\\n",
       " F Statistic & 48.91$^{***}$  &     & 72.91$^{***}$  \\\\\n",
       "\\hline\n",
       "\\hline \\\\[-1.8ex]\n",
       "\\textit{Note:} & \\multicolumn{3}{r}{$^{*}$p$<$0.1; $^{**}$p$<$0.05; $^{***}$p$<$0.01} \\\\\n",
       "\\end{tabularx}\n",
       "\\end{table}"
      ],
      "text/plain": [
       "<IPython.core.display.Latex object>"
      ]
     },
     "execution_count": 37,
     "metadata": {},
     "output_type": "execute_result"
    }
   ],
   "source": [
    "Latex(stargazer.render_latex())"
   ]
  },
  {
   "cell_type": "code",
   "execution_count": 38,
   "metadata": {},
   "outputs": [],
   "source": [
    "stargazer.add_custom_notes(['First note', 'Second note'])"
   ]
  },
  {
   "cell_type": "code",
   "execution_count": null,
   "metadata": {},
   "outputs": [],
   "source": [
    "HTML(stargazer.render_html())"
   ]
  },
  {
   "cell_type": "code",
   "execution_count": 39,
   "metadata": {},
   "outputs": [
    {
     "data": {
      "text/latex": [
       "\\begin{table}[!htbp] \\centering\n",
       "  \\caption{Diabetes Study}\n",
       "  \\label{}\n",
       "\\begin{tabularx}{\\textwidth}{lXXX}\n",
       "\\\\[-1.8ex]\\hline\n",
       "\\hline \\\\[-1.8ex]\n",
       "& \\multicolumn{3}{c}{\\textit{Model name:}} \\\n",
       "\\cr \\cline{3-4}\n",
       "\\\\[-1.8ex] & \\multicolumn{3}{c}{Test model name} \\\\\\hline \\\\[-1.8ex]\n",
       " BMI & 789.74$^{***}$ & 789.74$^{***}$ & 787.18$^{***}$ \\\\\n",
       "  & (658.28 , 921.2) & (658.28 , 921.2) & (658.59 , 915.76) \\\\\n",
       "  & & & \\\\\n",
       " Oldness & 24.7$^{}$ & 24.7$^{}$ & 37.24$^{}$ \\\\\n",
       "  & (-103.86 , 153.26) & (-103.86 , 153.26) & (-88.78 , 163.26) \\\\\n",
       "  & & & \\\\\n",
       " S1 & 197.85$^{}$ & 197.85$^{}$ & \\\\\n",
       "  & (-84.8 , 480.51) & (-84.8 , 480.51) & \\\\\n",
       "  & & & \\\\\n",
       " Sex & -82.86$^{}$ & -82.86$^{}$ & -106.58$^{*}$ \\\\\n",
       "  & (-210.32 , 44.6) & (-210.32 , 44.6) & (-228.68 , 15.52) \\\\\n",
       "  & & & \\\\\n",
       "\\hline \\\\[-1.8ex]\n",
       " Observations &   &   & 442.0 \\\\\n",
       " R${2}$ & 0.4 &   & 0.4 \\\\\n",
       " Adjusted R${2}$ & 0.39 &   & 0.39 \\\\\n",
       " Residual Std. Error & 59.98 &   & 59.98  \\\\\n",
       " F Statistic & 48.91$^{***}$  &     & 72.91$^{***}$  \\\\\n",
       "\\hline\n",
       "\\hline \\\\[-1.8ex]\n",
       "\\textit{Note:} & \\multicolumn{3}{r}{$^{*}$p$<$0.1; $^{**}$p$<$0.05; $^{***}$p$<$0.01} \\\\\n",
       " & \\multicolumn{3}{r}\\textit{First note} \\\\\n",
       " & \\multicolumn{3}{r}\\textit{Second note} \\\\\n",
       "\\end{tabularx}\n",
       "\\end{table}"
      ],
      "text/plain": [
       "<IPython.core.display.Latex object>"
      ]
     },
     "execution_count": 39,
     "metadata": {},
     "output_type": "execute_result"
    }
   ],
   "source": [
    "Latex(stargazer.render_latex())"
   ]
  },
  {
   "cell_type": "code",
   "execution_count": 40,
   "metadata": {},
   "outputs": [],
   "source": [
    "stargazer.significance_levels([0.1, 0.05, 0.07])"
   ]
  },
  {
   "cell_type": "code",
   "execution_count": null,
   "metadata": {},
   "outputs": [],
   "source": [
    "HTML(stargazer.render_html())"
   ]
  },
  {
   "cell_type": "code",
   "execution_count": 41,
   "metadata": {},
   "outputs": [
    {
     "data": {
      "text/latex": [
       "\\begin{table}[!htbp] \\centering\n",
       "  \\caption{Diabetes Study}\n",
       "  \\label{}\n",
       "\\begin{tabularx}{\\textwidth}{lXXX}\n",
       "\\\\[-1.8ex]\\hline\n",
       "\\hline \\\\[-1.8ex]\n",
       "& \\multicolumn{3}{c}{\\textit{Model name:}} \\\n",
       "\\cr \\cline{3-4}\n",
       "\\\\[-1.8ex] & \\multicolumn{3}{c}{Test model name} \\\\\\hline \\\\[-1.8ex]\n",
       " BMI & 789.74$^{***}$ & 789.74$^{***}$ & 787.18$^{***}$ \\\\\n",
       "  & (658.28 , 921.2) & (658.28 , 921.2) & (658.59 , 915.76) \\\\\n",
       "  & & & \\\\\n",
       " Oldness & 24.7$^{}$ & 24.7$^{}$ & 37.24$^{}$ \\\\\n",
       "  & (-103.86 , 153.26) & (-103.86 , 153.26) & (-88.78 , 163.26) \\\\\n",
       "  & & & \\\\\n",
       " S1 & 197.85$^{}$ & 197.85$^{}$ & \\\\\n",
       "  & (-84.8 , 480.51) & (-84.8 , 480.51) & \\\\\n",
       "  & & & \\\\\n",
       " Sex & -82.86$^{}$ & -82.86$^{}$ & -106.58$^{*}$ \\\\\n",
       "  & (-210.32 , 44.6) & (-210.32 , 44.6) & (-228.68 , 15.52) \\\\\n",
       "  & & & \\\\\n",
       "\\hline \\\\[-1.8ex]\n",
       " Observations &   &   & 442.0 \\\\\n",
       " R${2}$ & 0.4 &   & 0.4 \\\\\n",
       " Adjusted R${2}$ & 0.39 &   & 0.39 \\\\\n",
       " Residual Std. Error & 59.98 &   & 59.98  \\\\\n",
       " F Statistic & 48.91$^{***}$  &     & 72.91$^{***}$  \\\\\n",
       "\\hline\n",
       "\\hline \\\\[-1.8ex]\n",
       "\\textit{Note:} & \\multicolumn{3}{r}{$^{*}$p$<$0.1; $^{**}$p$<$0.07; $^{***}$p$<$0.05} \\\\\n",
       " & \\multicolumn{3}{r}\\textit{First note} \\\\\n",
       " & \\multicolumn{3}{r}\\textit{Second note} \\\\\n",
       "\\end{tabularx}\n",
       "\\end{table}"
      ],
      "text/plain": [
       "<IPython.core.display.Latex object>"
      ]
     },
     "execution_count": 41,
     "metadata": {},
     "output_type": "execute_result"
    }
   ],
   "source": [
    "Latex(stargazer.render_latex())"
   ]
  },
  {
   "cell_type": "code",
   "execution_count": 42,
   "metadata": {},
   "outputs": [],
   "source": [
    "stargazer.append_notes(False)"
   ]
  },
  {
   "cell_type": "code",
   "execution_count": null,
   "metadata": {},
   "outputs": [],
   "source": [
    "HTML(stargazer.render_html())"
   ]
  },
  {
   "cell_type": "code",
   "execution_count": 43,
   "metadata": {},
   "outputs": [
    {
     "data": {
      "text/latex": [
       "\\begin{table}[!htbp] \\centering\n",
       "  \\caption{Diabetes Study}\n",
       "  \\label{}\n",
       "\\begin{tabularx}{\\textwidth}{lXXX}\n",
       "\\\\[-1.8ex]\\hline\n",
       "\\hline \\\\[-1.8ex]\n",
       "& \\multicolumn{3}{c}{\\textit{Model name:}} \\\n",
       "\\cr \\cline{3-4}\n",
       "\\\\[-1.8ex] & \\multicolumn{3}{c}{Test model name} \\\\\\hline \\\\[-1.8ex]\n",
       " BMI & 789.74$^{***}$ & 789.74$^{***}$ & 787.18$^{***}$ \\\\\n",
       "  & (658.28 , 921.2) & (658.28 , 921.2) & (658.59 , 915.76) \\\\\n",
       "  & & & \\\\\n",
       " Oldness & 24.7$^{}$ & 24.7$^{}$ & 37.24$^{}$ \\\\\n",
       "  & (-103.86 , 153.26) & (-103.86 , 153.26) & (-88.78 , 163.26) \\\\\n",
       "  & & & \\\\\n",
       " S1 & 197.85$^{}$ & 197.85$^{}$ & \\\\\n",
       "  & (-84.8 , 480.51) & (-84.8 , 480.51) & \\\\\n",
       "  & & & \\\\\n",
       " Sex & -82.86$^{}$ & -82.86$^{}$ & -106.58$^{*}$ \\\\\n",
       "  & (-210.32 , 44.6) & (-210.32 , 44.6) & (-228.68 , 15.52) \\\\\n",
       "  & & & \\\\\n",
       "\\hline \\\\[-1.8ex]\n",
       " Observations &   &   & 442.0 \\\\\n",
       " R${2}$ & 0.4 &   & 0.4 \\\\\n",
       " Adjusted R${2}$ & 0.39 &   & 0.39 \\\\\n",
       " Residual Std. Error & 59.98 &   & 59.98  \\\\\n",
       " F Statistic & 48.91$^{***}$  &     & 72.91$^{***}$  \\\\\n",
       "\\hline\n",
       "\\hline \\\\[-1.8ex]\n",
       "\\textit{Note:} & \\multicolumn{3}{r}\\textit{First note} \\\\\n",
       " & \\multicolumn{3}{r}\\textit{Second note} \\\\\n",
       "\\end{tabularx}\n",
       "\\end{table}"
      ],
      "text/plain": [
       "<IPython.core.display.Latex object>"
      ]
     },
     "execution_count": 43,
     "metadata": {},
     "output_type": "execute_result"
    }
   ],
   "source": [
    "Latex(stargazer.render_latex())"
   ]
  },
  {
   "cell_type": "code",
   "execution_count": null,
   "metadata": {},
   "outputs": [],
   "source": [
    "stargazer.original_param_names"
   ]
  },
  {
   "cell_type": "code",
   "execution_count": null,
   "metadata": {},
   "outputs": [],
   "source": [
    "stargazer.param_map"
   ]
  },
  {
   "cell_type": "code",
   "execution_count": null,
   "metadata": {},
   "outputs": [],
   "source": []
  }
 ],
 "metadata": {
  "@webio": {
   "lastCommId": null,
   "lastKernelId": null
  },
  "kernelspec": {
   "display_name": "Python 3",
   "language": "python",
   "name": "python3"
  },
  "language_info": {
   "codemirror_mode": {
    "name": "ipython",
    "version": 3
   },
   "file_extension": ".py",
   "mimetype": "text/x-python",
   "name": "python",
   "nbconvert_exporter": "python",
   "pygments_lexer": "ipython3",
   "version": "3.7.3"
  }
 },
 "nbformat": 4,
 "nbformat_minor": 2
}
