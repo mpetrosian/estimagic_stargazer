{
 "cells": [
  {
   "cell_type": "code",
   "execution_count": 51,
   "metadata": {},
   "outputs": [
    {
     "name": "stderr",
     "output_type": "stream",
     "text": [
      "C:\\ProgramData\\Anaconda3\\lib\\site-packages\\numpy\\core\\fromnumeric.py:2223: FutureWarning: Method .ptp is deprecated and will be removed in a future version. Use numpy.ptp instead.\n",
      "  return ptp(axis=axis, out=out, **kwargs)\n"
     ]
    }
   ],
   "source": [
    "import pandas as pd\n",
    "from sklearn import datasets\n",
    "import statsmodels.api as sm\n",
    "from estimagic_stargazer.stargazer import Stargazer \n",
    "from IPython.core.display import HTML, Latex\n",
    "from tabulate import tabulate\n",
    "\n",
    "\n",
    "diabetes = datasets.load_diabetes()\n",
    "df = pd.DataFrame(diabetes.data)\n",
    "df.columns = ['Age', 'Sex', 'BMI', 'ABP', 'S1', 'S2', 'S3', 'S4', 'S5', 'S6']\n",
    "df['target'] = diabetes.target\n",
    "\n",
    "est = sm.OLS(endog=df['target'], exog=sm.add_constant(df[df.columns[0:4]])).fit()\n",
    "est2 = sm.OLS(endog=df['target'], exog=sm.add_constant(df[df.columns[0:6]])).fit()\n",
    "\n",
    "stargazer = Stargazer([est, est2])\n"
   ]
  },
  {
   "cell_type": "code",
   "execution_count": 52,
   "metadata": {},
   "outputs": [
    {
     "data": {
      "text/html": [
       "<table style=\"text-align:center\"><tr><td colspan=\"3\" style=\"border-bottom: 1px solid black\"></td></tr><tr><td style=\"text-align:left\"></td><td colspan=\"2\"><em>Dependent variable:</em></td></tr><tr><td style=\"text-align:left\"></td><tr><td style=\"text-align:left\"></td><td>(1)</td><td>(2)</td></tr><tr><td colspan=\"3\" style=\"border-bottom: 1px solid black\"></td></tr><tr><td style=\"text-align:left\">ABP</td><td>416.674<sup>***</sup></td><td>397.583<sup>***</sup></td></tr><tr><td style=\"text-align:left\"></td><td>(69.495)</td><td>(70.87)</td></tr><tr><td style=\"text-align:left\">Age</td><td>37.241<sup></sup></td><td>24.704<sup></sup></td></tr><tr><td style=\"text-align:left\"></td><td>(64.117)</td><td>(65.411)</td></tr><tr><td style=\"text-align:left\">BMI</td><td>787.179<sup>***</sup></td><td>789.742<sup>***</sup></td></tr><tr><td style=\"text-align:left\"></td><td>(65.424)</td><td>(66.887)</td></tr><tr><td style=\"text-align:left\">S1</td><td></td><td>197.852<sup></sup></td></tr><tr><td style=\"text-align:left\"></td><td></td><td>(143.812)</td></tr><tr><td style=\"text-align:left\">S2</td><td></td><td>-169.251<sup></sup></td></tr><tr><td style=\"text-align:left\"></td><td></td><td>(142.744)</td></tr><tr><td style=\"text-align:left\">Sex</td><td>-106.578<sup>*</sup></td><td>-82.862<sup></sup></td></tr><tr><td style=\"text-align:left\"></td><td>(62.125)</td><td>(64.851)</td></tr><tr><td style=\"text-align:left\">const</td><td>152.133<sup>***</sup></td><td>152.133<sup>***</sup></td></tr><tr><td style=\"text-align:left\"></td><td>(2.853)</td><td>(2.853)</td></tr><td colspan=\"3\" style=\"border-bottom: 1px solid black\"></td></tr><tr><td style=\"text-align: left\">Observations</td><td>442.0</td><td>442.0</td></tr><tr><td style=\"text-align: left\">R<sup>2</sup></td><td>0.4</td><td>0.403</td></tr><tr><td style=\"text-align: left\">Adjusted R<sup>2</sup></td><td>0.395</td><td>0.395</td></tr><tr><td style=\"text-align: left\">Residual Std. Error</td><td>59.976(df = 437.0)</td><td>59.982(df = 435.0)</td></tr><tr><td style=\"text-align: left\">F Statistic</td><td>72.913<sup>***</sup>(df = 4.0; 437.0)</td><td>48.915<sup>***</sup>(df = 6.0; 435.0)</td></tr><tr><td colspan=\"3\" style=\"border-bottom: 1px solid black\"></td></tr><tr><td style=\"text-align: left\">Note:</td>\n",
       " <td colspan=\"2\" style=\"text-align: right\">\n",
       "  <sup>*</sup>p&lt;0.1;\n",
       "  <sup>**</sup>p&lt;0.05;\n",
       "  <sup>***</sup>p&lt;0.01\n",
       " </td></tr></table>"
      ],
      "text/plain": [
       "<IPython.core.display.HTML object>"
      ]
     },
     "execution_count": 52,
     "metadata": {},
     "output_type": "execute_result"
    }
   ],
   "source": [
    "HTML(stargazer.render_html())\n"
   ]
  },
  {
   "cell_type": "code",
   "execution_count": 9,
   "metadata": {},
   "outputs": [
    {
     "data": {
      "text/latex": [
       "\\begin{table}[!htbp] \\centering\n",
       "  \\label{}\n",
       "\\begin{tabular}{@{\\extracolsep{5pt}}lcc}\n",
       "\\\\[-1.8ex]\\hline\n",
       "\\hline \\\\[-1.8ex]\n",
       "& \\multicolumn{2}{c}{\\textit{Dependent variable:}} \\\n",
       "\\cr \\cline{2-3}\n",
       "\\\\[-1.8ex] & (1) & (2) \\\\\n",
       "\\hline \\\\[-1.8ex]\n",
       " ABP & 416.674$^{***}$ & 397.583$^{***}$ \\\\\n",
       "  & (69.495) & (70.87) \\\\\n",
       "  & & \\\\\n",
       " Age & 37.241$^{}$ & 24.704$^{}$ \\\\\n",
       "  & (64.117) & (65.411) \\\\\n",
       "  & & \\\\\n",
       " BMI & 787.179$^{***}$ & 789.742$^{***}$ \\\\\n",
       "  & (65.424) & (66.887) \\\\\n",
       "  & & \\\\\n",
       " S1 & & 197.852$^{}$ \\\\\n",
       "  & & (143.812) \\\\\n",
       "  & & \\\\\n",
       " S2 & & -169.251$^{}$ \\\\\n",
       "  & & (142.744) \\\\\n",
       "  & & \\\\\n",
       " Sex & -106.578$^{*}$ & -82.862$^{}$ \\\\\n",
       "  & (62.125) & (64.851) \\\\\n",
       "  & & \\\\\n",
       " const & 152.133$^{***}$ & 152.133$^{***}$ \\\\\n",
       "  & (2.853) & (2.853) \\\\\n",
       "  & & \\\\\n",
       "\\hline \\\\[-1.8ex]\n",
       " Observations & 442.0 & 442.0 \\\\\n",
       " R${2}$ & 0.4 & 0.403 \\\\\n",
       " Adjusted R${2}$ & 0.395 & 0.395 \\\\\n",
       " Residual Std. Error & 59.976(df = 437.0) & 59.982(df = 435.0)  \\\\\n",
       " F Statistic & 72.913$^{***}$ (df = 4.0; 437.0) & 48.915$^{***}$ (df = 6.0; 435.0) \\\\\n",
       "\\hline\n",
       "\\hline \\\\[-1.8ex]\n",
       "\\textit{Note:} & \\multicolumn{2}{r}{$^{*}$p$<$0.1; $^{**}$p$<$0.05; $^{***}$p$<$0.01} \\\\\n",
       "\\end{tabular}\n",
       "\\end{table}"
      ],
      "text/plain": [
       "<IPython.core.display.Latex object>"
      ]
     },
     "execution_count": 9,
     "metadata": {},
     "output_type": "execute_result"
    }
   ],
   "source": [
    "Latex(stargazer.render_latex())"
   ]
  },
  {
   "cell_type": "code",
   "execution_count": 10,
   "metadata": {},
   "outputs": [],
   "source": [
    "stargazer.title('Diabetes Study')"
   ]
  },
  {
   "cell_type": "code",
   "execution_count": 11,
   "metadata": {},
   "outputs": [
    {
     "data": {
      "text/html": [
       "Diabetes Study<br><table style=\"text-align:center\"><tr><td colspan=\"3\" style=\"border-bottom: 1px solid black\"></td></tr><tr><td style=\"text-align:left\"></td><td colspan=\"2\"><em>Dependent variable:</em></td></tr><tr><td style=\"text-align:left\"></td><tr><td style=\"text-align:left\"></td><td>(1)</td><td>(2)</td></tr><tr><td colspan=\"3\" style=\"border-bottom: 1px solid black\"></td></tr><tr><td style=\"text-align:left\">ABP</td><td>416.674<sup>***</sup></td><td>397.583<sup>***</sup></td></tr><tr><td style=\"text-align:left\"></td><td>(69.495)</td><td>(70.87)</td></tr><tr><td style=\"text-align:left\">Age</td><td>37.241<sup></sup></td><td>24.704<sup></sup></td></tr><tr><td style=\"text-align:left\"></td><td>(64.117)</td><td>(65.411)</td></tr><tr><td style=\"text-align:left\">BMI</td><td>787.179<sup>***</sup></td><td>789.742<sup>***</sup></td></tr><tr><td style=\"text-align:left\"></td><td>(65.424)</td><td>(66.887)</td></tr><tr><td style=\"text-align:left\">S1</td><td></td><td>197.852<sup></sup></td></tr><tr><td style=\"text-align:left\"></td><td></td><td>(143.812)</td></tr><tr><td style=\"text-align:left\">S2</td><td></td><td>-169.251<sup></sup></td></tr><tr><td style=\"text-align:left\"></td><td></td><td>(142.744)</td></tr><tr><td style=\"text-align:left\">Sex</td><td>-106.578<sup>*</sup></td><td>-82.862<sup></sup></td></tr><tr><td style=\"text-align:left\"></td><td>(62.125)</td><td>(64.851)</td></tr><tr><td style=\"text-align:left\">const</td><td>152.133<sup>***</sup></td><td>152.133<sup>***</sup></td></tr><tr><td style=\"text-align:left\"></td><td>(2.853)</td><td>(2.853)</td></tr><td colspan=\"3\" style=\"border-bottom: 1px solid black\"></td></tr><tr><td style=\"text-align: left\">Observations</td><td>442.0</td><td>442.0</td></tr><tr><td style=\"text-align: left\">R<sup>2</sup></td><td>0.4</td><td>0.403</td></tr><tr><td style=\"text-align: left\">Adjusted R<sup>2</sup></td><td>0.395</td><td>0.395</td></tr><tr><td style=\"text-align: left\">Residual Std. Error</td><td>59.976(df = 437.0)</td><td>59.982(df = 435.0)</td></tr><tr><td style=\"text-align: left\">F Statistic</td><td>72.913<sup>***</sup>(df = 4.0; 437.0)</td><td>48.915<sup>***</sup>(df = 6.0; 435.0)</td></tr><tr><td colspan=\"3\" style=\"border-bottom: 1px solid black\"></td></tr><tr><td style=\"text-align: left\">Note:</td>\n",
       " <td colspan=\"2\" style=\"text-align: right\">\n",
       "  <sup>*</sup>p&lt;0.1;\n",
       "  <sup>**</sup>p&lt;0.05;\n",
       "  <sup>***</sup>p&lt;0.01\n",
       " </td></tr></table>"
      ],
      "text/plain": [
       "<IPython.core.display.HTML object>"
      ]
     },
     "execution_count": 11,
     "metadata": {},
     "output_type": "execute_result"
    }
   ],
   "source": [
    "HTML(stargazer.render_html())\n"
   ]
  },
  {
   "cell_type": "code",
   "execution_count": 13,
   "metadata": {},
   "outputs": [
    {
     "data": {
      "text/plain": [
       "IPython.core.display.Latex"
      ]
     },
     "execution_count": 13,
     "metadata": {},
     "output_type": "execute_result"
    }
   ],
   "source": [
    "type(Latex(stargazer.render_latex()))"
   ]
  },
  {
   "cell_type": "code",
   "execution_count": 12,
   "metadata": {},
   "outputs": [
    {
     "data": {
      "text/latex": [
       "\\begin{table}[!htbp] \\centering\n",
       "  \\caption{Diabetes Study}\n",
       "  \\label{}\n",
       "\\begin{tabular}{@{\\extracolsep{5pt}}lcc}\n",
       "\\\\[-1.8ex]\\hline\n",
       "\\hline \\\\[-1.8ex]\n",
       "& \\multicolumn{2}{c}{\\textit{Dependent variable:}} \\\n",
       "\\cr \\cline{2-3}\n",
       "\\\\[-1.8ex] & (1) & (2) \\\\\n",
       "\\hline \\\\[-1.8ex]\n",
       " ABP & 416.674$^{***}$ & 397.583$^{***}$ \\\\\n",
       "  & (69.495) & (70.87) \\\\\n",
       "  & & \\\\\n",
       " Age & 37.241$^{}$ & 24.704$^{}$ \\\\\n",
       "  & (64.117) & (65.411) \\\\\n",
       "  & & \\\\\n",
       " BMI & 787.179$^{***}$ & 789.742$^{***}$ \\\\\n",
       "  & (65.424) & (66.887) \\\\\n",
       "  & & \\\\\n",
       " S1 & & 197.852$^{}$ \\\\\n",
       "  & & (143.812) \\\\\n",
       "  & & \\\\\n",
       " S2 & & -169.251$^{}$ \\\\\n",
       "  & & (142.744) \\\\\n",
       "  & & \\\\\n",
       " Sex & -106.578$^{*}$ & -82.862$^{}$ \\\\\n",
       "  & (62.125) & (64.851) \\\\\n",
       "  & & \\\\\n",
       " const & 152.133$^{***}$ & 152.133$^{***}$ \\\\\n",
       "  & (2.853) & (2.853) \\\\\n",
       "  & & \\\\\n",
       "\\hline \\\\[-1.8ex]\n",
       " Observations & 442.0 & 442.0 \\\\\n",
       " R${2}$ & 0.4 & 0.403 \\\\\n",
       " Adjusted R${2}$ & 0.395 & 0.395 \\\\\n",
       " Residual Std. Error & 59.976(df = 437.0) & 59.982(df = 435.0)  \\\\\n",
       " F Statistic & 72.913$^{***}$ (df = 4.0; 437.0) & 48.915$^{***}$ (df = 6.0; 435.0) \\\\\n",
       "\\hline\n",
       "\\hline \\\\[-1.8ex]\n",
       "\\textit{Note:} & \\multicolumn{2}{r}{$^{*}$p$<$0.1; $^{**}$p$<$0.05; $^{***}$p$<$0.01} \\\\\n",
       "\\end{tabular}\n",
       "\\end{table}"
      ],
      "text/plain": [
       "<IPython.core.display.Latex object>"
      ]
     },
     "execution_count": 12,
     "metadata": {},
     "output_type": "execute_result"
    }
   ],
   "source": [
    "Latex(stargazer.render_latex())\n"
   ]
  },
  {
   "cell_type": "code",
   "execution_count": 9,
   "metadata": {},
   "outputs": [],
   "source": [
    "stargazer.custom_columns(['Model 1','Model 2'],[1,1])"
   ]
  },
  {
   "cell_type": "code",
   "execution_count": 14,
   "metadata": {},
   "outputs": [
    {
     "data": {
      "text/html": [
       "Diabetes Study<br><table style=\"text-align:center\"><tr><td colspan=\"3\" style=\"border-bottom: 1px solid black\"></td></tr><tr><td style=\"text-align:left\"></td><td colspan=\"2\"><em>Dependent variable:</em></td></tr><tr><td style=\"text-align:left\"></td><tr><td style=\"text-align:left\"></td><td>(1)</td><td>(2)</td></tr><tr><td colspan=\"3\" style=\"border-bottom: 1px solid black\"></td></tr><tr><td style=\"text-align:left\">ABP</td><td>416.674<sup>***</sup></td><td>397.583<sup>***</sup></td></tr><tr><td style=\"text-align:left\"></td><td>(69.495)</td><td>(70.87)</td></tr><tr><td style=\"text-align:left\">Age</td><td>37.241<sup></sup></td><td>24.704<sup></sup></td></tr><tr><td style=\"text-align:left\"></td><td>(64.117)</td><td>(65.411)</td></tr><tr><td style=\"text-align:left\">BMI</td><td>787.179<sup>***</sup></td><td>789.742<sup>***</sup></td></tr><tr><td style=\"text-align:left\"></td><td>(65.424)</td><td>(66.887)</td></tr><tr><td style=\"text-align:left\">S1</td><td></td><td>197.852<sup></sup></td></tr><tr><td style=\"text-align:left\"></td><td></td><td>(143.812)</td></tr><tr><td style=\"text-align:left\">S2</td><td></td><td>-169.251<sup></sup></td></tr><tr><td style=\"text-align:left\"></td><td></td><td>(142.744)</td></tr><tr><td style=\"text-align:left\">Sex</td><td>-106.578<sup>*</sup></td><td>-82.862<sup></sup></td></tr><tr><td style=\"text-align:left\"></td><td>(62.125)</td><td>(64.851)</td></tr><tr><td style=\"text-align:left\">const</td><td>152.133<sup>***</sup></td><td>152.133<sup>***</sup></td></tr><tr><td style=\"text-align:left\"></td><td>(2.853)</td><td>(2.853)</td></tr><td colspan=\"3\" style=\"border-bottom: 1px solid black\"></td></tr><tr><td style=\"text-align: left\">Observations</td><td>442.0</td><td>442.0</td></tr><tr><td style=\"text-align: left\">R<sup>2</sup></td><td>0.4</td><td>0.403</td></tr><tr><td style=\"text-align: left\">Adjusted R<sup>2</sup></td><td>0.395</td><td>0.395</td></tr><tr><td style=\"text-align: left\">Residual Std. Error</td><td>59.976(df = 437.0)</td><td>59.982(df = 435.0)</td></tr><tr><td style=\"text-align: left\">F Statistic</td><td>72.913<sup>***</sup>(df = 4.0; 437.0)</td><td>48.915<sup>***</sup>(df = 6.0; 435.0)</td></tr><tr><td colspan=\"3\" style=\"border-bottom: 1px solid black\"></td></tr><tr><td style=\"text-align: left\">Note:</td>\n",
       " <td colspan=\"2\" style=\"text-align: right\">\n",
       "  <sup>*</sup>p&lt;0.1;\n",
       "  <sup>**</sup>p&lt;0.05;\n",
       "  <sup>***</sup>p&lt;0.01\n",
       " </td></tr></table>"
      ],
      "text/plain": [
       "<IPython.core.display.HTML object>"
      ]
     },
     "execution_count": 14,
     "metadata": {},
     "output_type": "execute_result"
    }
   ],
   "source": [
    "HTML(stargazer.render_html())"
   ]
  },
  {
   "cell_type": "code",
   "execution_count": 15,
   "metadata": {},
   "outputs": [
    {
     "data": {
      "text/latex": [
       "\\begin{table}[!htbp] \\centering\n",
       "  \\caption{Diabetes Study}\n",
       "  \\label{}\n",
       "\\begin{tabular}{@{\\extracolsep{5pt}}lcc}\n",
       "\\\\[-1.8ex]\\hline\n",
       "\\hline \\\\[-1.8ex]\n",
       "& \\multicolumn{2}{c}{\\textit{Dependent variable:}} \\\n",
       "\\cr \\cline{2-3}\n",
       "\\\\[-1.8ex] & (1) & (2) \\\\\n",
       "\\hline \\\\[-1.8ex]\n",
       " ABP & 416.674$^{***}$ & 397.583$^{***}$ \\\\\n",
       "  & (69.495) & (70.87) \\\\\n",
       "  & & \\\\\n",
       " Age & 37.241$^{}$ & 24.704$^{}$ \\\\\n",
       "  & (64.117) & (65.411) \\\\\n",
       "  & & \\\\\n",
       " BMI & 787.179$^{***}$ & 789.742$^{***}$ \\\\\n",
       "  & (65.424) & (66.887) \\\\\n",
       "  & & \\\\\n",
       " S1 & & 197.852$^{}$ \\\\\n",
       "  & & (143.812) \\\\\n",
       "  & & \\\\\n",
       " S2 & & -169.251$^{}$ \\\\\n",
       "  & & (142.744) \\\\\n",
       "  & & \\\\\n",
       " Sex & -106.578$^{*}$ & -82.862$^{}$ \\\\\n",
       "  & (62.125) & (64.851) \\\\\n",
       "  & & \\\\\n",
       " const & 152.133$^{***}$ & 152.133$^{***}$ \\\\\n",
       "  & (2.853) & (2.853) \\\\\n",
       "  & & \\\\\n",
       "\\hline \\\\[-1.8ex]\n",
       " Observations & 442.0 & 442.0 \\\\\n",
       " R${2}$ & 0.4 & 0.403 \\\\\n",
       " Adjusted R${2}$ & 0.395 & 0.395 \\\\\n",
       " Residual Std. Error & 59.976(df = 437.0) & 59.982(df = 435.0)  \\\\\n",
       " F Statistic & 72.913$^{***}$ (df = 4.0; 437.0) & 48.915$^{***}$ (df = 6.0; 435.0) \\\\\n",
       "\\hline\n",
       "\\hline \\\\[-1.8ex]\n",
       "\\textit{Note:} & \\multicolumn{2}{r}{$^{*}$p$<$0.1; $^{**}$p$<$0.05; $^{***}$p$<$0.01} \\\\\n",
       "\\end{tabular}\n",
       "\\end{table}"
      ],
      "text/plain": [
       "<IPython.core.display.Latex object>"
      ]
     },
     "execution_count": 15,
     "metadata": {},
     "output_type": "execute_result"
    }
   ],
   "source": [
    "Latex(stargazer.render_latex())"
   ]
  },
  {
   "cell_type": "code",
   "execution_count": null,
   "metadata": {},
   "outputs": [],
   "source": [
    "stargazer.custom_columns('Test model name')"
   ]
  },
  {
   "cell_type": "code",
   "execution_count": 16,
   "metadata": {},
   "outputs": [
    {
     "data": {
      "text/html": [
       "Diabetes Study<br><table style=\"text-align:center\"><tr><td colspan=\"3\" style=\"border-bottom: 1px solid black\"></td></tr><tr><td style=\"text-align:left\"></td><td colspan=\"2\"><em>Dependent variable:</em></td></tr><tr><td style=\"text-align:left\"></td><tr><td style=\"text-align:left\"></td><td>(1)</td><td>(2)</td></tr><tr><td colspan=\"3\" style=\"border-bottom: 1px solid black\"></td></tr><tr><td style=\"text-align:left\">ABP</td><td>416.674<sup>***</sup></td><td>397.583<sup>***</sup></td></tr><tr><td style=\"text-align:left\"></td><td>(69.495)</td><td>(70.87)</td></tr><tr><td style=\"text-align:left\">Age</td><td>37.241<sup></sup></td><td>24.704<sup></sup></td></tr><tr><td style=\"text-align:left\"></td><td>(64.117)</td><td>(65.411)</td></tr><tr><td style=\"text-align:left\">BMI</td><td>787.179<sup>***</sup></td><td>789.742<sup>***</sup></td></tr><tr><td style=\"text-align:left\"></td><td>(65.424)</td><td>(66.887)</td></tr><tr><td style=\"text-align:left\">S1</td><td></td><td>197.852<sup></sup></td></tr><tr><td style=\"text-align:left\"></td><td></td><td>(143.812)</td></tr><tr><td style=\"text-align:left\">S2</td><td></td><td>-169.251<sup></sup></td></tr><tr><td style=\"text-align:left\"></td><td></td><td>(142.744)</td></tr><tr><td style=\"text-align:left\">Sex</td><td>-106.578<sup>*</sup></td><td>-82.862<sup></sup></td></tr><tr><td style=\"text-align:left\"></td><td>(62.125)</td><td>(64.851)</td></tr><tr><td style=\"text-align:left\">const</td><td>152.133<sup>***</sup></td><td>152.133<sup>***</sup></td></tr><tr><td style=\"text-align:left\"></td><td>(2.853)</td><td>(2.853)</td></tr><td colspan=\"3\" style=\"border-bottom: 1px solid black\"></td></tr><tr><td style=\"text-align: left\">Observations</td><td>442.0</td><td>442.0</td></tr><tr><td style=\"text-align: left\">R<sup>2</sup></td><td>0.4</td><td>0.403</td></tr><tr><td style=\"text-align: left\">Adjusted R<sup>2</sup></td><td>0.395</td><td>0.395</td></tr><tr><td style=\"text-align: left\">Residual Std. Error</td><td>59.976(df = 437.0)</td><td>59.982(df = 435.0)</td></tr><tr><td style=\"text-align: left\">F Statistic</td><td>72.913<sup>***</sup>(df = 4.0; 437.0)</td><td>48.915<sup>***</sup>(df = 6.0; 435.0)</td></tr><tr><td colspan=\"3\" style=\"border-bottom: 1px solid black\"></td></tr><tr><td style=\"text-align: left\">Note:</td>\n",
       " <td colspan=\"2\" style=\"text-align: right\">\n",
       "  <sup>*</sup>p&lt;0.1;\n",
       "  <sup>**</sup>p&lt;0.05;\n",
       "  <sup>***</sup>p&lt;0.01\n",
       " </td></tr></table>"
      ],
      "text/plain": [
       "<IPython.core.display.HTML object>"
      ]
     },
     "execution_count": 16,
     "metadata": {},
     "output_type": "execute_result"
    }
   ],
   "source": [
    "HTML(stargazer.render_html())"
   ]
  },
  {
   "cell_type": "code",
   "execution_count": 17,
   "metadata": {},
   "outputs": [
    {
     "data": {
      "text/latex": [
       "\\begin{table}[!htbp] \\centering\n",
       "  \\caption{Diabetes Study}\n",
       "  \\label{}\n",
       "\\begin{tabular}{@{\\extracolsep{5pt}}lcc}\n",
       "\\\\[-1.8ex]\\hline\n",
       "\\hline \\\\[-1.8ex]\n",
       "& \\multicolumn{2}{c}{\\textit{Dependent variable:}} \\\n",
       "\\cr \\cline{2-3}\n",
       "\\\\[-1.8ex] & (1) & (2) \\\\\n",
       "\\hline \\\\[-1.8ex]\n",
       " ABP & 416.674$^{***}$ & 397.583$^{***}$ \\\\\n",
       "  & (69.495) & (70.87) \\\\\n",
       "  & & \\\\\n",
       " Age & 37.241$^{}$ & 24.704$^{}$ \\\\\n",
       "  & (64.117) & (65.411) \\\\\n",
       "  & & \\\\\n",
       " BMI & 787.179$^{***}$ & 789.742$^{***}$ \\\\\n",
       "  & (65.424) & (66.887) \\\\\n",
       "  & & \\\\\n",
       " S1 & & 197.852$^{}$ \\\\\n",
       "  & & (143.812) \\\\\n",
       "  & & \\\\\n",
       " S2 & & -169.251$^{}$ \\\\\n",
       "  & & (142.744) \\\\\n",
       "  & & \\\\\n",
       " Sex & -106.578$^{*}$ & -82.862$^{}$ \\\\\n",
       "  & (62.125) & (64.851) \\\\\n",
       "  & & \\\\\n",
       " const & 152.133$^{***}$ & 152.133$^{***}$ \\\\\n",
       "  & (2.853) & (2.853) \\\\\n",
       "  & & \\\\\n",
       "\\hline \\\\[-1.8ex]\n",
       " Observations & 442.0 & 442.0 \\\\\n",
       " R${2}$ & 0.4 & 0.403 \\\\\n",
       " Adjusted R${2}$ & 0.395 & 0.395 \\\\\n",
       " Residual Std. Error & 59.976(df = 437.0) & 59.982(df = 435.0)  \\\\\n",
       " F Statistic & 72.913$^{***}$ (df = 4.0; 437.0) & 48.915$^{***}$ (df = 6.0; 435.0) \\\\\n",
       "\\hline\n",
       "\\hline \\\\[-1.8ex]\n",
       "\\textit{Note:} & \\multicolumn{2}{r}{$^{*}$p$<$0.1; $^{**}$p$<$0.05; $^{***}$p$<$0.01} \\\\\n",
       "\\end{tabular}\n",
       "\\end{table}"
      ],
      "text/plain": [
       "<IPython.core.display.Latex object>"
      ]
     },
     "execution_count": 17,
     "metadata": {},
     "output_type": "execute_result"
    }
   ],
   "source": [
    "Latex(stargazer.render_latex())"
   ]
  },
  {
   "cell_type": "code",
   "execution_count": null,
   "metadata": {},
   "outputs": [],
   "source": [
    "\n",
    "stargazer.show_model_numbers(False)"
   ]
  },
  {
   "cell_type": "code",
   "execution_count": 18,
   "metadata": {},
   "outputs": [
    {
     "data": {
      "text/html": [
       "Diabetes Study<br><table style=\"text-align:center\"><tr><td colspan=\"3\" style=\"border-bottom: 1px solid black\"></td></tr><tr><td style=\"text-align:left\"></td><td colspan=\"2\"><em>Dependent variable:</em></td></tr><tr><td style=\"text-align:left\"></td><tr><td style=\"text-align:left\"></td><td>(1)</td><td>(2)</td></tr><tr><td colspan=\"3\" style=\"border-bottom: 1px solid black\"></td></tr><tr><td style=\"text-align:left\">ABP</td><td>416.674<sup>***</sup></td><td>397.583<sup>***</sup></td></tr><tr><td style=\"text-align:left\"></td><td>(69.495)</td><td>(70.87)</td></tr><tr><td style=\"text-align:left\">Age</td><td>37.241<sup></sup></td><td>24.704<sup></sup></td></tr><tr><td style=\"text-align:left\"></td><td>(64.117)</td><td>(65.411)</td></tr><tr><td style=\"text-align:left\">BMI</td><td>787.179<sup>***</sup></td><td>789.742<sup>***</sup></td></tr><tr><td style=\"text-align:left\"></td><td>(65.424)</td><td>(66.887)</td></tr><tr><td style=\"text-align:left\">S1</td><td></td><td>197.852<sup></sup></td></tr><tr><td style=\"text-align:left\"></td><td></td><td>(143.812)</td></tr><tr><td style=\"text-align:left\">S2</td><td></td><td>-169.251<sup></sup></td></tr><tr><td style=\"text-align:left\"></td><td></td><td>(142.744)</td></tr><tr><td style=\"text-align:left\">Sex</td><td>-106.578<sup>*</sup></td><td>-82.862<sup></sup></td></tr><tr><td style=\"text-align:left\"></td><td>(62.125)</td><td>(64.851)</td></tr><tr><td style=\"text-align:left\">const</td><td>152.133<sup>***</sup></td><td>152.133<sup>***</sup></td></tr><tr><td style=\"text-align:left\"></td><td>(2.853)</td><td>(2.853)</td></tr><td colspan=\"3\" style=\"border-bottom: 1px solid black\"></td></tr><tr><td style=\"text-align: left\">Observations</td><td>442.0</td><td>442.0</td></tr><tr><td style=\"text-align: left\">R<sup>2</sup></td><td>0.4</td><td>0.403</td></tr><tr><td style=\"text-align: left\">Adjusted R<sup>2</sup></td><td>0.395</td><td>0.395</td></tr><tr><td style=\"text-align: left\">Residual Std. Error</td><td>59.976(df = 437.0)</td><td>59.982(df = 435.0)</td></tr><tr><td style=\"text-align: left\">F Statistic</td><td>72.913<sup>***</sup>(df = 4.0; 437.0)</td><td>48.915<sup>***</sup>(df = 6.0; 435.0)</td></tr><tr><td colspan=\"3\" style=\"border-bottom: 1px solid black\"></td></tr><tr><td style=\"text-align: left\">Note:</td>\n",
       " <td colspan=\"2\" style=\"text-align: right\">\n",
       "  <sup>*</sup>p&lt;0.1;\n",
       "  <sup>**</sup>p&lt;0.05;\n",
       "  <sup>***</sup>p&lt;0.01\n",
       " </td></tr></table>"
      ],
      "text/plain": [
       "<IPython.core.display.HTML object>"
      ]
     },
     "execution_count": 18,
     "metadata": {},
     "output_type": "execute_result"
    }
   ],
   "source": [
    "HTML(stargazer.render_html())"
   ]
  },
  {
   "cell_type": "code",
   "execution_count": 19,
   "metadata": {},
   "outputs": [
    {
     "data": {
      "text/latex": [
       "\\begin{table}[!htbp] \\centering\n",
       "  \\caption{Diabetes Study}\n",
       "  \\label{}\n",
       "\\begin{tabular}{@{\\extracolsep{5pt}}lcc}\n",
       "\\\\[-1.8ex]\\hline\n",
       "\\hline \\\\[-1.8ex]\n",
       "& \\multicolumn{2}{c}{\\textit{Dependent variable:}} \\\n",
       "\\cr \\cline{2-3}\n",
       "\\\\[-1.8ex] & (1) & (2) \\\\\n",
       "\\hline \\\\[-1.8ex]\n",
       " ABP & 416.674$^{***}$ & 397.583$^{***}$ \\\\\n",
       "  & (69.495) & (70.87) \\\\\n",
       "  & & \\\\\n",
       " Age & 37.241$^{}$ & 24.704$^{}$ \\\\\n",
       "  & (64.117) & (65.411) \\\\\n",
       "  & & \\\\\n",
       " BMI & 787.179$^{***}$ & 789.742$^{***}$ \\\\\n",
       "  & (65.424) & (66.887) \\\\\n",
       "  & & \\\\\n",
       " S1 & & 197.852$^{}$ \\\\\n",
       "  & & (143.812) \\\\\n",
       "  & & \\\\\n",
       " S2 & & -169.251$^{}$ \\\\\n",
       "  & & (142.744) \\\\\n",
       "  & & \\\\\n",
       " Sex & -106.578$^{*}$ & -82.862$^{}$ \\\\\n",
       "  & (62.125) & (64.851) \\\\\n",
       "  & & \\\\\n",
       " const & 152.133$^{***}$ & 152.133$^{***}$ \\\\\n",
       "  & (2.853) & (2.853) \\\\\n",
       "  & & \\\\\n",
       "\\hline \\\\[-1.8ex]\n",
       " Observations & 442.0 & 442.0 \\\\\n",
       " R${2}$ & 0.4 & 0.403 \\\\\n",
       " Adjusted R${2}$ & 0.395 & 0.395 \\\\\n",
       " Residual Std. Error & 59.976(df = 437.0) & 59.982(df = 435.0)  \\\\\n",
       " F Statistic & 72.913$^{***}$ (df = 4.0; 437.0) & 48.915$^{***}$ (df = 6.0; 435.0) \\\\\n",
       "\\hline\n",
       "\\hline \\\\[-1.8ex]\n",
       "\\textit{Note:} & \\multicolumn{2}{r}{$^{*}$p$<$0.1; $^{**}$p$<$0.05; $^{***}$p$<$0.01} \\\\\n",
       "\\end{tabular}\n",
       "\\end{table}"
      ],
      "text/plain": [
       "<IPython.core.display.Latex object>"
      ]
     },
     "execution_count": 19,
     "metadata": {},
     "output_type": "execute_result"
    }
   ],
   "source": [
    "Latex(stargazer.render_latex())"
   ]
  },
  {
   "cell_type": "code",
   "execution_count": 20,
   "metadata": {},
   "outputs": [],
   "source": [
    "stargazer.significant_digits(2)"
   ]
  },
  {
   "cell_type": "code",
   "execution_count": 21,
   "metadata": {},
   "outputs": [
    {
     "data": {
      "text/html": [
       "Diabetes Study<br><table style=\"text-align:center\"><tr><td colspan=\"3\" style=\"border-bottom: 1px solid black\"></td></tr><tr><td style=\"text-align:left\"></td><td colspan=\"2\"><em>Dependent variable:</em></td></tr><tr><td style=\"text-align:left\"></td><tr><td style=\"text-align:left\"></td><td>(1)</td><td>(2)</td></tr><tr><td colspan=\"3\" style=\"border-bottom: 1px solid black\"></td></tr><tr><td style=\"text-align:left\">ABP</td><td>416.67<sup>***</sup></td><td>397.58<sup>***</sup></td></tr><tr><td style=\"text-align:left\"></td><td>(69.49)</td><td>(70.87)</td></tr><tr><td style=\"text-align:left\">Age</td><td>37.24<sup></sup></td><td>24.7<sup></sup></td></tr><tr><td style=\"text-align:left\"></td><td>(64.12)</td><td>(65.41)</td></tr><tr><td style=\"text-align:left\">BMI</td><td>787.18<sup>***</sup></td><td>789.74<sup>***</sup></td></tr><tr><td style=\"text-align:left\"></td><td>(65.42)</td><td>(66.89)</td></tr><tr><td style=\"text-align:left\">S1</td><td></td><td>197.85<sup></sup></td></tr><tr><td style=\"text-align:left\"></td><td></td><td>(143.81)</td></tr><tr><td style=\"text-align:left\">S2</td><td></td><td>-169.25<sup></sup></td></tr><tr><td style=\"text-align:left\"></td><td></td><td>(142.74)</td></tr><tr><td style=\"text-align:left\">Sex</td><td>-106.58<sup>*</sup></td><td>-82.86<sup></sup></td></tr><tr><td style=\"text-align:left\"></td><td>(62.13)</td><td>(64.85)</td></tr><tr><td style=\"text-align:left\">const</td><td>152.13<sup>***</sup></td><td>152.13<sup>***</sup></td></tr><tr><td style=\"text-align:left\"></td><td>(2.85)</td><td>(2.85)</td></tr><td colspan=\"3\" style=\"border-bottom: 1px solid black\"></td></tr><tr><td style=\"text-align: left\">Observations</td><td>442.0</td><td>442.0</td></tr><tr><td style=\"text-align: left\">R<sup>2</sup></td><td>0.4</td><td>0.4</td></tr><tr><td style=\"text-align: left\">Adjusted R<sup>2</sup></td><td>0.39</td><td>0.39</td></tr><tr><td style=\"text-align: left\">Residual Std. Error</td><td>59.98(df = 437.0)</td><td>59.98(df = 435.0)</td></tr><tr><td style=\"text-align: left\">F Statistic</td><td>72.91<sup>***</sup>(df = 4.0; 437.0)</td><td>48.91<sup>***</sup>(df = 6.0; 435.0)</td></tr><tr><td colspan=\"3\" style=\"border-bottom: 1px solid black\"></td></tr><tr><td style=\"text-align: left\">Note:</td>\n",
       " <td colspan=\"2\" style=\"text-align: right\">\n",
       "  <sup>*</sup>p&lt;0.1;\n",
       "  <sup>**</sup>p&lt;0.05;\n",
       "  <sup>***</sup>p&lt;0.01\n",
       " </td></tr></table>"
      ],
      "text/plain": [
       "<IPython.core.display.HTML object>"
      ]
     },
     "execution_count": 21,
     "metadata": {},
     "output_type": "execute_result"
    }
   ],
   "source": [
    "HTML(stargazer.render_html())"
   ]
  },
  {
   "cell_type": "code",
   "execution_count": 22,
   "metadata": {},
   "outputs": [
    {
     "data": {
      "text/latex": [
       "\\begin{table}[!htbp] \\centering\n",
       "  \\caption{Diabetes Study}\n",
       "  \\label{}\n",
       "\\begin{tabular}{@{\\extracolsep{5pt}}lcc}\n",
       "\\\\[-1.8ex]\\hline\n",
       "\\hline \\\\[-1.8ex]\n",
       "& \\multicolumn{2}{c}{\\textit{Dependent variable:}} \\\n",
       "\\cr \\cline{2-3}\n",
       "\\\\[-1.8ex] & (1) & (2) \\\\\n",
       "\\hline \\\\[-1.8ex]\n",
       " ABP & 416.67$^{***}$ & 397.58$^{***}$ \\\\\n",
       "  & (69.49) & (70.87) \\\\\n",
       "  & & \\\\\n",
       " Age & 37.24$^{}$ & 24.7$^{}$ \\\\\n",
       "  & (64.12) & (65.41) \\\\\n",
       "  & & \\\\\n",
       " BMI & 787.18$^{***}$ & 789.74$^{***}$ \\\\\n",
       "  & (65.42) & (66.89) \\\\\n",
       "  & & \\\\\n",
       " S1 & & 197.85$^{}$ \\\\\n",
       "  & & (143.81) \\\\\n",
       "  & & \\\\\n",
       " S2 & & -169.25$^{}$ \\\\\n",
       "  & & (142.74) \\\\\n",
       "  & & \\\\\n",
       " Sex & -106.58$^{*}$ & -82.86$^{}$ \\\\\n",
       "  & (62.13) & (64.85) \\\\\n",
       "  & & \\\\\n",
       " const & 152.13$^{***}$ & 152.13$^{***}$ \\\\\n",
       "  & (2.85) & (2.85) \\\\\n",
       "  & & \\\\\n",
       "\\hline \\\\[-1.8ex]\n",
       " Observations & 442.0 & 442.0 \\\\\n",
       " R${2}$ & 0.4 & 0.4 \\\\\n",
       " Adjusted R${2}$ & 0.39 & 0.39 \\\\\n",
       " Residual Std. Error & 59.98(df = 437.0) & 59.98(df = 435.0)  \\\\\n",
       " F Statistic & 72.91$^{***}$ (df = 4.0; 437.0) & 48.91$^{***}$ (df = 6.0; 435.0) \\\\\n",
       "\\hline\n",
       "\\hline \\\\[-1.8ex]\n",
       "\\textit{Note:} & \\multicolumn{2}{r}{$^{*}$p$<$0.1; $^{**}$p$<$0.05; $^{***}$p$<$0.01} \\\\\n",
       "\\end{tabular}\n",
       "\\end{table}"
      ],
      "text/plain": [
       "<IPython.core.display.Latex object>"
      ]
     },
     "execution_count": 22,
     "metadata": {},
     "output_type": "execute_result"
    }
   ],
   "source": [
    "Latex(stargazer.render_latex())"
   ]
  },
  {
   "cell_type": "code",
   "execution_count": 23,
   "metadata": {},
   "outputs": [],
   "source": [
    "stargazer.show_confidence_intervals(True)"
   ]
  },
  {
   "cell_type": "code",
   "execution_count": 24,
   "metadata": {},
   "outputs": [
    {
     "data": {
      "text/html": [
       "Diabetes Study<br><table style=\"text-align:center\"><tr><td colspan=\"3\" style=\"border-bottom: 1px solid black\"></td></tr><tr><td style=\"text-align:left\"></td><td colspan=\"2\"><em>Dependent variable:</em></td></tr><tr><td style=\"text-align:left\"></td><tr><td style=\"text-align:left\"></td><td>(1)</td><td>(2)</td></tr><tr><td colspan=\"3\" style=\"border-bottom: 1px solid black\"></td></tr><tr><td style=\"text-align:left\">ABP</td><td>416.67<sup>***</sup></td><td>397.58<sup>***</sup></td></tr><tr><td style=\"text-align:left\"></td><td>(280.09 , 553.26)</td><td>(258.29 , 536.87)</td></tr><tr><td style=\"text-align:left\">Age</td><td>37.24<sup></sup></td><td>24.7<sup></sup></td></tr><tr><td style=\"text-align:left\"></td><td>(-88.78 , 163.26)</td><td>(-103.86 , 153.26)</td></tr><tr><td style=\"text-align:left\">BMI</td><td>787.18<sup>***</sup></td><td>789.74<sup>***</sup></td></tr><tr><td style=\"text-align:left\"></td><td>(658.59 , 915.76)</td><td>(658.28 , 921.2)</td></tr><tr><td style=\"text-align:left\">S1</td><td></td><td>197.85<sup></sup></td></tr><tr><td style=\"text-align:left\"></td><td></td><td>(-84.8 , 480.51)</td></tr><tr><td style=\"text-align:left\">S2</td><td></td><td>-169.25<sup></sup></td></tr><tr><td style=\"text-align:left\"></td><td></td><td>(-449.8 , 111.3)</td></tr><tr><td style=\"text-align:left\">Sex</td><td>-106.58<sup>*</sup></td><td>-82.86<sup></sup></td></tr><tr><td style=\"text-align:left\"></td><td>(-228.68 , 15.52)</td><td>(-210.32 , 44.6)</td></tr><tr><td style=\"text-align:left\">const</td><td>152.13<sup>***</sup></td><td>152.13<sup>***</sup></td></tr><tr><td style=\"text-align:left\"></td><td>(146.53 , 157.74)</td><td>(146.53 , 157.74)</td></tr><td colspan=\"3\" style=\"border-bottom: 1px solid black\"></td></tr><tr><td style=\"text-align: left\">Observations</td><td>442.0</td><td>442.0</td></tr><tr><td style=\"text-align: left\">R<sup>2</sup></td><td>0.4</td><td>0.4</td></tr><tr><td style=\"text-align: left\">Adjusted R<sup>2</sup></td><td>0.39</td><td>0.39</td></tr><tr><td style=\"text-align: left\">Residual Std. Error</td><td>59.98(df = 437.0)</td><td>59.98(df = 435.0)</td></tr><tr><td style=\"text-align: left\">F Statistic</td><td>72.91<sup>***</sup>(df = 4.0; 437.0)</td><td>48.91<sup>***</sup>(df = 6.0; 435.0)</td></tr><tr><td colspan=\"3\" style=\"border-bottom: 1px solid black\"></td></tr><tr><td style=\"text-align: left\">Note:</td>\n",
       " <td colspan=\"2\" style=\"text-align: right\">\n",
       "  <sup>*</sup>p&lt;0.1;\n",
       "  <sup>**</sup>p&lt;0.05;\n",
       "  <sup>***</sup>p&lt;0.01\n",
       " </td></tr></table>"
      ],
      "text/plain": [
       "<IPython.core.display.HTML object>"
      ]
     },
     "execution_count": 24,
     "metadata": {},
     "output_type": "execute_result"
    }
   ],
   "source": [
    "HTML(stargazer.render_html())"
   ]
  },
  {
   "cell_type": "code",
   "execution_count": 26,
   "metadata": {},
   "outputs": [
    {
     "data": {
      "text/latex": [
       "\\begin{table}[!htbp] \\centering\n",
       "  \\caption{Diabetes Study}\n",
       "  \\label{}\n",
       "\\begin{tabular}{@{\\extracolsep{5pt}}lcc}\n",
       "\\\\[-1.8ex]\\hline\n",
       "\\hline \\\\[-1.8ex]\n",
       "& \\multicolumn{2}{c}{\\textit{Dependent variable:}} \\\n",
       "\\cr \\cline{2-3}\n",
       "\\\\[-1.8ex] & (1) & (2) \\\\\n",
       "\\hline \\\\[-1.8ex]\n",
       " ABP & 416.67$^{***}$ & 397.58$^{***}$ \\\\\n",
       "  & (280.09 , 553.26) & (258.29 , 536.87) \\\\\n",
       "  & & \\\\\n",
       " Age & 37.24$^{}$ & 24.7$^{}$ \\\\\n",
       "  & (-88.78 , 163.26) & (-103.86 , 153.26) \\\\\n",
       "  & & \\\\\n",
       " BMI & 787.18$^{***}$ & 789.74$^{***}$ \\\\\n",
       "  & (658.59 , 915.76) & (658.28 , 921.2) \\\\\n",
       "  & & \\\\\n",
       " S1 & & 197.85$^{}$ \\\\\n",
       "  & & (-84.8 , 480.51) \\\\\n",
       "  & & \\\\\n",
       " S2 & & -169.25$^{}$ \\\\\n",
       "  & & (-449.8 , 111.3) \\\\\n",
       "  & & \\\\\n",
       " Sex & -106.58$^{*}$ & -82.86$^{}$ \\\\\n",
       "  & (-228.68 , 15.52) & (-210.32 , 44.6) \\\\\n",
       "  & & \\\\\n",
       " const & 152.13$^{***}$ & 152.13$^{***}$ \\\\\n",
       "  & (146.53 , 157.74) & (146.53 , 157.74) \\\\\n",
       "  & & \\\\\n",
       "\\hline \\\\[-1.8ex]\n",
       " Observations & 442.0 & 442.0 \\\\\n",
       " R${2}$ & 0.4 & 0.4 \\\\\n",
       " Adjusted R${2}$ & 0.39 & 0.39 \\\\\n",
       " Residual Std. Error & 59.98(df = 437.0) & 59.98(df = 435.0)  \\\\\n",
       " F Statistic & 72.91$^{***}$ (df = 4.0; 437.0) & 48.91$^{***}$ (df = 6.0; 435.0) \\\\\n",
       "\\hline\n",
       "\\hline \\\\[-1.8ex]\n",
       "\\textit{Note:} & \\multicolumn{2}{r}{$^{*}$p$<$0.1; $^{**}$p$<$0.05; $^{***}$p$<$0.01} \\\\\n",
       "\\end{tabular}\n",
       "\\end{table}"
      ],
      "text/plain": [
       "<IPython.core.display.Latex object>"
      ]
     },
     "execution_count": 26,
     "metadata": {},
     "output_type": "execute_result"
    }
   ],
   "source": [
    "Latex(stargazer.render_latex())"
   ]
  },
  {
   "cell_type": "code",
   "execution_count": 27,
   "metadata": {},
   "outputs": [],
   "source": [
    "stargazer.covariate_order(['BMI', 'Age', 'S1', 'Sex'])"
   ]
  },
  {
   "cell_type": "code",
   "execution_count": 28,
   "metadata": {},
   "outputs": [
    {
     "data": {
      "text/html": [
       "Diabetes Study<br><table style=\"text-align:center\"><tr><td colspan=\"3\" style=\"border-bottom: 1px solid black\"></td></tr><tr><td style=\"text-align:left\"></td><td colspan=\"2\"><em>Dependent variable:</em></td></tr><tr><td style=\"text-align:left\"></td><tr><td style=\"text-align:left\"></td><td>(1)</td><td>(2)</td></tr><tr><td colspan=\"3\" style=\"border-bottom: 1px solid black\"></td></tr><tr><td style=\"text-align:left\">BMI</td><td>787.18<sup>***</sup></td><td>789.74<sup>***</sup></td></tr><tr><td style=\"text-align:left\"></td><td>(658.59 , 915.76)</td><td>(658.28 , 921.2)</td></tr><tr><td style=\"text-align:left\">Age</td><td>37.24<sup></sup></td><td>24.7<sup></sup></td></tr><tr><td style=\"text-align:left\"></td><td>(-88.78 , 163.26)</td><td>(-103.86 , 153.26)</td></tr><tr><td style=\"text-align:left\">S1</td><td></td><td>197.85<sup></sup></td></tr><tr><td style=\"text-align:left\"></td><td></td><td>(-84.8 , 480.51)</td></tr><tr><td style=\"text-align:left\">Sex</td><td>-106.58<sup>*</sup></td><td>-82.86<sup></sup></td></tr><tr><td style=\"text-align:left\"></td><td>(-228.68 , 15.52)</td><td>(-210.32 , 44.6)</td></tr><td colspan=\"3\" style=\"border-bottom: 1px solid black\"></td></tr><tr><td style=\"text-align: left\">Observations</td><td>442.0</td><td>442.0</td></tr><tr><td style=\"text-align: left\">R<sup>2</sup></td><td>0.4</td><td>0.4</td></tr><tr><td style=\"text-align: left\">Adjusted R<sup>2</sup></td><td>0.39</td><td>0.39</td></tr><tr><td style=\"text-align: left\">Residual Std. Error</td><td>59.98(df = 437.0)</td><td>59.98(df = 435.0)</td></tr><tr><td style=\"text-align: left\">F Statistic</td><td>72.91<sup>***</sup>(df = 4.0; 437.0)</td><td>48.91<sup>***</sup>(df = 6.0; 435.0)</td></tr><tr><td colspan=\"3\" style=\"border-bottom: 1px solid black\"></td></tr><tr><td style=\"text-align: left\">Note:</td>\n",
       " <td colspan=\"2\" style=\"text-align: right\">\n",
       "  <sup>*</sup>p&lt;0.1;\n",
       "  <sup>**</sup>p&lt;0.05;\n",
       "  <sup>***</sup>p&lt;0.01\n",
       " </td></tr></table>"
      ],
      "text/plain": [
       "<IPython.core.display.HTML object>"
      ]
     },
     "execution_count": 28,
     "metadata": {},
     "output_type": "execute_result"
    }
   ],
   "source": [
    "HTML(stargazer.render_html())"
   ]
  },
  {
   "cell_type": "code",
   "execution_count": 29,
   "metadata": {},
   "outputs": [
    {
     "data": {
      "text/latex": [
       "\\begin{table}[!htbp] \\centering\n",
       "  \\caption{Diabetes Study}\n",
       "  \\label{}\n",
       "\\begin{tabular}{@{\\extracolsep{5pt}}lcc}\n",
       "\\\\[-1.8ex]\\hline\n",
       "\\hline \\\\[-1.8ex]\n",
       "& \\multicolumn{2}{c}{\\textit{Dependent variable:}} \\\n",
       "\\cr \\cline{2-3}\n",
       "\\\\[-1.8ex] & (1) & (2) \\\\\n",
       "\\hline \\\\[-1.8ex]\n",
       " BMI & 787.18$^{***}$ & 789.74$^{***}$ \\\\\n",
       "  & (658.59 , 915.76) & (658.28 , 921.2) \\\\\n",
       "  & & \\\\\n",
       " Age & 37.24$^{}$ & 24.7$^{}$ \\\\\n",
       "  & (-88.78 , 163.26) & (-103.86 , 153.26) \\\\\n",
       "  & & \\\\\n",
       " S1 & & 197.85$^{}$ \\\\\n",
       "  & & (-84.8 , 480.51) \\\\\n",
       "  & & \\\\\n",
       " Sex & -106.58$^{*}$ & -82.86$^{}$ \\\\\n",
       "  & (-228.68 , 15.52) & (-210.32 , 44.6) \\\\\n",
       "  & & \\\\\n",
       "\\hline \\\\[-1.8ex]\n",
       " Observations & 442.0 & 442.0 \\\\\n",
       " R${2}$ & 0.4 & 0.4 \\\\\n",
       " Adjusted R${2}$ & 0.39 & 0.39 \\\\\n",
       " Residual Std. Error & 59.98(df = 437.0) & 59.98(df = 435.0)  \\\\\n",
       " F Statistic & 72.91$^{***}$ (df = 4.0; 437.0) & 48.91$^{***}$ (df = 6.0; 435.0) \\\\\n",
       "\\hline\n",
       "\\hline \\\\[-1.8ex]\n",
       "\\textit{Note:} & \\multicolumn{2}{r}{$^{*}$p$<$0.1; $^{**}$p$<$0.05; $^{***}$p$<$0.01} \\\\\n",
       "\\end{tabular}\n",
       "\\end{table}"
      ],
      "text/plain": [
       "<IPython.core.display.Latex object>"
      ]
     },
     "execution_count": 29,
     "metadata": {},
     "output_type": "execute_result"
    }
   ],
   "source": [
    "Latex(stargazer.render_latex())"
   ]
  },
  {
   "cell_type": "code",
   "execution_count": 30,
   "metadata": {},
   "outputs": [],
   "source": [
    "stargazer.rename_covariates({'Age': 'Oldness'})"
   ]
  },
  {
   "cell_type": "code",
   "execution_count": 31,
   "metadata": {},
   "outputs": [
    {
     "data": {
      "text/html": [
       "Diabetes Study<br><table style=\"text-align:center\"><tr><td colspan=\"3\" style=\"border-bottom: 1px solid black\"></td></tr><tr><td style=\"text-align:left\"></td><td colspan=\"2\"><em>Dependent variable:</em></td></tr><tr><td style=\"text-align:left\"></td><tr><td style=\"text-align:left\"></td><td>(1)</td><td>(2)</td></tr><tr><td colspan=\"3\" style=\"border-bottom: 1px solid black\"></td></tr><tr><td style=\"text-align:left\">BMI</td><td>787.18<sup>***</sup></td><td>789.74<sup>***</sup></td></tr><tr><td style=\"text-align:left\"></td><td>(658.59 , 915.76)</td><td>(658.28 , 921.2)</td></tr><tr><td style=\"text-align:left\">Oldness</td><td>37.24<sup></sup></td><td>24.7<sup></sup></td></tr><tr><td style=\"text-align:left\"></td><td>(-88.78 , 163.26)</td><td>(-103.86 , 153.26)</td></tr><tr><td style=\"text-align:left\">S1</td><td></td><td>197.85<sup></sup></td></tr><tr><td style=\"text-align:left\"></td><td></td><td>(-84.8 , 480.51)</td></tr><tr><td style=\"text-align:left\">Sex</td><td>-106.58<sup>*</sup></td><td>-82.86<sup></sup></td></tr><tr><td style=\"text-align:left\"></td><td>(-228.68 , 15.52)</td><td>(-210.32 , 44.6)</td></tr><td colspan=\"3\" style=\"border-bottom: 1px solid black\"></td></tr><tr><td style=\"text-align: left\">Observations</td><td>442.0</td><td>442.0</td></tr><tr><td style=\"text-align: left\">R<sup>2</sup></td><td>0.4</td><td>0.4</td></tr><tr><td style=\"text-align: left\">Adjusted R<sup>2</sup></td><td>0.39</td><td>0.39</td></tr><tr><td style=\"text-align: left\">Residual Std. Error</td><td>59.98(df = 437.0)</td><td>59.98(df = 435.0)</td></tr><tr><td style=\"text-align: left\">F Statistic</td><td>72.91<sup>***</sup>(df = 4.0; 437.0)</td><td>48.91<sup>***</sup>(df = 6.0; 435.0)</td></tr><tr><td colspan=\"3\" style=\"border-bottom: 1px solid black\"></td></tr><tr><td style=\"text-align: left\">Note:</td>\n",
       " <td colspan=\"2\" style=\"text-align: right\">\n",
       "  <sup>*</sup>p&lt;0.1;\n",
       "  <sup>**</sup>p&lt;0.05;\n",
       "  <sup>***</sup>p&lt;0.01\n",
       " </td></tr></table>"
      ],
      "text/plain": [
       "<IPython.core.display.HTML object>"
      ]
     },
     "execution_count": 31,
     "metadata": {},
     "output_type": "execute_result"
    }
   ],
   "source": [
    "HTML(stargazer.render_html())"
   ]
  },
  {
   "cell_type": "code",
   "execution_count": 32,
   "metadata": {},
   "outputs": [
    {
     "data": {
      "text/latex": [
       "\\begin{table}[!htbp] \\centering\n",
       "  \\caption{Diabetes Study}\n",
       "  \\label{}\n",
       "\\begin{tabular}{@{\\extracolsep{5pt}}lcc}\n",
       "\\\\[-1.8ex]\\hline\n",
       "\\hline \\\\[-1.8ex]\n",
       "& \\multicolumn{2}{c}{\\textit{Dependent variable:}} \\\n",
       "\\cr \\cline{2-3}\n",
       "\\\\[-1.8ex] & (1) & (2) \\\\\n",
       "\\hline \\\\[-1.8ex]\n",
       " BMI & 787.18$^{***}$ & 789.74$^{***}$ \\\\\n",
       "  & (658.59 , 915.76) & (658.28 , 921.2) \\\\\n",
       "  & & \\\\\n",
       " Oldness & 37.24$^{}$ & 24.7$^{}$ \\\\\n",
       "  & (-88.78 , 163.26) & (-103.86 , 153.26) \\\\\n",
       "  & & \\\\\n",
       " S1 & & 197.85$^{}$ \\\\\n",
       "  & & (-84.8 , 480.51) \\\\\n",
       "  & & \\\\\n",
       " Sex & -106.58$^{*}$ & -82.86$^{}$ \\\\\n",
       "  & (-228.68 , 15.52) & (-210.32 , 44.6) \\\\\n",
       "  & & \\\\\n",
       "\\hline \\\\[-1.8ex]\n",
       " Observations & 442.0 & 442.0 \\\\\n",
       " R${2}$ & 0.4 & 0.4 \\\\\n",
       " Adjusted R${2}$ & 0.39 & 0.39 \\\\\n",
       " Residual Std. Error & 59.98(df = 437.0) & 59.98(df = 435.0)  \\\\\n",
       " F Statistic & 72.91$^{***}$ (df = 4.0; 437.0) & 48.91$^{***}$ (df = 6.0; 435.0) \\\\\n",
       "\\hline\n",
       "\\hline \\\\[-1.8ex]\n",
       "\\textit{Note:} & \\multicolumn{2}{r}{$^{*}$p$<$0.1; $^{**}$p$<$0.05; $^{***}$p$<$0.01} \\\\\n",
       "\\end{tabular}\n",
       "\\end{table}"
      ],
      "text/plain": [
       "<IPython.core.display.Latex object>"
      ]
     },
     "execution_count": 32,
     "metadata": {},
     "output_type": "execute_result"
    }
   ],
   "source": [
    "Latex(stargazer.render_latex())"
   ]
  },
  {
   "cell_type": "code",
   "execution_count": 34,
   "metadata": {},
   "outputs": [],
   "source": [
    "stargazer.show_degrees_of_freedom(False)"
   ]
  },
  {
   "cell_type": "code",
   "execution_count": 35,
   "metadata": {},
   "outputs": [
    {
     "data": {
      "text/html": [
       "Diabetes Study<br><table style=\"text-align:center\"><tr><td colspan=\"3\" style=\"border-bottom: 1px solid black\"></td></tr><tr><td style=\"text-align:left\"></td><td colspan=\"2\"><em>Dependent variable:</em></td></tr><tr><td style=\"text-align:left\"></td><tr><td style=\"text-align:left\"></td><td>(1)</td><td>(2)</td></tr><tr><td colspan=\"3\" style=\"border-bottom: 1px solid black\"></td></tr><tr><td style=\"text-align:left\">BMI</td><td>787.18<sup>***</sup></td><td>789.74<sup>***</sup></td></tr><tr><td style=\"text-align:left\"></td><td>(658.59 , 915.76)</td><td>(658.28 , 921.2)</td></tr><tr><td style=\"text-align:left\">Oldness</td><td>37.24<sup></sup></td><td>24.7<sup></sup></td></tr><tr><td style=\"text-align:left\"></td><td>(-88.78 , 163.26)</td><td>(-103.86 , 153.26)</td></tr><tr><td style=\"text-align:left\">S1</td><td></td><td>197.85<sup></sup></td></tr><tr><td style=\"text-align:left\"></td><td></td><td>(-84.8 , 480.51)</td></tr><tr><td style=\"text-align:left\">Sex</td><td>-106.58<sup>*</sup></td><td>-82.86<sup></sup></td></tr><tr><td style=\"text-align:left\"></td><td>(-228.68 , 15.52)</td><td>(-210.32 , 44.6)</td></tr><td colspan=\"3\" style=\"border-bottom: 1px solid black\"></td></tr><tr><td style=\"text-align: left\">Observations</td><td>442.0</td><td>442.0</td></tr><tr><td style=\"text-align: left\">R<sup>2</sup></td><td>0.4</td><td>0.4</td></tr><tr><td style=\"text-align: left\">Adjusted R<sup>2</sup></td><td>0.39</td><td>0.39</td></tr><tr><td style=\"text-align: left\">Residual Std. Error</td><td>59.98</td><td>59.98</td></tr><tr><td style=\"text-align: left\">F Statistic</td><td>72.91<sup>***</sup></td><td>48.91<sup>***</sup></td></tr><tr><td colspan=\"3\" style=\"border-bottom: 1px solid black\"></td></tr><tr><td style=\"text-align: left\">Note:</td>\n",
       " <td colspan=\"2\" style=\"text-align: right\">\n",
       "  <sup>*</sup>p&lt;0.1;\n",
       "  <sup>**</sup>p&lt;0.05;\n",
       "  <sup>***</sup>p&lt;0.01\n",
       " </td></tr></table>"
      ],
      "text/plain": [
       "<IPython.core.display.HTML object>"
      ]
     },
     "execution_count": 35,
     "metadata": {},
     "output_type": "execute_result"
    }
   ],
   "source": [
    "HTML(stargazer.render_html())"
   ]
  },
  {
   "cell_type": "code",
   "execution_count": 36,
   "metadata": {},
   "outputs": [
    {
     "data": {
      "text/latex": [
       "\\begin{table}[!htbp] \\centering\n",
       "  \\caption{Diabetes Study}\n",
       "  \\label{}\n",
       "\\begin{tabular}{@{\\extracolsep{5pt}}lcc}\n",
       "\\\\[-1.8ex]\\hline\n",
       "\\hline \\\\[-1.8ex]\n",
       "& \\multicolumn{2}{c}{\\textit{Dependent variable:}} \\\n",
       "\\cr \\cline{2-3}\n",
       "\\\\[-1.8ex] & (1) & (2) \\\\\n",
       "\\hline \\\\[-1.8ex]\n",
       " BMI & 787.18$^{***}$ & 789.74$^{***}$ \\\\\n",
       "  & (658.59 , 915.76) & (658.28 , 921.2) \\\\\n",
       "  & & \\\\\n",
       " Oldness & 37.24$^{}$ & 24.7$^{}$ \\\\\n",
       "  & (-88.78 , 163.26) & (-103.86 , 153.26) \\\\\n",
       "  & & \\\\\n",
       " S1 & & 197.85$^{}$ \\\\\n",
       "  & & (-84.8 , 480.51) \\\\\n",
       "  & & \\\\\n",
       " Sex & -106.58$^{*}$ & -82.86$^{}$ \\\\\n",
       "  & (-228.68 , 15.52) & (-210.32 , 44.6) \\\\\n",
       "  & & \\\\\n",
       "\\hline \\\\[-1.8ex]\n",
       " Observations & 442.0 & 442.0 \\\\\n",
       " R${2}$ & 0.4 & 0.4 \\\\\n",
       " Adjusted R${2}$ & 0.39 & 0.39 \\\\\n",
       " Residual Std. Error & 59.98 & 59.98  \\\\\n",
       " F Statistic & 72.91$^{***}$  & 48.91$^{***}$  \\\\\n",
       "\\hline\n",
       "\\hline \\\\[-1.8ex]\n",
       "\\textit{Note:} & \\multicolumn{2}{r}{$^{*}$p$<$0.1; $^{**}$p$<$0.05; $^{***}$p$<$0.01} \\\\\n",
       "\\end{tabular}\n",
       "\\end{table}"
      ],
      "text/plain": [
       "<IPython.core.display.Latex object>"
      ]
     },
     "execution_count": 36,
     "metadata": {},
     "output_type": "execute_result"
    }
   ],
   "source": [
    "Latex(stargazer.render_latex())"
   ]
  },
  {
   "cell_type": "code",
   "execution_count": 38,
   "metadata": {},
   "outputs": [],
   "source": [
    "stargazer.add_custom_notes(['First note', 'Second note'])"
   ]
  },
  {
   "cell_type": "code",
   "execution_count": 39,
   "metadata": {},
   "outputs": [
    {
     "data": {
      "text/html": [
       "Diabetes Study<br><table style=\"text-align:center\"><tr><td colspan=\"3\" style=\"border-bottom: 1px solid black\"></td></tr><tr><td style=\"text-align:left\"></td><td colspan=\"2\"><em>Dependent variable:</em></td></tr><tr><td style=\"text-align:left\"></td><tr><td style=\"text-align:left\"></td><td>(1)</td><td>(2)</td></tr><tr><td colspan=\"3\" style=\"border-bottom: 1px solid black\"></td></tr><tr><td style=\"text-align:left\">BMI</td><td>787.18<sup>***</sup></td><td>789.74<sup>***</sup></td></tr><tr><td style=\"text-align:left\"></td><td>(658.59 , 915.76)</td><td>(658.28 , 921.2)</td></tr><tr><td style=\"text-align:left\">Oldness</td><td>37.24<sup></sup></td><td>24.7<sup></sup></td></tr><tr><td style=\"text-align:left\"></td><td>(-88.78 , 163.26)</td><td>(-103.86 , 153.26)</td></tr><tr><td style=\"text-align:left\">S1</td><td></td><td>197.85<sup></sup></td></tr><tr><td style=\"text-align:left\"></td><td></td><td>(-84.8 , 480.51)</td></tr><tr><td style=\"text-align:left\">Sex</td><td>-106.58<sup>*</sup></td><td>-82.86<sup></sup></td></tr><tr><td style=\"text-align:left\"></td><td>(-228.68 , 15.52)</td><td>(-210.32 , 44.6)</td></tr><td colspan=\"3\" style=\"border-bottom: 1px solid black\"></td></tr><tr><td style=\"text-align: left\">Observations</td><td>442.0</td><td>442.0</td></tr><tr><td style=\"text-align: left\">R<sup>2</sup></td><td>0.4</td><td>0.4</td></tr><tr><td style=\"text-align: left\">Adjusted R<sup>2</sup></td><td>0.39</td><td>0.39</td></tr><tr><td style=\"text-align: left\">Residual Std. Error</td><td>59.98</td><td>59.98</td></tr><tr><td style=\"text-align: left\">F Statistic</td><td>72.91<sup>***</sup></td><td>48.91<sup>***</sup></td></tr><tr><td colspan=\"3\" style=\"border-bottom: 1px solid black\"></td></tr><tr><td style=\"text-align: left\">Note:</td>\n",
       " <td colspan=\"2\" style=\"text-align: right\">\n",
       "  <sup>*</sup>p&lt;0.1;\n",
       "  <sup>**</sup>p&lt;0.05;\n",
       "  <sup>***</sup>p&lt;0.01\n",
       " </td></tr><tr><td></td><td colspan=\"2\" style=\"text-align: right\">First note</td></tr><tr><td></td><td colspan=\"2\" style=\"text-align: right\">Second note</td></tr></table>"
      ],
      "text/plain": [
       "<IPython.core.display.HTML object>"
      ]
     },
     "execution_count": 39,
     "metadata": {},
     "output_type": "execute_result"
    }
   ],
   "source": [
    "HTML(stargazer.render_html())"
   ]
  },
  {
   "cell_type": "code",
   "execution_count": 40,
   "metadata": {},
   "outputs": [
    {
     "data": {
      "text/latex": [
       "\\begin{table}[!htbp] \\centering\n",
       "  \\caption{Diabetes Study}\n",
       "  \\label{}\n",
       "\\begin{tabular}{@{\\extracolsep{5pt}}lcc}\n",
       "\\\\[-1.8ex]\\hline\n",
       "\\hline \\\\[-1.8ex]\n",
       "& \\multicolumn{2}{c}{\\textit{Dependent variable:}} \\\n",
       "\\cr \\cline{2-3}\n",
       "\\\\[-1.8ex] & (1) & (2) \\\\\n",
       "\\hline \\\\[-1.8ex]\n",
       " BMI & 787.18$^{***}$ & 789.74$^{***}$ \\\\\n",
       "  & (658.59 , 915.76) & (658.28 , 921.2) \\\\\n",
       "  & & \\\\\n",
       " Oldness & 37.24$^{}$ & 24.7$^{}$ \\\\\n",
       "  & (-88.78 , 163.26) & (-103.86 , 153.26) \\\\\n",
       "  & & \\\\\n",
       " S1 & & 197.85$^{}$ \\\\\n",
       "  & & (-84.8 , 480.51) \\\\\n",
       "  & & \\\\\n",
       " Sex & -106.58$^{*}$ & -82.86$^{}$ \\\\\n",
       "  & (-228.68 , 15.52) & (-210.32 , 44.6) \\\\\n",
       "  & & \\\\\n",
       "\\hline \\\\[-1.8ex]\n",
       " Observations & 442.0 & 442.0 \\\\\n",
       " R${2}$ & 0.4 & 0.4 \\\\\n",
       " Adjusted R${2}$ & 0.39 & 0.39 \\\\\n",
       " Residual Std. Error & 59.98 & 59.98  \\\\\n",
       " F Statistic & 72.91$^{***}$  & 48.91$^{***}$  \\\\\n",
       "\\hline\n",
       "\\hline \\\\[-1.8ex]\n",
       "\\textit{Note:} & \\multicolumn{2}{r}{$^{*}$p$<$0.1; $^{**}$p$<$0.05; $^{***}$p$<$0.01} \\\\\n",
       " & \\multicolumn{2}{r}\\textit{First note} \\\\\n",
       " & \\multicolumn{2}{r}\\textit{Second note} \\\\\n",
       "\\end{tabular}\n",
       "\\end{table}"
      ],
      "text/plain": [
       "<IPython.core.display.Latex object>"
      ]
     },
     "execution_count": 40,
     "metadata": {},
     "output_type": "execute_result"
    }
   ],
   "source": [
    "Latex(stargazer.render_latex())"
   ]
  },
  {
   "cell_type": "code",
   "execution_count": 43,
   "metadata": {},
   "outputs": [],
   "source": [
    "stargazer.significance_levels([0.1, 0.05, 0.07])"
   ]
  },
  {
   "cell_type": "code",
   "execution_count": 44,
   "metadata": {},
   "outputs": [
    {
     "data": {
      "text/html": [
       "Diabetes Study<br><table style=\"text-align:center\"><tr><td colspan=\"3\" style=\"border-bottom: 1px solid black\"></td></tr><tr><td style=\"text-align:left\"></td><td colspan=\"2\"><em>Dependent variable:</em></td></tr><tr><td style=\"text-align:left\"></td><tr><td style=\"text-align:left\"></td><td>(1)</td><td>(2)</td></tr><tr><td colspan=\"3\" style=\"border-bottom: 1px solid black\"></td></tr><tr><td style=\"text-align:left\">BMI</td><td>787.18<sup>***</sup></td><td>789.74<sup>***</sup></td></tr><tr><td style=\"text-align:left\"></td><td>(658.59 , 915.76)</td><td>(658.28 , 921.2)</td></tr><tr><td style=\"text-align:left\">Oldness</td><td>37.24<sup></sup></td><td>24.7<sup></sup></td></tr><tr><td style=\"text-align:left\"></td><td>(-88.78 , 163.26)</td><td>(-103.86 , 153.26)</td></tr><tr><td style=\"text-align:left\">S1</td><td></td><td>197.85<sup></sup></td></tr><tr><td style=\"text-align:left\"></td><td></td><td>(-84.8 , 480.51)</td></tr><tr><td style=\"text-align:left\">Sex</td><td>-106.58<sup>*</sup></td><td>-82.86<sup></sup></td></tr><tr><td style=\"text-align:left\"></td><td>(-228.68 , 15.52)</td><td>(-210.32 , 44.6)</td></tr><td colspan=\"3\" style=\"border-bottom: 1px solid black\"></td></tr><tr><td style=\"text-align: left\">Observations</td><td>442.0</td><td>442.0</td></tr><tr><td style=\"text-align: left\">R<sup>2</sup></td><td>0.4</td><td>0.4</td></tr><tr><td style=\"text-align: left\">Adjusted R<sup>2</sup></td><td>0.39</td><td>0.39</td></tr><tr><td style=\"text-align: left\">Residual Std. Error</td><td>59.98</td><td>59.98</td></tr><tr><td style=\"text-align: left\">F Statistic</td><td>72.91<sup>***</sup></td><td>48.91<sup>***</sup></td></tr><tr><td colspan=\"3\" style=\"border-bottom: 1px solid black\"></td></tr><tr><td style=\"text-align: left\">Note:</td>\n",
       " <td colspan=\"2\" style=\"text-align: right\">\n",
       "  <sup>*</sup>p&lt;0.1;\n",
       "  <sup>**</sup>p&lt;0.07;\n",
       "  <sup>***</sup>p&lt;0.05\n",
       " </td></tr><tr><td></td><td colspan=\"2\" style=\"text-align: right\">First note</td></tr><tr><td></td><td colspan=\"2\" style=\"text-align: right\">Second note</td></tr></table>"
      ],
      "text/plain": [
       "<IPython.core.display.HTML object>"
      ]
     },
     "execution_count": 44,
     "metadata": {},
     "output_type": "execute_result"
    }
   ],
   "source": [
    "HTML(stargazer.render_html())"
   ]
  },
  {
   "cell_type": "code",
   "execution_count": 45,
   "metadata": {},
   "outputs": [
    {
     "data": {
      "text/latex": [
       "\\begin{table}[!htbp] \\centering\n",
       "  \\caption{Diabetes Study}\n",
       "  \\label{}\n",
       "\\begin{tabular}{@{\\extracolsep{5pt}}lcc}\n",
       "\\\\[-1.8ex]\\hline\n",
       "\\hline \\\\[-1.8ex]\n",
       "& \\multicolumn{2}{c}{\\textit{Dependent variable:}} \\\n",
       "\\cr \\cline{2-3}\n",
       "\\\\[-1.8ex] & (1) & (2) \\\\\n",
       "\\hline \\\\[-1.8ex]\n",
       " BMI & 787.18$^{***}$ & 789.74$^{***}$ \\\\\n",
       "  & (658.59 , 915.76) & (658.28 , 921.2) \\\\\n",
       "  & & \\\\\n",
       " Oldness & 37.24$^{}$ & 24.7$^{}$ \\\\\n",
       "  & (-88.78 , 163.26) & (-103.86 , 153.26) \\\\\n",
       "  & & \\\\\n",
       " S1 & & 197.85$^{}$ \\\\\n",
       "  & & (-84.8 , 480.51) \\\\\n",
       "  & & \\\\\n",
       " Sex & -106.58$^{*}$ & -82.86$^{}$ \\\\\n",
       "  & (-228.68 , 15.52) & (-210.32 , 44.6) \\\\\n",
       "  & & \\\\\n",
       "\\hline \\\\[-1.8ex]\n",
       " Observations & 442.0 & 442.0 \\\\\n",
       " R${2}$ & 0.4 & 0.4 \\\\\n",
       " Adjusted R${2}$ & 0.39 & 0.39 \\\\\n",
       " Residual Std. Error & 59.98 & 59.98  \\\\\n",
       " F Statistic & 72.91$^{***}$  & 48.91$^{***}$  \\\\\n",
       "\\hline\n",
       "\\hline \\\\[-1.8ex]\n",
       "\\textit{Note:} & \\multicolumn{2}{r}{$^{*}$p$<$0.1; $^{**}$p$<$0.07; $^{***}$p$<$0.05} \\\\\n",
       " & \\multicolumn{2}{r}\\textit{First note} \\\\\n",
       " & \\multicolumn{2}{r}\\textit{Second note} \\\\\n",
       "\\end{tabular}\n",
       "\\end{table}"
      ],
      "text/plain": [
       "<IPython.core.display.Latex object>"
      ]
     },
     "execution_count": 45,
     "metadata": {},
     "output_type": "execute_result"
    }
   ],
   "source": [
    "Latex(stargazer.render_latex())"
   ]
  },
  {
   "cell_type": "code",
   "execution_count": 48,
   "metadata": {},
   "outputs": [],
   "source": [
    "stargazer.append_notes(False)"
   ]
  },
  {
   "cell_type": "code",
   "execution_count": 49,
   "metadata": {},
   "outputs": [
    {
     "data": {
      "text/html": [
       "Diabetes Study<br><table style=\"text-align:center\"><tr><td colspan=\"3\" style=\"border-bottom: 1px solid black\"></td></tr><tr><td style=\"text-align:left\"></td><td colspan=\"2\"><em>Dependent variable:</em></td></tr><tr><td style=\"text-align:left\"></td><tr><td style=\"text-align:left\"></td><td>(1)</td><td>(2)</td></tr><tr><td colspan=\"3\" style=\"border-bottom: 1px solid black\"></td></tr><tr><td style=\"text-align:left\">BMI</td><td>787.18<sup>***</sup></td><td>789.74<sup>***</sup></td></tr><tr><td style=\"text-align:left\"></td><td>(658.59 , 915.76)</td><td>(658.28 , 921.2)</td></tr><tr><td style=\"text-align:left\">Oldness</td><td>37.24<sup></sup></td><td>24.7<sup></sup></td></tr><tr><td style=\"text-align:left\"></td><td>(-88.78 , 163.26)</td><td>(-103.86 , 153.26)</td></tr><tr><td style=\"text-align:left\">S1</td><td></td><td>197.85<sup></sup></td></tr><tr><td style=\"text-align:left\"></td><td></td><td>(-84.8 , 480.51)</td></tr><tr><td style=\"text-align:left\">Sex</td><td>-106.58<sup>*</sup></td><td>-82.86<sup></sup></td></tr><tr><td style=\"text-align:left\"></td><td>(-228.68 , 15.52)</td><td>(-210.32 , 44.6)</td></tr><td colspan=\"3\" style=\"border-bottom: 1px solid black\"></td></tr><tr><td style=\"text-align: left\">Observations</td><td>442.0</td><td>442.0</td></tr><tr><td style=\"text-align: left\">R<sup>2</sup></td><td>0.4</td><td>0.4</td></tr><tr><td style=\"text-align: left\">Adjusted R<sup>2</sup></td><td>0.39</td><td>0.39</td></tr><tr><td style=\"text-align: left\">Residual Std. Error</td><td>59.98</td><td>59.98</td></tr><tr><td style=\"text-align: left\">F Statistic</td><td>72.91<sup>***</sup></td><td>48.91<sup>***</sup></td></tr><tr><td colspan=\"3\" style=\"border-bottom: 1px solid black\"></td></tr><tr><td style=\"text-align: left\">Note:</td></tr><td></td><td colspan=\"2\" style=\"text-align: right\">First note</td></tr><tr><td></td><td colspan=\"2\" style=\"text-align: right\">Second note</td></tr></table>"
      ],
      "text/plain": [
       "<IPython.core.display.HTML object>"
      ]
     },
     "execution_count": 49,
     "metadata": {},
     "output_type": "execute_result"
    }
   ],
   "source": [
    "HTML(stargazer.render_html())"
   ]
  },
  {
   "cell_type": "code",
   "execution_count": 50,
   "metadata": {},
   "outputs": [
    {
     "data": {
      "text/latex": [
       "\\begin{table}[!htbp] \\centering\n",
       "  \\caption{Diabetes Study}\n",
       "  \\label{}\n",
       "\\begin{tabular}{@{\\extracolsep{5pt}}lcc}\n",
       "\\\\[-1.8ex]\\hline\n",
       "\\hline \\\\[-1.8ex]\n",
       "& \\multicolumn{2}{c}{\\textit{Dependent variable:}} \\\n",
       "\\cr \\cline{2-3}\n",
       "\\\\[-1.8ex] & (1) & (2) \\\\\n",
       "\\hline \\\\[-1.8ex]\n",
       " BMI & 787.18$^{***}$ & 789.74$^{***}$ \\\\\n",
       "  & (658.59 , 915.76) & (658.28 , 921.2) \\\\\n",
       "  & & \\\\\n",
       " Oldness & 37.24$^{}$ & 24.7$^{}$ \\\\\n",
       "  & (-88.78 , 163.26) & (-103.86 , 153.26) \\\\\n",
       "  & & \\\\\n",
       " S1 & & 197.85$^{}$ \\\\\n",
       "  & & (-84.8 , 480.51) \\\\\n",
       "  & & \\\\\n",
       " Sex & -106.58$^{*}$ & -82.86$^{}$ \\\\\n",
       "  & (-228.68 , 15.52) & (-210.32 , 44.6) \\\\\n",
       "  & & \\\\\n",
       "\\hline \\\\[-1.8ex]\n",
       " Observations & 442.0 & 442.0 \\\\\n",
       " R${2}$ & 0.4 & 0.4 \\\\\n",
       " Adjusted R${2}$ & 0.39 & 0.39 \\\\\n",
       " Residual Std. Error & 59.98 & 59.98  \\\\\n",
       " F Statistic & 72.91$^{***}$  & 48.91$^{***}$  \\\\\n",
       "\\hline\n",
       "\\hline \\\\[-1.8ex]\n",
       "\\textit{Note:} & \\multicolumn{2}{r}\\textit{First note} \\\\\n",
       " & \\multicolumn{2}{r}\\textit{Second note} \\\\\n",
       "\\end{tabular}\n",
       "\\end{table}"
      ],
      "text/plain": [
       "<IPython.core.display.Latex object>"
      ]
     },
     "execution_count": 50,
     "metadata": {},
     "output_type": "execute_result"
    }
   ],
   "source": [
    "Latex(stargazer.render_latex())"
   ]
  },
  {
   "cell_type": "code",
   "execution_count": null,
   "metadata": {},
   "outputs": [],
   "source": []
  }
 ],
 "metadata": {
  "kernelspec": {
   "display_name": "Python 3",
   "language": "python",
   "name": "python3"
  },
  "language_info": {
   "codemirror_mode": {
    "name": "ipython",
    "version": 3
   },
   "file_extension": ".py",
   "mimetype": "text/x-python",
   "name": "python",
   "nbconvert_exporter": "python",
   "pygments_lexer": "ipython3",
   "version": "3.7.3"
  }
 },
 "nbformat": 4,
 "nbformat_minor": 2
}
